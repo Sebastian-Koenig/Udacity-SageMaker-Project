{
 "cells": [
  {
   "cell_type": "markdown",
   "metadata": {},
   "source": [
    "# Creating a Sentiment Analysis Web App\n",
    "## Using PyTorch and SageMaker\n",
    "\n",
    "_Deep Learning Nanodegree Program | Deployment_\n",
    "\n",
    "---\n",
    "\n",
    "Now that we have a basic understanding of how SageMaker works we will try to use it to construct a complete project from end to end. Our goal will be to have a simple web page which a user can use to enter a movie review. The web page will then send the review off to our deployed model which will predict the sentiment of the entered review.\n",
    "\n",
    "## Instructions\n",
    "\n",
    "Some template code has already been provided for you, and you will need to implement additional functionality to successfully complete this notebook. You will not need to modify the included code beyond what is requested. Sections that begin with '**TODO**' in the header indicate that you need to complete or implement some portion within them. Instructions will be provided for each section and the specifics of the implementation are marked in the code block with a `# TODO: ...` comment. Please be sure to read the instructions carefully!\n",
    "\n",
    "In addition to implementing code, there will be questions for you to answer which relate to the task and your implementation. Each section where you will answer a question is preceded by a '**Question:**' header. Carefully read each question and provide your answer below the '**Answer:**' header by editing the Markdown cell.\n",
    "\n",
    "> **Note**: Code and Markdown cells can be executed using the **Shift+Enter** keyboard shortcut. In addition, a cell can be edited by typically clicking it (double-click for Markdown cells) or by pressing **Enter** while it is highlighted.\n",
    "\n",
    "## General Outline\n",
    "\n",
    "Recall the general outline for SageMaker projects using a notebook instance.\n",
    "\n",
    "1. Download or otherwise retrieve the data.\n",
    "2. Process / Prepare the data.\n",
    "3. Upload the processed data to S3.\n",
    "4. Train a chosen model.\n",
    "5. Test the trained model (typically using a batch transform job).\n",
    "6. Deploy the trained model.\n",
    "7. Use the deployed model.\n",
    "\n",
    "For this project, you will be following the steps in the general outline with some modifications. \n",
    "\n",
    "First, you will not be testing the model in its own step. You will still be testing the model, however, you will do it by deploying your model and then using the deployed model by sending the test data to it. One of the reasons for doing this is so that you can make sure that your deployed model is working correctly before moving forward.\n",
    "\n",
    "In addition, you will deploy and use your trained model a second time. In the second iteration you will customize the way that your trained model is deployed by including some of your own code. In addition, your newly deployed model will be used in the sentiment analysis web app."
   ]
  },
  {
   "cell_type": "markdown",
   "metadata": {},
   "source": [
    "## Step 1: Downloading the data\n",
    "\n",
    "As in the XGBoost in SageMaker notebook, we will be using the [IMDb dataset](http://ai.stanford.edu/~amaas/data/sentiment/)\n",
    "\n",
    "> Maas, Andrew L., et al. [Learning Word Vectors for Sentiment Analysis](http://ai.stanford.edu/~amaas/data/sentiment/). In _Proceedings of the 49th Annual Meeting of the Association for Computational Linguistics: Human Language Technologies_. Association for Computational Linguistics, 2011."
   ]
  },
  {
   "cell_type": "code",
   "execution_count": 2,
   "metadata": {},
   "outputs": [
    {
     "name": "stdout",
     "output_type": "stream",
     "text": [
      "mkdir: cannot create directory ‘../data’: File exists\n",
      "--2019-11-18 17:49:15--  http://ai.stanford.edu/~amaas/data/sentiment/aclImdb_v1.tar.gz\n",
      "Resolving ai.stanford.edu (ai.stanford.edu)... 171.64.68.10\n",
      "Connecting to ai.stanford.edu (ai.stanford.edu)|171.64.68.10|:80... connected.\n",
      "HTTP request sent, awaiting response... 200 OK\n",
      "Length: 84125825 (80M) [application/x-gzip]\n",
      "Saving to: ‘../data/aclImdb_v1.tar.gz’\n",
      "\n",
      "../data/aclImdb_v1. 100%[===================>]  80.23M  17.2MB/s    in 5.4s    \n",
      "\n",
      "2019-11-18 17:49:20 (14.9 MB/s) - ‘../data/aclImdb_v1.tar.gz’ saved [84125825/84125825]\n",
      "\n"
     ]
    }
   ],
   "source": [
    "%mkdir ../data\n",
    "!wget -O ../data/aclImdb_v1.tar.gz http://ai.stanford.edu/~amaas/data/sentiment/aclImdb_v1.tar.gz\n",
    "!tar -zxf ../data/aclImdb_v1.tar.gz -C ../data"
   ]
  },
  {
   "cell_type": "markdown",
   "metadata": {},
   "source": [
    "## Step 2: Preparing and Processing the data\n",
    "\n",
    "Also, as in the XGBoost notebook, we will be doing some initial data processing. The first few steps are the same as in the XGBoost example. To begin with, we will read in each of the reviews and combine them into a single input structure. Then, we will split the dataset into a training set and a testing set."
   ]
  },
  {
   "cell_type": "code",
   "execution_count": 3,
   "metadata": {},
   "outputs": [],
   "source": [
    "import os\n",
    "import glob\n",
    "\n",
    "def read_imdb_data(data_dir='../data/aclImdb'):\n",
    "    data = {}\n",
    "    labels = {}\n",
    "    \n",
    "    for data_type in ['train', 'test']:\n",
    "        data[data_type] = {}\n",
    "        labels[data_type] = {}\n",
    "        \n",
    "        for sentiment in ['pos', 'neg']:\n",
    "            data[data_type][sentiment] = []\n",
    "            labels[data_type][sentiment] = []\n",
    "            \n",
    "            path = os.path.join(data_dir, data_type, sentiment, '*.txt')\n",
    "            files = glob.glob(path)\n",
    "            \n",
    "            for f in files:\n",
    "                with open(f) as review:\n",
    "                    data[data_type][sentiment].append(review.read())\n",
    "                    # Here we represent a positive review by '1' and a negative review by '0'\n",
    "                    labels[data_type][sentiment].append(1 if sentiment == 'pos' else 0)\n",
    "                    \n",
    "            assert len(data[data_type][sentiment]) == len(labels[data_type][sentiment]), \\\n",
    "                    \"{}/{} data size does not match labels size\".format(data_type, sentiment)\n",
    "                \n",
    "    return data, labels"
   ]
  },
  {
   "cell_type": "code",
   "execution_count": 4,
   "metadata": {},
   "outputs": [
    {
     "name": "stdout",
     "output_type": "stream",
     "text": [
      "IMDB reviews: train = 12500 pos / 12500 neg, test = 12500 pos / 12500 neg\n"
     ]
    }
   ],
   "source": [
    "data, labels = read_imdb_data()\n",
    "print(\"IMDB reviews: train = {} pos / {} neg, test = {} pos / {} neg\".format(\n",
    "            len(data['train']['pos']), len(data['train']['neg']),\n",
    "            len(data['test']['pos']), len(data['test']['neg'])))"
   ]
  },
  {
   "cell_type": "markdown",
   "metadata": {},
   "source": [
    "Now that we've read the raw training and testing data from the downloaded dataset, we will combine the positive and negative reviews and shuffle the resulting records."
   ]
  },
  {
   "cell_type": "code",
   "execution_count": 5,
   "metadata": {},
   "outputs": [],
   "source": [
    "from sklearn.utils import shuffle\n",
    "\n",
    "def prepare_imdb_data(data, labels):\n",
    "    \"\"\"Prepare training and test sets from IMDb movie reviews.\"\"\"\n",
    "    \n",
    "    #Combine positive and negative reviews and labels\n",
    "    data_train = data['train']['pos'] + data['train']['neg']\n",
    "    data_test = data['test']['pos'] + data['test']['neg']\n",
    "    labels_train = labels['train']['pos'] + labels['train']['neg']\n",
    "    labels_test = labels['test']['pos'] + labels['test']['neg']\n",
    "    \n",
    "    #Shuffle reviews and corresponding labels within training and test sets\n",
    "    data_train, labels_train = shuffle(data_train, labels_train)\n",
    "    data_test, labels_test = shuffle(data_test, labels_test)\n",
    "    \n",
    "    # Return a unified training data, test data, training labels, test labets\n",
    "    return data_train, data_test, labels_train, labels_test"
   ]
  },
  {
   "cell_type": "code",
   "execution_count": 6,
   "metadata": {},
   "outputs": [
    {
     "name": "stdout",
     "output_type": "stream",
     "text": [
      "IMDb reviews (combined): train = 25000, test = 25000\n"
     ]
    }
   ],
   "source": [
    "train_X, test_X, train_y, test_y = prepare_imdb_data(data, labels)\n",
    "print(\"IMDb reviews (combined): train = {}, test = {}\".format(len(train_X), len(test_X)))"
   ]
  },
  {
   "cell_type": "markdown",
   "metadata": {},
   "source": [
    "Now that we have our training and testing sets unified and prepared, we should do a quick check and see an example of the data our model will be trained on. This is generally a good idea as it allows you to see how each of the further processing steps affects the reviews and it also ensures that the data has been loaded correctly."
   ]
  },
  {
   "cell_type": "code",
   "execution_count": 7,
   "metadata": {},
   "outputs": [
    {
     "name": "stdout",
     "output_type": "stream",
     "text": [
      "How the Grinch Stole Christmas was a wonderful little Christmas cartoon that anyone could easily enjoy, I never did see the reason for a remake. Not to mention a remake that was made with humans, the cartoon was just perfect enough, what's the purpose of this film? But it also seemed a little odd for Jim Carrey to be the Grinch. I mean he's a great comedic actor, but him as the Grinch? It just didn't make any sense to me. His performance was a little over the top and unintentionally laughable at moments. Not to mention some of the added dialog was a bit childish and not enjoyable. The whole story of the Grinch and Cindy Lou-Who was over done and wasn't needed. They actually just destroyed the story, period.<br /><br />All the who's in Whoville are getting ready for their best Christmas season yet where everything is intended to go perfectly. But Cindy Lou-Who is curious and worried about the Grinch that lives above them and that he's not going to get as good of a Christmas as the other who's. He kicks her out and decides that he doesn't want Christmas this year and that in fact he should just steal Christmas all together to show the who's what his version of Christmas is all about. But soon he realizes that the who's may know that it's a little bit more than what is the materialized version of Christmas.<br /><br />How the Grinch Stole Christmas wasn't needed and was a bit over the top. I really recommend that you stick with the cartoon just for the simple fact that this is a pretty disturbing version, at least in my opinion. The make up and presentation of the whole film was just a bit over done, not to mention that How the Grinch Stole Christmas! was more meant to be as a cartoon rather than a version starring Jim Carry. But at least this version makes you grateful for the Boris Karloff version that is played every Christmas.<br /><br />1/10\n",
      "0\n"
     ]
    }
   ],
   "source": [
    "print(train_X[100])\n",
    "print(train_y[100])"
   ]
  },
  {
   "cell_type": "markdown",
   "metadata": {},
   "source": [
    "The first step in processing the reviews is to make sure that any html tags that appear should be removed. In addition we wish to tokenize our input, that way words such as *entertained* and *entertaining* are considered the same with regard to sentiment analysis."
   ]
  },
  {
   "cell_type": "code",
   "execution_count": 8,
   "metadata": {},
   "outputs": [],
   "source": [
    "import nltk\n",
    "from nltk.corpus import stopwords\n",
    "from nltk.stem.porter import *\n",
    "\n",
    "import re\n",
    "from bs4 import BeautifulSoup\n",
    "\n",
    "def review_to_words(review):\n",
    "    nltk.download(\"stopwords\", quiet=True)\n",
    "    stemmer = PorterStemmer()\n",
    "    \n",
    "    text = BeautifulSoup(review, \"html.parser\").get_text() # Remove HTML tags\n",
    "    text = re.sub(r\"[^a-zA-Z0-9]\", \" \", text.lower()) # Convert to lower case\n",
    "    words = text.split() # Split string into words\n",
    "    words = [w for w in words if w not in stopwords.words(\"english\")] # Remove stopwords\n",
    "    words = [PorterStemmer().stem(w) for w in words] # stem\n",
    "    \n",
    "    return words"
   ]
  },
  {
   "cell_type": "markdown",
   "metadata": {},
   "source": [
    "The `review_to_words` method defined above uses `BeautifulSoup` to remove any html tags that appear and uses the `nltk` package to tokenize the reviews. As a check to ensure we know how everything is working, try applying `review_to_words` to one of the reviews in the training set."
   ]
  },
  {
   "cell_type": "code",
   "execution_count": 9,
   "metadata": {},
   "outputs": [
    {
     "data": {
      "text/plain": [
       "['grinch',\n",
       " 'stole',\n",
       " 'christma',\n",
       " 'wonder',\n",
       " 'littl',\n",
       " 'christma',\n",
       " 'cartoon',\n",
       " 'anyon',\n",
       " 'could',\n",
       " 'easili',\n",
       " 'enjoy',\n",
       " 'never',\n",
       " 'see',\n",
       " 'reason',\n",
       " 'remak',\n",
       " 'mention',\n",
       " 'remak',\n",
       " 'made',\n",
       " 'human',\n",
       " 'cartoon',\n",
       " 'perfect',\n",
       " 'enough',\n",
       " 'purpos',\n",
       " 'film',\n",
       " 'also',\n",
       " 'seem',\n",
       " 'littl',\n",
       " 'odd',\n",
       " 'jim',\n",
       " 'carrey',\n",
       " 'grinch',\n",
       " 'mean',\n",
       " 'great',\n",
       " 'comed',\n",
       " 'actor',\n",
       " 'grinch',\n",
       " 'make',\n",
       " 'sens',\n",
       " 'perform',\n",
       " 'littl',\n",
       " 'top',\n",
       " 'unintent',\n",
       " 'laughabl',\n",
       " 'moment',\n",
       " 'mention',\n",
       " 'ad',\n",
       " 'dialog',\n",
       " 'bit',\n",
       " 'childish',\n",
       " 'enjoy',\n",
       " 'whole',\n",
       " 'stori',\n",
       " 'grinch',\n",
       " 'cindi',\n",
       " 'lou',\n",
       " 'done',\n",
       " 'need',\n",
       " 'actual',\n",
       " 'destroy',\n",
       " 'stori',\n",
       " 'period',\n",
       " 'whovil',\n",
       " 'get',\n",
       " 'readi',\n",
       " 'best',\n",
       " 'christma',\n",
       " 'season',\n",
       " 'yet',\n",
       " 'everyth',\n",
       " 'intend',\n",
       " 'go',\n",
       " 'perfectli',\n",
       " 'cindi',\n",
       " 'lou',\n",
       " 'curiou',\n",
       " 'worri',\n",
       " 'grinch',\n",
       " 'live',\n",
       " 'go',\n",
       " 'get',\n",
       " 'good',\n",
       " 'christma',\n",
       " 'kick',\n",
       " 'decid',\n",
       " 'want',\n",
       " 'christma',\n",
       " 'year',\n",
       " 'fact',\n",
       " 'steal',\n",
       " 'christma',\n",
       " 'togeth',\n",
       " 'show',\n",
       " 'version',\n",
       " 'christma',\n",
       " 'soon',\n",
       " 'realiz',\n",
       " 'may',\n",
       " 'know',\n",
       " 'littl',\n",
       " 'bit',\n",
       " 'materi',\n",
       " 'version',\n",
       " 'christma',\n",
       " 'grinch',\n",
       " 'stole',\n",
       " 'christma',\n",
       " 'need',\n",
       " 'bit',\n",
       " 'top',\n",
       " 'realli',\n",
       " 'recommend',\n",
       " 'stick',\n",
       " 'cartoon',\n",
       " 'simpl',\n",
       " 'fact',\n",
       " 'pretti',\n",
       " 'disturb',\n",
       " 'version',\n",
       " 'least',\n",
       " 'opinion',\n",
       " 'make',\n",
       " 'present',\n",
       " 'whole',\n",
       " 'film',\n",
       " 'bit',\n",
       " 'done',\n",
       " 'mention',\n",
       " 'grinch',\n",
       " 'stole',\n",
       " 'christma',\n",
       " 'meant',\n",
       " 'cartoon',\n",
       " 'rather',\n",
       " 'version',\n",
       " 'star',\n",
       " 'jim',\n",
       " 'carri',\n",
       " 'least',\n",
       " 'version',\n",
       " 'make',\n",
       " 'grate',\n",
       " 'bori',\n",
       " 'karloff',\n",
       " 'version',\n",
       " 'play',\n",
       " 'everi',\n",
       " 'christma',\n",
       " '1',\n",
       " '10']"
      ]
     },
     "execution_count": 9,
     "metadata": {},
     "output_type": "execute_result"
    }
   ],
   "source": [
    "# TODO: Apply review_to_words to a review (train_X[100] or any other review)\n",
    "review_to_words(train_X[100])"
   ]
  },
  {
   "cell_type": "markdown",
   "metadata": {},
   "source": [
    "**Question:** Above we mentioned that `review_to_words` method removes html formatting and allows us to tokenize the words found in a review, for example, converting *entertained* and *entertaining* into *entertain* so that they are treated as though they are the same word. What else, if anything, does this method do to the input?"
   ]
  },
  {
   "cell_type": "markdown",
   "metadata": {},
   "source": [
    "**Answer:** It splits the words in the review into seperate string entities in a list, sets everything to lower case and deletes stopwords (the most commom words in the english language that will have no bearing on the sentiment such as \"the\" or \"a\")."
   ]
  },
  {
   "cell_type": "markdown",
   "metadata": {},
   "source": [
    "The method below applies the `review_to_words` method to each of the reviews in the training and testing datasets. In addition it caches the results. This is because performing this processing step can take a long time. This way if you are unable to complete the notebook in the current session, you can come back without needing to process the data a second time."
   ]
  },
  {
   "cell_type": "code",
   "execution_count": 10,
   "metadata": {},
   "outputs": [],
   "source": [
    "import pickle\n",
    "\n",
    "cache_dir = os.path.join(\"../cache\", \"sentiment_analysis\")  # where to store cache files\n",
    "os.makedirs(cache_dir, exist_ok=True)  # ensure cache directory exists\n",
    "\n",
    "def preprocess_data(data_train, data_test, labels_train, labels_test,\n",
    "                    cache_dir=cache_dir, cache_file=\"preprocessed_data.pkl\"):\n",
    "    \"\"\"Convert each review to words; read from cache if available.\"\"\"\n",
    "\n",
    "    # If cache_file is not None, try to read from it first\n",
    "    cache_data = None\n",
    "    if cache_file is not None:\n",
    "        try:\n",
    "            with open(os.path.join(cache_dir, cache_file), \"rb\") as f:\n",
    "                cache_data = pickle.load(f)\n",
    "            print(\"Read preprocessed data from cache file:\", cache_file)\n",
    "        except:\n",
    "            pass  # unable to read from cache, but that's okay\n",
    "    \n",
    "    # If cache is missing, then do the heavy lifting\n",
    "    if cache_data is None:\n",
    "        # Preprocess training and test data to obtain words for each review\n",
    "        #words_train = list(map(review_to_words, data_train))\n",
    "        #words_test = list(map(review_to_words, data_test))\n",
    "        words_train = [review_to_words(review) for review in data_train]\n",
    "        words_test = [review_to_words(review) for review in data_test]\n",
    "        \n",
    "        # Write to cache file for future runs\n",
    "        if cache_file is not None:\n",
    "            cache_data = dict(words_train=words_train, words_test=words_test,\n",
    "                              labels_train=labels_train, labels_test=labels_test)\n",
    "            with open(os.path.join(cache_dir, cache_file), \"wb\") as f:\n",
    "                pickle.dump(cache_data, f)\n",
    "            print(\"Wrote preprocessed data to cache file:\", cache_file)\n",
    "    else:\n",
    "        # Unpack data loaded from cache file\n",
    "        words_train, words_test, labels_train, labels_test = (cache_data['words_train'],\n",
    "                cache_data['words_test'], cache_data['labels_train'], cache_data['labels_test'])\n",
    "    \n",
    "    return words_train, words_test, labels_train, labels_test"
   ]
  },
  {
   "cell_type": "code",
   "execution_count": 11,
   "metadata": {},
   "outputs": [
    {
     "name": "stdout",
     "output_type": "stream",
     "text": [
      "Read preprocessed data from cache file: preprocessed_data.pkl\n"
     ]
    }
   ],
   "source": [
    "# Preprocess data\n",
    "train_X, test_X, train_y, test_y = preprocess_data(train_X, test_X, train_y, test_y)"
   ]
  },
  {
   "cell_type": "markdown",
   "metadata": {},
   "source": [
    "## Transform the data\n",
    "\n",
    "In the XGBoost notebook we transformed the data from its word representation to a bag-of-words feature representation. For the model we are going to construct in this notebook we will construct a feature representation which is very similar. To start, we will represent each word as an integer. Of course, some of the words that appear in the reviews occur very infrequently and so likely don't contain much information for the purposes of sentiment analysis. The way we will deal with this problem is that we will fix the size of our working vocabulary and we will only include the words that appear most frequently. We will then combine all of the infrequent words into a single category and, in our case, we will label it as `1`.\n",
    "\n",
    "Since we will be using a recurrent neural network, it will be convenient if the length of each review is the same. To do this, we will fix a size for our reviews and then pad short reviews with the category 'no word' (which we will label `0`) and truncate long reviews."
   ]
  },
  {
   "cell_type": "markdown",
   "metadata": {},
   "source": [
    "### (TODO) Create a word dictionary\n",
    "\n",
    "To begin with, we need to construct a way to map words that appear in the reviews to integers. Here we fix the size of our vocabulary (including the 'no word' and 'infrequent' categories) to be `5000` but you may wish to change this to see how it affects the model.\n",
    "\n",
    "> **TODO:** Complete the implementation for the `build_dict()` method below. Note that even though the vocab_size is set to `5000`, we only want to construct a mapping for the most frequently appearing `4998` words. This is because we want to reserve the special labels `0` for 'no word' and `1` for 'infrequent word'."
   ]
  },
  {
   "cell_type": "code",
   "execution_count": 12,
   "metadata": {},
   "outputs": [],
   "source": [
    "import numpy as np\n",
    "import re\n",
    "from collections import Counter\n",
    "\n",
    "def build_dict(data, vocab_size = 5000):\n",
    "    \"\"\"Construct and return a dictionary mapping each of the most frequently appearing words to a unique integer.\"\"\"\n",
    "    \n",
    "    # TODO: Determine how often each word appears in `data`. Note that `data` is a list of sentences and that a\n",
    "    #       sentence is a list of words.\n",
    "    \n",
    "    word_count = Counter(np.concatenate( data, axis=0 ))\n",
    "    # A dict storing the words that appear in the reviews along with how often they occur\n",
    "    \n",
    "    # TODO: Sort the words found in `data` so that sorted_words[0] is the most frequently appearing word and\n",
    "    #       sorted_words[-1] is the least frequently appearing word.\n",
    "    \n",
    "    sorted_words = sorted(word_count, key=word_count.get, reverse=True)\n",
    "    \n",
    "    \n",
    "    word_dict = {} # This is what we are building, a dictionary that translates words into integers\n",
    "    for idx, word in enumerate(sorted_words[:vocab_size - 2]): # The -2 is so that we save room for the 'no word'\n",
    "        word_dict[word] = idx + 2                              # 'infrequent' labels\n",
    "        \n",
    "    return word_dict"
   ]
  },
  {
   "cell_type": "code",
   "execution_count": 13,
   "metadata": {},
   "outputs": [],
   "source": [
    "word_dict = build_dict(train_X)"
   ]
  },
  {
   "cell_type": "markdown",
   "metadata": {},
   "source": [
    "**Question:** What are the five most frequently appearing (tokenized) words in the training set? Does it makes sense that these words appear frequently in the training set?"
   ]
  },
  {
   "cell_type": "markdown",
   "metadata": {},
   "source": [
    "**Answer:** movi, film, one, like, and time are the most frequently used words. They do not say much about the sentiment of the review and thus are not very useful for the training of our model. However, it does make sense for these to be the most common words in movie reviews. "
   ]
  },
  {
   "cell_type": "code",
   "execution_count": 14,
   "metadata": {},
   "outputs": [
    {
     "name": "stdout",
     "output_type": "stream",
     "text": [
      "{'movi': 2, 'film': 3, 'one': 4, 'like': 5, 'time': 6, 'good': 7, 'make': 8, 'charact': 9, 'get': 10, 'see': 11, 'watch': 12, 'stori': 13, 'even': 14, 'would': 15, 'realli': 16, 'well': 17, 'scene': 18, 'look': 19, 'show': 20, 'much': 21, 'end': 22, 'peopl': 23, 'bad': 24, 'go': 25, 'great': 26, 'also': 27, 'first': 28, 'love': 29, 'think': 30, 'way': 31, 'act': 32, 'play': 33, 'made': 34, 'thing': 35, 'could': 36, 'know': 37, 'say': 38, 'seem': 39, 'work': 40, 'plot': 41, 'two': 42, 'actor': 43, 'year': 44, 'come': 45, 'mani': 46, 'seen': 47, 'take': 48, 'want': 49, 'life': 50, 'never': 51, 'littl': 52, 'best': 53, 'tri': 54, 'man': 55, 'ever': 56, 'give': 57, 'better': 58, 'still': 59, 'perform': 60, 'find': 61, 'feel': 62, 'part': 63, 'back': 64, 'use': 65, 'someth': 66, 'director': 67, 'actual': 68, 'interest': 69, 'lot': 70, 'real': 71, 'old': 72, 'cast': 73, 'though': 74, 'live': 75, 'star': 76, 'enjoy': 77, 'guy': 78, 'anoth': 79, 'new': 80, 'role': 81, 'noth': 82, '10': 83, 'funni': 84, 'music': 85, 'point': 86, 'start': 87, 'set': 88, 'girl': 89, 'origin': 90, 'day': 91, 'world': 92, 'everi': 93, 'believ': 94, 'turn': 95, 'quit': 96, 'us': 97, 'direct': 98, 'thought': 99, 'fact': 100, 'minut': 101, 'horror': 102, 'kill': 103, 'action': 104, 'comedi': 105, 'pretti': 106, 'young': 107, 'wonder': 108, 'happen': 109, 'around': 110, 'got': 111, 'effect': 112, 'right': 113, 'long': 114, 'howev': 115, 'big': 116, 'line': 117, 'famili': 118, 'enough': 119, 'seri': 120, 'may': 121, 'need': 122, 'fan': 123, 'bit': 124, 'script': 125, 'beauti': 126, 'person': 127, 'becom': 128, 'without': 129, 'must': 130, 'alway': 131, 'friend': 132, 'tell': 133, 'reason': 134, 'saw': 135, 'last': 136, 'final': 137, 'kid': 138, 'almost': 139, 'put': 140, 'least': 141, 'sure': 142, 'done': 143, 'whole': 144, 'place': 145, 'complet': 146, 'kind': 147, 'expect': 148, 'differ': 149, 'shot': 150, 'far': 151, 'mean': 152, 'anyth': 153, 'book': 154, 'laugh': 155, 'might': 156, 'name': 157, 'sinc': 158, 'begin': 159, '2': 160, 'probabl': 161, 'woman': 162, 'help': 163, 'entertain': 164, 'let': 165, 'screen': 166, 'call': 167, 'tv': 168, 'moment': 169, 'away': 170, 'read': 171, 'yet': 172, 'rather': 173, 'worst': 174, 'run': 175, 'fun': 176, 'lead': 177, 'hard': 178, 'audienc': 179, 'idea': 180, 'anyon': 181, 'episod': 182, 'american': 183, 'found': 184, 'appear': 185, 'bore': 186, 'especi': 187, 'although': 188, 'hope': 189, 'keep': 190, 'cours': 191, 'anim': 192, 'job': 193, 'goe': 194, 'move': 195, 'sens': 196, 'dvd': 197, 'version': 198, 'war': 199, 'money': 200, 'someon': 201, 'mind': 202, 'mayb': 203, 'problem': 204, 'true': 205, 'hous': 206, 'everyth': 207, 'nice': 208, 'second': 209, 'rate': 210, 'three': 211, 'night': 212, 'face': 213, 'follow': 214, 'recommend': 215, 'main': 216, 'product': 217, 'worth': 218, 'leav': 219, 'human': 220, 'special': 221, 'excel': 222, 'togeth': 223, 'wast': 224, 'everyon': 225, 'sound': 226, 'john': 227, 'hand': 228, '1': 229, 'father': 230, 'later': 231, 'eye': 232, 'said': 233, 'view': 234, 'instead': 235, 'review': 236, 'boy': 237, 'high': 238, 'hour': 239, 'miss': 240, 'classic': 241, 'talk': 242, 'wife': 243, 'understand': 244, 'left': 245, 'care': 246, 'black': 247, 'death': 248, 'open': 249, 'murder': 250, 'write': 251, 'half': 252, 'head': 253, 'rememb': 254, 'chang': 255, 'viewer': 256, 'fight': 257, 'gener': 258, 'surpris': 259, 'short': 260, 'includ': 261, 'die': 262, 'fall': 263, 'less': 264, 'els': 265, 'entir': 266, 'piec': 267, 'involv': 268, 'pictur': 269, 'simpli': 270, 'home': 271, 'power': 272, 'top': 273, 'total': 274, 'usual': 275, 'budget': 276, 'attempt': 277, 'suppos': 278, 'releas': 279, 'hollywood': 280, 'terribl': 281, 'song': 282, 'men': 283, 'possibl': 284, 'featur': 285, 'portray': 286, 'disappoint': 287, 'poor': 288, '3': 289, 'coupl': 290, 'stupid': 291, 'camera': 292, 'dead': 293, 'wrong': 294, 'low': 295, 'produc': 296, 'video': 297, 'either': 298, 'aw': 299, 'definit': 300, 'except': 301, 'rest': 302, 'given': 303, 'absolut': 304, 'women': 305, 'lack': 306, 'word': 307, 'writer': 308, 'titl': 309, 'talent': 310, 'decid': 311, 'full': 312, 'perfect': 313, 'along': 314, 'style': 315, 'close': 316, 'truli': 317, 'school': 318, 'emot': 319, 'save': 320, 'age': 321, 'sex': 322, 'next': 323, 'bring': 324, 'mr': 325, 'case': 326, 'killer': 327, 'heart': 328, 'comment': 329, 'sort': 330, 'creat': 331, 'perhap': 332, 'came': 333, 'brother': 334, 'sever': 335, 'joke': 336, 'art': 337, 'dialogu': 338, 'game': 339, 'small': 340, 'base': 341, 'flick': 342, 'written': 343, 'sequenc': 344, 'meet': 345, 'earli': 346, 'often': 347, 'other': 348, 'mother': 349, 'develop': 350, 'humor': 351, 'actress': 352, 'consid': 353, 'dark': 354, 'guess': 355, 'amaz': 356, 'unfortun': 357, 'lost': 358, 'light': 359, 'exampl': 360, 'cinema': 361, 'drama': 362, 'ye': 363, 'white': 364, 'experi': 365, 'imagin': 366, 'mention': 367, 'stop': 368, 'natur': 369, 'forc': 370, 'manag': 371, 'felt': 372, 'cut': 373, 'present': 374, 'children': 375, 'fail': 376, 'son': 377, 'support': 378, 'car': 379, 'qualiti': 380, 'ask': 381, 'hit': 382, 'side': 383, 'voic': 384, 'extrem': 385, 'impress': 386, 'evil': 387, 'wors': 388, 'stand': 389, 'went': 390, 'certainli': 391, 'basic': 392, 'oh': 393, 'overal': 394, 'favorit': 395, 'horribl': 396, 'mysteri': 397, 'number': 398, 'type': 399, 'danc': 400, 'wait': 401, 'hero': 402, '5': 403, 'alreadi': 404, 'learn': 405, 'matter': 406, '4': 407, 'michael': 408, 'genr': 409, 'fine': 410, 'despit': 411, 'throughout': 412, 'walk': 413, 'success': 414, 'histori': 415, 'question': 416, 'zombi': 417, 'town': 418, 'relationship': 419, 'realiz': 420, 'child': 421, 'past': 422, 'daughter': 423, 'late': 424, 'b': 425, 'wish': 426, 'credit': 427, 'hate': 428, 'event': 429, 'theme': 430, 'touch': 431, 'citi': 432, 'today': 433, 'sometim': 434, 'behind': 435, 'god': 436, 'twist': 437, 'sit': 438, 'deal': 439, 'annoy': 440, 'stay': 441, 'abl': 442, 'rent': 443, 'pleas': 444, 'edit': 445, 'blood': 446, 'deserv': 447, 'comic': 448, 'anyway': 449, 'appar': 450, 'soon': 451, 'gave': 452, 'etc': 453, 'level': 454, 'slow': 455, 'chanc': 456, 'score': 457, 'bodi': 458, 'brilliant': 459, 'incred': 460, 'figur': 461, 'situat': 462, 'self': 463, 'major': 464, 'stuff': 465, 'decent': 466, 'element': 467, 'dream': 468, 'return': 469, 'obvious': 470, 'continu': 471, 'order': 472, 'pace': 473, 'ridicul': 474, 'happi': 475, 'add': 476, 'group': 477, 'highli': 478, 'thank': 479, 'ladi': 480, 'novel': 481, 'speak': 482, 'pain': 483, 'career': 484, 'shoot': 485, 'strang': 486, 'heard': 487, 'sad': 488, 'husband': 489, 'polic': 490, 'import': 491, 'break': 492, 'took': 493, 'strong': 494, 'cannot': 495, 'predict': 496, 'robert': 497, 'violenc': 498, 'hilari': 499, 'recent': 500, 'countri': 501, 'known': 502, 'particularli': 503, 'pick': 504, 'documentari': 505, 'season': 506, 'critic': 507, 'jame': 508, 'compar': 509, 'alon': 510, 'obviou': 511, 'told': 512, 'state': 513, 'visual': 514, 'rock': 515, 'theater': 516, 'offer': 517, 'exist': 518, 'opinion': 519, 'gore': 520, 'hold': 521, 'crap': 522, 'result': 523, 'realiti': 524, 'room': 525, 'hear': 526, 'clich': 527, 'effort': 528, 'thriller': 529, 'caus': 530, 'sequel': 531, 'explain': 532, 'serious': 533, 'king': 534, 'local': 535, 'ago': 536, 'none': 537, 'hell': 538, 'note': 539, 'allow': 540, 'david': 541, 'sister': 542, 'simpl': 543, 'femal': 544, 'deliv': 545, 'ok': 546, 'convinc': 547, 'class': 548, 'check': 549, 'suspens': 550, 'win': 551, 'buy': 552, 'oscar': 553, 'huge': 554, 'valu': 555, 'sexual': 556, 'cool': 557, 'scari': 558, 'excit': 559, 'similar': 560, 'exactli': 561, 'provid': 562, 'apart': 563, 'avoid': 564, 'shown': 565, 'seriou': 566, 'english': 567, 'whose': 568, 'taken': 569, 'cinematographi': 570, 'shock': 571, 'polit': 572, 'spoiler': 573, 'offic': 574, 'across': 575, 'middl': 576, 'pass': 577, 'street': 578, 'messag': 579, 'silli': 580, 'charm': 581, 'somewhat': 582, 'modern': 583, 'filmmak': 584, 'confus': 585, 'form': 586, 'tale': 587, 'singl': 588, 'jack': 589, 'mostli': 590, 'attent': 591, 'carri': 592, 'william': 593, 'sing': 594, 'five': 595, 'subject': 596, 'richard': 597, 'prove': 598, 'team': 599, 'stage': 600, 'unlik': 601, 'cop': 602, 'georg': 603, 'monster': 604, 'televis': 605, 'earth': 606, 'villain': 607, 'cover': 608, 'pay': 609, 'marri': 610, 'toward': 611, 'build': 612, 'pull': 613, 'parent': 614, 'due': 615, 'respect': 616, 'fill': 617, 'dialog': 618, 'four': 619, 'remind': 620, 'futur': 621, 'typic': 622, 'weak': 623, '7': 624, 'cheap': 625, 'intellig': 626, 'british': 627, 'atmospher': 628, 'clearli': 629, '80': 630, 'paul': 631, 'dog': 632, 'non': 633, 'fast': 634, 'knew': 635, '8': 636, 'artist': 637, 'crime': 638, 'easili': 639, 'escap': 640, 'adult': 641, 'doubt': 642, 'detail': 643, 'date': 644, 'fire': 645, 'romant': 646, 'member': 647, 'drive': 648, 'gun': 649, 'straight': 650, 'beyond': 651, 'fit': 652, 'attack': 653, 'imag': 654, 'upon': 655, 'posit': 656, 'whether': 657, 'fantast': 658, 'peter': 659, 'appreci': 660, 'aspect': 661, 'captur': 662, 'ten': 663, 'plan': 664, 'discov': 665, 'remain': 666, 'near': 667, 'period': 668, 'air': 669, 'realist': 670, 'mark': 671, 'red': 672, 'dull': 673, 'adapt': 674, 'within': 675, 'spend': 676, 'lose': 677, 'materi': 678, 'color': 679, 'chase': 680, 'mari': 681, 'storylin': 682, 'forget': 683, 'bunch': 684, 'clear': 685, 'lee': 686, 'victim': 687, 'nearli': 688, 'box': 689, 'york': 690, 'inspir': 691, 'match': 692, 'finish': 693, 'mess': 694, 'standard': 695, 'easi': 696, 'truth': 697, 'busi': 698, 'suffer': 699, 'space': 700, 'dramat': 701, 'bill': 702, 'western': 703, 'e': 704, 'list': 705, 'battl': 706, 'notic': 707, 'de': 708, 'french': 709, 'ad': 710, '9': 711, 'tom': 712, 'larg': 713, 'among': 714, 'eventu': 715, 'train': 716, 'accept': 717, 'agre': 718, 'soundtrack': 719, 'spirit': 720, 'third': 721, 'teenag': 722, 'soldier': 723, 'adventur': 724, 'drug': 725, 'suggest': 726, 'famou': 727, 'sorri': 728, 'babi': 729, 'normal': 730, 'cri': 731, 'troubl': 732, 'ultim': 733, 'contain': 734, 'certain': 735, 'cultur': 736, 'romanc': 737, 'rare': 738, 'lame': 739, 'somehow': 740, 'mix': 741, 'disney': 742, 'gone': 743, 'cartoon': 744, 'student': 745, 'fear': 746, 'reveal': 747, 'kept': 748, 'suck': 749, 'attract': 750, 'appeal': 751, 'premis': 752, 'secret': 753, 'design': 754, 'greatest': 755, 'shame': 756, 'throw': 757, 'copi': 758, 'scare': 759, 'wit': 760, 'admit': 761, 'america': 762, 'relat': 763, 'brought': 764, 'particular': 765, 'screenplay': 766, 'whatev': 767, 'pure': 768, '70': 769, 'harri': 770, 'averag': 771, 'master': 772, 'describ': 773, 'treat': 774, 'male': 775, '20': 776, 'fantasi': 777, 'issu': 778, 'warn': 779, 'inde': 780, 'forward': 781, 'background': 782, 'free': 783, 'project': 784, 'memor': 785, 'japanes': 786, 'poorli': 787, 'award': 788, 'locat': 789, 'amus': 790, 'potenti': 791, 'struggl': 792, 'weird': 793, 'magic': 794, 'societi': 795, 'okay': 796, 'doctor': 797, 'accent': 798, 'imdb': 799, 'hot': 800, 'water': 801, 'alien': 802, 'dr': 803, 'express': 804, '30': 805, 'odd': 806, 'crazi': 807, 'choic': 808, 'studio': 809, 'fiction': 810, 'control': 811, 'becam': 812, 'masterpiec': 813, 'difficult': 814, 'fli': 815, 'joe': 816, 'scream': 817, 'costum': 818, 'lover': 819, 'uniqu': 820, 'refer': 821, 'remak': 822, 'vampir': 823, 'girlfriend': 824, 'prison': 825, 'execut': 826, 'wear': 827, 'jump': 828, 'wood': 829, 'unless': 830, 'creepi': 831, 'cheesi': 832, 'superb': 833, 'otherwis': 834, 'parti': 835, 'roll': 836, 'ghost': 837, 'public': 838, 'mad': 839, 'depict': 840, 'jane': 841, 'week': 842, 'earlier': 843, 'moral': 844, 'badli': 845, 'fi': 846, 'dumb': 847, 'grow': 848, 'flaw': 849, 'deep': 850, 'sci': 851, 'cat': 852, 'maker': 853, 'connect': 854, 'older': 855, 'footag': 856, 'plenti': 857, 'bother': 858, 'outsid': 859, 'stick': 860, 'gay': 861, 'catch': 862, 'plu': 863, 'co': 864, 'popular': 865, 'equal': 866, 'social': 867, 'disturb': 868, 'quickli': 869, 'perfectli': 870, 'dress': 871, '90': 872, 'era': 873, 'mistak': 874, 'lie': 875, 'previou': 876, 'ride': 877, 'combin': 878, 'concept': 879, 'band': 880, 'answer': 881, 'rich': 882, 'surviv': 883, 'front': 884, 'christma': 885, 'sweet': 886, 'insid': 887, 'concern': 888, 'eat': 889, 'bare': 890, 'listen': 891, 'beat': 892, 'ben': 893, 'c': 894, 'serv': 895, 'term': 896, 'meant': 897, 'la': 898, 'german': 899, 'hardli': 900, 'stereotyp': 901, 'innoc': 902, 'law': 903, 'desper': 904, 'promis': 905, 'memori': 906, 'cute': 907, 'intent': 908, 'steal': 909, 'variou': 910, 'inform': 911, 'brain': 912, 'post': 913, 'tone': 914, 'island': 915, 'amount': 916, 'track': 917, 'nuditi': 918, 'compani': 919, 'claim': 920, 'store': 921, 'hair': 922, 'flat': 923, '50': 924, 'land': 925, 'univers': 926, 'scott': 927, 'kick': 928, 'fairli': 929, 'danger': 930, 'player': 931, 'step': 932, 'plain': 933, 'crew': 934, 'toni': 935, 'share': 936, 'centuri': 937, 'tast': 938, 'engag': 939, 'achiev': 940, 'travel': 941, 'cold': 942, 'record': 943, 'suit': 944, 'rip': 945, 'sadli': 946, 'manner': 947, 'wrote': 948, 'spot': 949, 'tension': 950, 'intens': 951, 'fascin': 952, 'familiar': 953, 'depth': 954, 'burn': 955, 'remark': 956, 'histor': 957, 'destroy': 958, 'sleep': 959, 'purpos': 960, 'languag': 961, 'ignor': 962, 'ruin': 963, 'delight': 964, 'unbeliev': 965, 'italian': 966, 'collect': 967, 'abil': 968, 'soul': 969, 'clever': 970, 'detect': 971, 'violent': 972, 'rape': 973, 'reach': 974, 'door': 975, 'liter': 976, 'scienc': 977, 'trash': 978, 'commun': 979, 'caught': 980, 'reveng': 981, 'creatur': 982, 'trip': 983, 'approach': 984, 'fashion': 985, 'intrigu': 986, 'introduc': 987, 'skill': 988, 'paint': 989, 'complex': 990, 'channel': 991, 'camp': 992, 'christian': 993, 'hole': 994, 'extra': 995, 'immedi': 996, 'mental': 997, 'ann': 998, 'limit': 999, '6': 1000, 'million': 1001, 'comput': 1002, 'slightli': 1003, 'mere': 1004, 'conclus': 1005, 'slasher': 1006, 'suddenli': 1007, 'imposs': 1008, 'teen': 1009, 'crimin': 1010, 'neither': 1011, 'physic': 1012, 'nation': 1013, 'spent': 1014, 'respons': 1015, 'planet': 1016, 'receiv': 1017, 'fake': 1018, 'sick': 1019, 'blue': 1020, 'bizarr': 1021, 'embarrass': 1022, 'indian': 1023, 'ring': 1024, '15': 1025, 'drop': 1026, 'pop': 1027, 'drag': 1028, 'haunt': 1029, 'pointless': 1030, 'suspect': 1031, 'search': 1032, 'edg': 1033, 'handl': 1034, 'biggest': 1035, 'common': 1036, 'hurt': 1037, 'faith': 1038, 'arriv': 1039, 'technic': 1040, 'angel': 1041, 'dad': 1042, 'genuin': 1043, 'solid': 1044, 'f': 1045, 'awesom': 1046, 'colleg': 1047, 'former': 1048, 'van': 1049, 'focu': 1050, 'count': 1051, 'heavi': 1052, 'tear': 1053, 'rais': 1054, 'wall': 1055, 'visit': 1056, 'laughabl': 1057, 'younger': 1058, 'excus': 1059, 'sign': 1060, 'fair': 1061, 'cult': 1062, 'tough': 1063, 'motion': 1064, 'key': 1065, 'super': 1066, 'desir': 1067, 'addit': 1068, 'stun': 1069, 'cloth': 1070, 'exploit': 1071, 'smith': 1072, 'tortur': 1073, 'davi': 1074, 'race': 1075, 'cross': 1076, 'author': 1077, 'jim': 1078, 'minor': 1079, 'compel': 1080, 'focus': 1081, 'consist': 1082, 'pathet': 1083, 'commit': 1084, 'chemistri': 1085, 'park': 1086, 'tradit': 1087, 'frank': 1088, 'obsess': 1089, 'grade': 1090, '60': 1091, 'asid': 1092, 'brutal': 1093, 'steve': 1094, 'somewher': 1095, 'explor': 1096, 'rule': 1097, 'grant': 1098, 'depress': 1099, 'u': 1100, 'opportun': 1101, 'besid': 1102, 'honest': 1103, 'dub': 1104, 'anti': 1105, 'trailer': 1106, 'intend': 1107, 'bar': 1108, 'west': 1109, 'longer': 1110, 'regard': 1111, 'scientist': 1112, 'decad': 1113, 'judg': 1114, 'silent': 1115, 'creativ': 1116, 'armi': 1117, 'wild': 1118, 'g': 1119, 'stewart': 1120, 'south': 1121, 'draw': 1122, 'road': 1123, 'govern': 1124, 'ex': 1125, 'boss': 1126, 'practic': 1127, 'club': 1128, 'motiv': 1129, 'festiv': 1130, 'gang': 1131, 'surprisingli': 1132, 'green': 1133, 'london': 1134, 'page': 1135, 'redeem': 1136, 'idiot': 1137, 'display': 1138, 'machin': 1139, 'aliv': 1140, 'militari': 1141, 'thrill': 1142, 'repeat': 1143, '100': 1144, 'nobodi': 1145, 'folk': 1146, 'yeah': 1147, '40': 1148, 'journey': 1149, 'garbag': 1150, 'ground': 1151, 'smile': 1152, 'tire': 1153, 'bought': 1154, 'mood': 1155, 'stone': 1156, 'cost': 1157, 'sam': 1158, 'mouth': 1159, 'noir': 1160, 'terrif': 1161, 'agent': 1162, 'utterli': 1163, 'requir': 1164, 'sexi': 1165, 'area': 1166, 'honestli': 1167, 'report': 1168, 'geniu': 1169, 'glad': 1170, 'humour': 1171, 'enter': 1172, 'investig': 1173, 'serial': 1174, 'occasion': 1175, 'narr': 1176, 'passion': 1177, 'marriag': 1178, 'climax': 1179, 'studi': 1180, 'industri': 1181, 'nowher': 1182, 'center': 1183, 'ship': 1184, 'demon': 1185, 'charli': 1186, 'loos': 1187, 'bear': 1188, 'hors': 1189, 'wow': 1190, 'hang': 1191, 'graphic': 1192, 'admir': 1193, 'giant': 1194, 'send': 1195, 'damn': 1196, 'loud': 1197, 'nake': 1198, 'subtl': 1199, 'profession': 1200, 'rel': 1201, 'blow': 1202, 'bottom': 1203, 'batman': 1204, 'insult': 1205, 'boyfriend': 1206, 'r': 1207, 'doubl': 1208, 'kelli': 1209, 'initi': 1210, 'frame': 1211, 'opera': 1212, 'gem': 1213, 'drawn': 1214, 'challeng': 1215, 'affect': 1216, 'cinemat': 1217, 'church': 1218, 'fulli': 1219, 'nightmar': 1220, 'seek': 1221, 'j': 1222, 'l': 1223, 'evid': 1224, 'essenti': 1225, 'conflict': 1226, 'arm': 1227, 'grace': 1228, 'christoph': 1229, 'wind': 1230, 'henri': 1231, 'witch': 1232, 'assum': 1233, 'narrat': 1234, 'push': 1235, 'hunt': 1236, 'wise': 1237, 'chri': 1238, 'repres': 1239, 'month': 1240, 'nomin': 1241, 'avail': 1242, 'sceneri': 1243, 'hide': 1244, 'affair': 1245, 'thu': 1246, 'justic': 1247, 'bond': 1248, 'smart': 1249, 'flashback': 1250, 'outstand': 1251, 'interview': 1252, 'constantli': 1253, 'satisfi': 1254, 'presenc': 1255, 'central': 1256, 'bed': 1257, 'iron': 1258, 'sell': 1259, 'content': 1260, 'gag': 1261, 'everybodi': 1262, 'slowli': 1263, 'hotel': 1264, 'hire': 1265, 'system': 1266, 'adam': 1267, 'individu': 1268, 'thrown': 1269, 'charl': 1270, 'hey': 1271, 'jone': 1272, 'allen': 1273, 'mediocr': 1274, 'lesson': 1275, 'ray': 1276, 'billi': 1277, 'cameo': 1278, 'photographi': 1279, 'fellow': 1280, 'pari': 1281, 'strike': 1282, 'brief': 1283, 'absurd': 1284, 'independ': 1285, 'rise': 1286, 'neg': 1287, 'impact': 1288, 'phone': 1289, 'born': 1290, 'model': 1291, 'ill': 1292, 'fresh': 1293, 'angl': 1294, 'spoil': 1295, 'likabl': 1296, 'abus': 1297, 'discuss': 1298, 'hill': 1299, 'ahead': 1300, 'sight': 1301, 'photograph': 1302, 'sent': 1303, 'blame': 1304, 'logic': 1305, 'shine': 1306, 'occur': 1307, 'mainli': 1308, 'bruce': 1309, 'commerci': 1310, 'forev': 1311, 'skip': 1312, 'segment': 1313, 'held': 1314, 'surround': 1315, 'teacher': 1316, 'blond': 1317, 'zero': 1318, 'trap': 1319, 'satir': 1320, 'summer': 1321, 'resembl': 1322, 'fool': 1323, 'ball': 1324, 'queen': 1325, 'six': 1326, 'twice': 1327, 'tragedi': 1328, 'sub': 1329, 'reaction': 1330, 'pack': 1331, 'bomb': 1332, 'protagonist': 1333, 'hospit': 1334, 'will': 1335, 'mile': 1336, 'sport': 1337, 'mom': 1338, 'trust': 1339, 'jerri': 1340, 'vote': 1341, 'drink': 1342, 'encount': 1343, 'plane': 1344, 'station': 1345, 'program': 1346, 'al': 1347, 'current': 1348, 'choos': 1349, 'martin': 1350, 'celebr': 1351, 'join': 1352, 'tragic': 1353, 'favourit': 1354, 'field': 1355, 'lord': 1356, 'round': 1357, 'vision': 1358, 'jean': 1359, 'robot': 1360, 'tie': 1361, 'arthur': 1362, 'fortun': 1363, 'random': 1364, 'roger': 1365, 'dread': 1366, 'intern': 1367, 'psycholog': 1368, 'nonsens': 1369, 'prefer': 1370, 'epic': 1371, 'improv': 1372, 'pleasur': 1373, 'formula': 1374, 'legend': 1375, 'highlight': 1376, 'dollar': 1377, 'tape': 1378, '11': 1379, 'thin': 1380, 'object': 1381, 'gorgeou': 1382, 'wide': 1383, 'porn': 1384, 'fox': 1385, 'buddi': 1386, 'influenc': 1387, 'ugli': 1388, 'prepar': 1389, 'ii': 1390, 'nasti': 1391, 'progress': 1392, 'reflect': 1393, 'supposedli': 1394, 'warm': 1395, 'youth': 1396, 'worthi': 1397, 'latter': 1398, 'unusu': 1399, 'length': 1400, 'crash': 1401, 'childhood': 1402, 'superior': 1403, 'seven': 1404, 'shop': 1405, 'theatr': 1406, 'remot': 1407, 'pilot': 1408, 'disgust': 1409, 'paid': 1410, 'funniest': 1411, 'trick': 1412, 'convers': 1413, 'fell': 1414, 'castl': 1415, 'disast': 1416, 'rob': 1417, 'gangster': 1418, 'establish': 1419, 'heaven': 1420, 'suicid': 1421, 'ident': 1422, 'mine': 1423, 'disappear': 1424, 'heroin': 1425, 'singer': 1426, 'mask': 1427, 'decis': 1428, 'forgotten': 1429, 'tend': 1430, 'partner': 1431, 'brian': 1432, 'alan': 1433, 'recogn': 1434, 'desert': 1435, 'ms': 1436, 'stuck': 1437, 'thoroughli': 1438, 'sky': 1439, 'p': 1440, 'replac': 1441, 'accur': 1442, 'market': 1443, 'seemingli': 1444, 'clue': 1445, 'danni': 1446, 'eddi': 1447, 'uncl': 1448, 'andi': 1449, 'commentari': 1450, 'jackson': 1451, 'devil': 1452, 'refus': 1453, 'that': 1454, 'pair': 1455, 'therefor': 1456, 'accid': 1457, 'ed': 1458, 'fault': 1459, 'unit': 1460, 'river': 1461, 'fate': 1462, 'afraid': 1463, 'tune': 1464, 'stephen': 1465, 'hidden': 1466, 'russian': 1467, 'clean': 1468, 'irrit': 1469, 'convey': 1470, 'test': 1471, 'instanc': 1472, 'readi': 1473, 'quick': 1474, 'captain': 1475, 'european': 1476, 'insan': 1477, 'daniel': 1478, 'frustrat': 1479, 'rescu': 1480, 'food': 1481, 'chines': 1482, '1950': 1483, 'wed': 1484, 'angri': 1485, 'dirti': 1486, 'lock': 1487, 'joy': 1488, 'steven': 1489, 'price': 1490, 'cage': 1491, 'bland': 1492, 'rang': 1493, 'anymor': 1494, 'wooden': 1495, 'rush': 1496, 'news': 1497, 'jason': 1498, 'n': 1499, '12': 1500, 'worri': 1501, 'board': 1502, 'led': 1503, 'twenti': 1504, 'martial': 1505, 'symbol': 1506, 'cgi': 1507, 'transform': 1508, 'hunter': 1509, 'x': 1510, 'onto': 1511, 'sentiment': 1512, 'johnni': 1513, 'invent': 1514, 'piti': 1515, 'attitud': 1516, 'explan': 1517, 'process': 1518, 'owner': 1519, 'awar': 1520, 'aim': 1521, 'favor': 1522, 'necessari': 1523, 'energi': 1524, 'target': 1525, 'floor': 1526, 'opposit': 1527, 'religi': 1528, 'insight': 1529, 'chick': 1530, 'blind': 1531, 'window': 1532, 'movement': 1533, 'deepli': 1534, 'research': 1535, 'possess': 1536, 'comparison': 1537, 'mountain': 1538, 'grand': 1539, 'whatsoev': 1540, 'comed': 1541, 'rain': 1542, 'shadow': 1543, 'began': 1544, 'bank': 1545, 'mid': 1546, 'parodi': 1547, 'princ': 1548, 'pre': 1549, 'weapon': 1550, 'friendship': 1551, 'credibl': 1552, 'taylor': 1553, 'teach': 1554, 'dougla': 1555, 'flesh': 1556, 'terror': 1557, 'hint': 1558, 'protect': 1559, 'bloodi': 1560, 'marvel': 1561, 'anybodi': 1562, 'load': 1563, 'watchabl': 1564, 'leader': 1565, 'accord': 1566, 'superman': 1567, 'drunk': 1568, 'freddi': 1569, 'brown': 1570, 'seat': 1571, 'appropri': 1572, 'tim': 1573, 'hitler': 1574, 'jeff': 1575, 'villag': 1576, 'unknown': 1577, 'charg': 1578, 'knock': 1579, 'keaton': 1580, 'enemi': 1581, 'unnecessari': 1582, 'england': 1583, 'empti': 1584, 'media': 1585, 'buck': 1586, 'craft': 1587, 'perspect': 1588, 'strength': 1589, 'dare': 1590, 'utter': 1591, 'wave': 1592, 'nativ': 1593, 'contrast': 1594, 'kiss': 1595, 'ford': 1596, 'correct': 1597, 'knowledg': 1598, 'soap': 1599, 'nazi': 1600, 'anywher': 1601, 'magnific': 1602, 'distract': 1603, 'speed': 1604, 'chill': 1605, 'ice': 1606, 'breath': 1607, 'fred': 1608, '1980': 1609, 'mission': 1610, 'joan': 1611, 'crowd': 1612, 'jr': 1613, 'moon': 1614, 'frighten': 1615, 'soft': 1616, '000': 1617, 'kate': 1618, 'dan': 1619, 'nick': 1620, 'dick': 1621, 'hundr': 1622, 'simon': 1623, 'radio': 1624, 'dozen': 1625, 'somebodi': 1626, 'loss': 1627, 'andrew': 1628, 'shakespear': 1629, 'academi': 1630, 'thousand': 1631, 'root': 1632, 'account': 1633, 'sum': 1634, 'vehicl': 1635, 'quot': 1636, 'convent': 1637, 'behavior': 1638, '1970': 1639, 'leg': 1640, 'regular': 1641, 'gold': 1642, 'demand': 1643, 'compet': 1644, 'worker': 1645, 'pretenti': 1646, 'stretch': 1647, 'candi': 1648, 'lynch': 1649, 'notabl': 1650, 'japan': 1651, 'explos': 1652, 'privat': 1653, 'interpret': 1654, 'debut': 1655, 'tarzan': 1656, 'constant': 1657, 'sea': 1658, 'revolv': 1659, 'translat': 1660, 'prais': 1661, 'spi': 1662, 'threaten': 1663, 'sat': 1664, 'failur': 1665, 'franc': 1666, 'quiet': 1667, 'ass': 1668, 'technolog': 1669, 'jesu': 1670, 'punch': 1671, 'aid': 1672, 'kevin': 1673, 'higher': 1674, 'met': 1675, 'toy': 1676, 'vh': 1677, 'abandon': 1678, 'mike': 1679, 'interact': 1680, 'confront': 1681, 'bet': 1682, 'command': 1683, 'separ': 1684, 'recal': 1685, 'belong': 1686, 'gotten': 1687, 'techniqu': 1688, 'site': 1689, 'stunt': 1690, 'servic': 1691, 'cabl': 1692, 'freak': 1693, 'foot': 1694, 'bug': 1695, 'jimmi': 1696, 'capabl': 1697, 'bright': 1698, 'fu': 1699, 'african': 1700, 'succeed': 1701, 'stock': 1702, 'presid': 1703, 'clark': 1704, 'boat': 1705, 'fat': 1706, 'gene': 1707, 'structur': 1708, 'spanish': 1709, 'paper': 1710, 'kidnap': 1711, 'whilst': 1712, 'belief': 1713, 'factor': 1714, 'witti': 1715, 'educ': 1716, 'realism': 1717, 'bob': 1718, 'tree': 1719, 'realis': 1720, 'complic': 1721, 'attend': 1722, 'assist': 1723, 'finest': 1724, 'santa': 1725, 'broken': 1726, 'depart': 1727, 'v': 1728, 'observ': 1729, 'up': 1730, 'determin': 1731, 'smoke': 1732, 'oper': 1733, 'fame': 1734, 'hat': 1735, 'domin': 1736, 'routin': 1737, 'rubbish': 1738, 'lewi': 1739, 'safe': 1740, 'morgan': 1741, 'kinda': 1742, 'advanc': 1743, 'foreign': 1744, 'hook': 1745, 'lone': 1746, 'numer': 1747, 'rank': 1748, 'shape': 1749, 'vs': 1750, 'civil': 1751, 'werewolf': 1752, 'shallow': 1753, 'washington': 1754, 'rose': 1755, 'morn': 1756, 'gari': 1757, 'accomplish': 1758, 'ordinari': 1759, 'winner': 1760, 'kong': 1761, 'grab': 1762, 'peac': 1763, 'whenev': 1764, 'virtual': 1765, 'h': 1766, 'offens': 1767, 'luck': 1768, 'bigger': 1769, 'patient': 1770, 'welcom': 1771, 'activ': 1772, 'unfunni': 1773, 'complain': 1774, 'contriv': 1775, 'pretend': 1776, 'con': 1777, 'trek': 1778, 'dimension': 1779, 'wake': 1780, 'code': 1781, 'cain': 1782, 'dri': 1783, 'flash': 1784, 'eric': 1785, 'lesbian': 1786, 'statu': 1787, 'corrupt': 1788, 'guard': 1789, 'dancer': 1790, 'albert': 1791, 'manipul': 1792, 'signific': 1793, 'sourc': 1794, 'awkward': 1795, 'gain': 1796, 'speech': 1797, 'context': 1798, '13': 1799, 'clip': 1800, 'anthoni': 1801, 'sean': 1802, 'corni': 1803, 'psycho': 1804, 'curiou': 1805, 'reli': 1806, 'religion': 1807, 'priest': 1808, 'theatric': 1809, 'w': 1810, 'advic': 1811, 'flow': 1812, 'addict': 1813, 'howard': 1814, 'specif': 1815, 'skin': 1816, 'asian': 1817, 'secur': 1818, 'jennif': 1819, 'promot': 1820, 'golden': 1821, 'luke': 1822, 'core': 1823, 'comfort': 1824, 'organ': 1825, 'cheat': 1826, 'lucki': 1827, 'cash': 1828, 'lower': 1829, 'associ': 1830, 'dislik': 1831, 'wing': 1832, 'regret': 1833, 'balanc': 1834, 'degre': 1835, 'contribut': 1836, 'spell': 1837, 'devic': 1838, 'frequent': 1839, 'frankli': 1840, 'sake': 1841, 'forgiv': 1842, 'lake': 1843, 'print': 1844, 'mass': 1845, 'betti': 1846, 'thoma': 1847, 'unexpect': 1848, 'gordon': 1849, 'crack': 1850, 'depend': 1851, 'construct': 1852, 'grown': 1853, 'categori': 1854, 'amateur': 1855, 'unfold': 1856, 'invit': 1857, 'matur': 1858, 'walter': 1859, 'intellectu': 1860, 'grew': 1861, 'honor': 1862, 'condit': 1863, 'anna': 1864, 'sole': 1865, 'mirror': 1866, 'spectacular': 1867, 'sudden': 1868, 'veteran': 1869, 'experienc': 1870, 'grip': 1871, 'meanwhil': 1872, 'robin': 1873, 'demonstr': 1874, 'gift': 1875, 'card': 1876, 'freedom': 1877, 'liner': 1878, 'overli': 1879, 'brilliantli': 1880, 'crappi': 1881, 'drew': 1882, 'colour': 1883, 'subtitl': 1884, 'sheriff': 1885, 'unabl': 1886, 'section': 1887, 'oliv': 1888, 'theori': 1889, 'circumst': 1890, 'pile': 1891, 'parker': 1892, 'sheer': 1893, 'matt': 1894, 'cook': 1895, 'path': 1896, 'altern': 1897, 'laughter': 1898, 'hall': 1899, 'relief': 1900, 'accident': 1901, 'treatment': 1902, 'sinatra': 1903, 'lawyer': 1904, 'defin': 1905, 'wander': 1906, 'captiv': 1907, 'dragon': 1908, 'hank': 1909, 'halloween': 1910, 'gratuit': 1911, 'moor': 1912, 'k': 1913, 'cowboy': 1914, 'jacki': 1915, 'wound': 1916, 'unintent': 1917, 'wayn': 1918, 'kung': 1919, 'barbara': 1920, 'broadway': 1921, 'canadian': 1922, 'statement': 1923, 'winter': 1924, 'surreal': 1925, 'spoof': 1926, 'cheer': 1927, 'fare': 1928, 'gonna': 1929, 'fish': 1930, 'compos': 1931, 'treasur': 1932, 'woodi': 1933, 'sensit': 1934, 'unrealist': 1935, 'victor': 1936, 'emerg': 1937, 'neighbor': 1938, 'ran': 1939, 'driven': 1940, 'sympathet': 1941, 'expos': 1942, 'overlook': 1943, 'menac': 1944, 'topic': 1945, 'authent': 1946, 'glass': 1947, 'handsom': 1948, 'ancient': 1949, 'gross': 1950, 'michel': 1951, 'chief': 1952, 'contemporari': 1953, 'pleasant': 1954, 'comedian': 1955, 'stranger': 1956, 'built': 1957, 'cinderella': 1958, 'nevertheless': 1959, 'feet': 1960, 'network': 1961, 'russel': 1962, 'earn': 1963, 'letter': 1964, 'miser': 1965, 'underr': 1966, 'gori': 1967, 'endless': 1968, 'consider': 1969, 'blockbust': 1970, 'solv': 1971, 'brook': 1972, 'switch': 1973, 'virgin': 1974, 'bullet': 1975, 'convict': 1976, 'edward': 1977, 'victoria': 1978, 'joseph': 1979, '0': 1980, 'alex': 1981, 'cynic': 1982, 'scale': 1983, 'chosen': 1984, 'scenario': 1985, 'curs': 1986, 'com': 1987, 'outrag': 1988, 'gut': 1989, 'sword': 1990, 'monkey': 1991, 'uk': 1992, 'proper': 1993, 'substanc': 1994, 'driver': 1995, 'wrap': 1996, 'screenwrit': 1997, 'juli': 1998, 'indic': 1999, 'par': 2000, 'bird': 2001, 'court': 2002, 'remov': 2003, 'consequ': 2004, 'naiv': 2005, 'inevit': 2006, 'rental': 2007, 'advertis': 2008, 'roy': 2009, 'nanci': 2010, 'grave': 2011, 'loser': 2012, 'bridg': 2013, 'slap': 2014, 'germani': 2015, 'invis': 2016, 'le': 2017, 'fatal': 2018, 'brave': 2019, 'loui': 2020, 'anger': 2021, 'ador': 2022, 'provok': 2023, 'footbal': 2024, 'alcohol': 2025, 'chan': 2026, 'anderson': 2027, 'professor': 2028, 'stumbl': 2029, 'willi': 2030, 'ryan': 2031, 'australian': 2032, 'patrick': 2033, 'sharp': 2034, 'bat': 2035, 'assassin': 2036, '1930': 2037, 'deni': 2038, 'saturday': 2039, 'ape': 2040, 'refresh': 2041, 'strongli': 2042, 'heck': 2043, 'cell': 2044, 'liber': 2045, 'trilog': 2046, 'amateurish': 2047, 'lousi': 2048, 'eight': 2049, 'sin': 2050, 'vagu': 2051, 'san': 2052, 'justifi': 2053, 'resid': 2054, 'reput': 2055, 'sympathi': 2056, 'mini': 2057, 'defeat': 2058, 'terrifi': 2059, 'creator': 2060, 'indi': 2061, 'prevent': 2062, 'tediou': 2063, 'expert': 2064, 'task': 2065, 'tabl': 2066, 'endur': 2067, 'rival': 2068, 'imit': 2069, 'trial': 2070, 'employ': 2071, 'offend': 2072, 'basebal': 2073, 'che': 2074, 'dig': 2075, 'weekend': 2076, 'fairi': 2077, 'pitch': 2078, 'complaint': 2079, 'europ': 2080, 'beach': 2081, 'max': 2082, 'purchas': 2083, 'format': 2084, 'murphi': 2085, 'risk': 2086, 'reminisc': 2087, 'bite': 2088, 'harsh': 2089, 'tini': 2090, 'hype': 2091, 'nois': 2092, 'glimps': 2093, 'powel': 2094, 'titan': 2095, 'prime': 2096, 'strip': 2097, 'fals': 2098, 'asleep': 2099, 'north': 2100, '14': 2101, 'till': 2102, 'africa': 2103, 'texa': 2104, 'revel': 2105, 'descript': 2106, 'destruct': 2107, 'sitcom': 2108, 'semi': 2109, 'uninterest': 2110, 'excess': 2111, 'inner': 2112, 'spin': 2113, 'arrest': 2114, 'surfac': 2115, 'maintain': 2116, 'dinosaur': 2117, 'argu': 2118, 'twin': 2119, 'massiv': 2120, 'controversi': 2121, 'makeup': 2122, 'hitchcock': 2123, 'ludicr': 2124, 'expens': 2125, 'kim': 2126, 'reject': 2127, 'insist': 2128, 'stare': 2129, 'melodrama': 2130, 'ideal': 2131, 'erot': 2132, 'subplot': 2133, 'atroci': 2134, 'columbo': 2135, 'supernatur': 2136, 'host': 2137, 'nail': 2138, 'ala': 2139, 'ga': 2140, 'forest': 2141, 'press': 2142, 'notch': 2143, 'dude': 2144, 'presum': 2145, 'identifi': 2146, 'cant': 2147, 'guest': 2148, 'method': 2149, 'character': 2150, 'forgett': 2151, 'crude': 2152, 'closer': 2153, 'plagu': 2154, 'lion': 2155, 'princess': 2156, 'border': 2157, 'ear': 2158, 'landscap': 2159, 'beast': 2160, 'foster': 2161, 'bound': 2162, 'jungl': 2163, 'storytel': 2164, 'previous': 2165, 'aunt': 2166, 'accus': 2167, 'urban': 2168, 'damag': 2169, 'birth': 2170, 'pacino': 2171, 'guid': 2172, 'emma': 2173, 'thirti': 2174, 'nude': 2175, 'chose': 2176, 'jess': 2177, 'doll': 2178, 'propaganda': 2179, 'warrior': 2180, 'whoever': 2181, 'mainstream': 2182, 'pet': 2183, 'mate': 2184, '25': 2185, 'exact': 2186, 'merit': 2187, 'friday': 2188, 'upset': 2189, 'deadli': 2190, 'latest': 2191, 'gritti': 2192, 'cooper': 2193, 'size': 2194, 'poster': 2195, 'blend': 2196, 'sun': 2197, 'popul': 2198, 'contact': 2199, '1990': 2200, 'corps': 2201, 'buff': 2202, 'warner': 2203, 'contest': 2204, 'settl': 2205, 'citizen': 2206, 'wilson': 2207, 'rough': 2208, 'ton': 2209, 'metal': 2210, 'widow': 2211, 'mgm': 2212, 'overcom': 2213, 'rat': 2214, 'select': 2215, 'environ': 2216, 'alic': 2217, 'pitt': 2218, 'bu': 2219, 'guilti': 2220, 'ted': 2221, 'revolut': 2222, 'particip': 2223, 'lift': 2224, 'link': 2225, '1960': 2226, 'afternoon': 2227, 'johnson': 2228, 'corpor': 2229, 'matrix': 2230, 'moron': 2231, 'prostitut': 2232, 'corner': 2233, 'accompani': 2234, 'exagger': 2235, 'hood': 2236, 'instal': 2237, 'multipl': 2238, 'sincer': 2239, 'friendli': 2240, 'clair': 2241, 'holm': 2242, 'leagu': 2243, 'doom': 2244, 'sunday': 2245, 'blah': 2246, 'advis': 2247, 'aka': 2248, 'grim': 2249, 'campi': 2250, 'irish': 2251, 'hip': 2252, 'junk': 2253, 'string': 2254, 'examin': 2255, 'defend': 2256, 'lugosi': 2257, 'varieti': 2258, 'shut': 2259, 'shake': 2260, 'icon': 2261, 'pro': 2262, 'tight': 2263, 'confid': 2264, 'rachel': 2265, 'goal': 2266, 'directli': 2267, 'denni': 2268, 'attach': 2269, 'jaw': 2270, 'medic': 2271, 'mexican': 2272, 'sullivan': 2273, 'prior': 2274, 'courag': 2275, 'truck': 2276, 'legendari': 2277, 'sarah': 2278, 'dean': 2279, 'vietnam': 2280, 'terrorist': 2281, 'breast': 2282, 'sentenc': 2283, 'duke': 2284, 'bourn': 2285, 'behav': 2286, 'entri': 2287, 'split': 2288, 'un': 2289, 'yell': 2290, 'proceed': 2291, 'nose': 2292, 'hong': 2293, 'donald': 2294, 'jerk': 2295, 'forth': 2296, 'buri': 2297, 'unconvinc': 2298, 'stolen': 2299, 'crush': 2300, 'concentr': 2301, 'confess': 2302, 'gather': 2303, 'lifetim': 2304, 'everywher': 2305, 'borrow': 2306, 'swim': 2307, 'california': 2308, 'spite': 2309, 'julia': 2310, 'deliveri': 2311, 'pan': 2312, 'turkey': 2313, 'lip': 2314, 'offici': 2315, 'downright': 2316, 'proud': 2317, 'quest': 2318, 'reward': 2319, 'china': 2320, 'hoffman': 2321, 'freeman': 2322, 'flight': 2323, 'worthwhil': 2324, 'lazi': 2325, 'betray': 2326, 'jail': 2327, 'notori': 2328, 'sink': 2329, 'encourag': 2330, 'fade': 2331, 'fabul': 2332, 'jon': 2333, 'inept': 2334, 'sir': 2335, 'cousin': 2336, 'relev': 2337, 'teeth': 2338, 'shower': 2339, 'retard': 2340, 'imageri': 2341, 'survivor': 2342, 'bell': 2343, 'storm': 2344, 'bag': 2345, 'lisa': 2346, 'branagh': 2347, 'susan': 2348, 'finger': 2349, 'summari': 2350, 'quirki': 2351, 'facial': 2352, 'shark': 2353, 'toler': 2354, 'hugh': 2355, 'tremend': 2356, 'stab': 2357, 'trade': 2358, 'alright': 2359, 'mexico': 2360, 'bride': 2361, 'von': 2362, 'bitter': 2363, 'blown': 2364, 'ha': 2365, 'hyster': 2366, 'pose': 2367, 'afterward': 2368, 'scheme': 2369, 'ron': 2370, 'larri': 2371, 'christ': 2372, 'bone': 2373, 'ned': 2374, 'cruel': 2375, 'address': 2376, 'swear': 2377, 'beg': 2378, 'distinct': 2379, 'traci': 2380, 'feed': 2381, 'snake': 2382, 'tour': 2383, 'thumb': 2384, 'pursu': 2385, 'screw': 2386, 'chair': 2387, 'obscur': 2388, 'stomach': 2389, 'raw': 2390, 'occas': 2391, 'mechan': 2392, 'photo': 2393, 'argument': 2394, 'sidney': 2395, 'necessarili': 2396, 'southern': 2397, 'cabin': 2398, 'chain': 2399, 'resist': 2400, 'holiday': 2401, 'heavili': 2402, 'gruesom': 2403, 'hardi': 2404, 'render': 2405, 'racist': 2406, 'indulg': 2407, 'understood': 2408, 'satan': 2409, 'philip': 2410, 'india': 2411, 'belov': 2412, 'outfit': 2413, 'tongu': 2414, 'obnoxi': 2415, 'pregnant': 2416, 'fourth': 2417, 'stalk': 2418, 'forgot': 2419, 'integr': 2420, 'lay': 2421, 'midnight': 2422, 'slapstick': 2423, 'garden': 2424, 'inhabit': 2425, 'magazin': 2426, '17': 2427, 'ticket': 2428, 'deeper': 2429, 'carol': 2430, 'restor': 2431, 'devot': 2432, 'incid': 2433, 'shoe': 2434, 'brad': 2435, 'lincoln': 2436, 'sandler': 2437, 'elizabeth': 2438, 'anticip': 2439, 'guarante': 2440, 'benefit': 2441, 'maria': 2442, 'lili': 2443, 'divorc': 2444, 'underground': 2445, 'disbelief': 2446, 'creation': 2447, 'explod': 2448, 'bbc': 2449, 'slave': 2450, 'greater': 2451, 'mildli': 2452, 'cring': 2453, 'amazingli': 2454, 'princip': 2455, 'capit': 2456, 'introduct': 2457, 'lesli': 2458, 'funnier': 2459, 'halfway': 2460, 'extraordinari': 2461, 'advantag': 2462, 'wreck': 2463, 'punish': 2464, 'overwhelm': 2465, 'tap': 2466, 'enhanc': 2467, 'extent': 2468, 'transfer': 2469, 'text': 2470, 'plant': 2471, 'preview': 2472, 'horrif': 2473, 'deliber': 2474, 'error': 2475, 'dynam': 2476, 'east': 2477, 'jessica': 2478, 'lane': 2479, 'lo': 2480, 'vacat': 2481, 'sophist': 2482, 'appli': 2483, 'vincent': 2484, 'miller': 2485, 'ensu': 2486, 'miscast': 2487, 'basi': 2488, '2000': 2489, 'homosexu': 2490, 'mansion': 2491, 'measur': 2492, 'spoken': 2493, 'sleazi': 2494, 'via': 2495, 'uncomfort': 2496, 'elev': 2497, 'extend': 2498, 'reed': 2499, 'steel': 2500, 'bollywood': 2501, 'dentist': 2502, 'blair': 2503, 'stanley': 2504, 'alter': 2505, 'breathtak': 2506, 'savag': 2507, 'beer': 2508, 'goofi': 2509, 'hippi': 2510, 'conceiv': 2511, 'assign': 2512, 'fix': 2513, 'daili': 2514, 'mous': 2515, 'cathol': 2516, 'melt': 2517, 'overact': 2518, 'sacrific': 2519, 'oppos': 2520, 'carpent': 2521, 'burt': 2522, 'subsequ': 2523, 'nowaday': 2524, 'properli': 2525, 'succe': 2526, 'everyday': 2527, 'inspector': 2528, 'block': 2529, 'circl': 2530, 'massacr': 2531, 'laura': 2532, 'neck': 2533, 'grey': 2534, 'fay': 2535, 'lesser': 2536, 'portrait': 2537, 'fallen': 2538, 'christi': 2539, 'mob': 2540, 'concert': 2541, 'pool': 2542, 'seagal': 2543, 'access': 2544, 'usa': 2545, 'jake': 2546, 'jewish': 2547, 'react': 2548, 'relax': 2549, 'chees': 2550, 'sinist': 2551, 'competit': 2552, 'isol': 2553, 'ironi': 2554, 'immens': 2555, 'nine': 2556, '2006': 2557, 'chop': 2558, 'spiritu': 2559, 'lyric': 2560, 'appal': 2561, 'stink': 2562, 'nonetheless': 2563, 'creep': 2564, 'suitabl': 2565, 'franchis': 2566, 'retir': 2567, 'adopt': 2568, 'rage': 2569, 'showcas': 2570, 'luci': 2571, 'sold': 2572, 'needless': 2573, 'reduc': 2574, 'nut': 2575, 'user': 2576, 'shirt': 2577, 'spring': 2578, 'navi': 2579, 'asham': 2580, 'digit': 2581, 'bulli': 2582, 'uninspir': 2583, 'bath': 2584, 'jay': 2585, 'nurs': 2586, 'zone': 2587, 'per': 2588, 'stanwyck': 2589, 'laid': 2590, 'broadcast': 2591, 'illustr': 2592, '2001': 2593, 'oddli': 2594, '1940': 2595, 'amongst': 2596, 'upper': 2597, 'sutherland': 2598, 'stylish': 2599, 'fulfil': 2600, 'disguis': 2601, 'baker': 2602, 'throat': 2603, 'aspir': 2604, 'brando': 2605, '18': 2606, 'pound': 2607, 'wanna': 2608, 'thief': 2609, 'endear': 2610, 'pride': 2611, 'neighborhood': 2612, 'impli': 2613, 'nobl': 2614, 'wwii': 2615, 'em': 2616, 'bo': 2617, 'prop': 2618, 'coher': 2619, 'albeit': 2620, 'shoulder': 2621, 'distribut': 2622, 'tens': 2623, 'diseas': 2624, 'cinematograph': 2625, 'dinner': 2626, 'shift': 2627, 'dawn': 2628, 'bett': 2629, '16': 2630, 'rochest': 2631, 'forti': 2632, 'function': 2633, 'shout': 2634, 'contract': 2635, 'wash': 2636, 'rebel': 2637, 'knife': 2638, 'silenc': 2639, 'poignant': 2640, 'snow': 2641, 'surf': 2642, 'matthau': 2643, 'height': 2644, 'cannib': 2645, 'instinct': 2646, 'reunion': 2647, 'eeri': 2648, 'henc': 2649, 'widmark': 2650, 'derek': 2651, 'horrend': 2652, 'heat': 2653, 'cancel': 2654, 'elvira': 2655, 'internet': 2656, 'chuck': 2657, 'mindless': 2658, 'silver': 2659, 'duti': 2660, 'proof': 2661, 'incoher': 2662, 'premier': 2663, 'torn': 2664, 'repetit': 2665, 'etern': 2666, 'musician': 2667, 'elvi': 2668, 'pie': 2669, 'neat': 2670, 'alik': 2671, 'innov': 2672, 'mill': 2673, 'absorb': 2674, 'spielberg': 2675, 'glori': 2676, 'greatli': 2677, 'announc': 2678, 'diamond': 2679, 'horrifi': 2680, 'bang': 2681, 'crisi': 2682, 'itali': 2683, 'lovabl': 2684, 'redempt': 2685, 'fbi': 2686, 'precis': 2687, 'britain': 2688, 'wealthi': 2689, 'racism': 2690, 'homag': 2691, 'burton': 2692, 'nelson': 2693, 'blank': 2694, 'trite': 2695, 'infam': 2696, 'dedic': 2697, 'wilder': 2698, 'ensembl': 2699, 'flop': 2700, 'parallel': 2701, 'hammer': 2702, 'happili': 2703, 'resolut': 2704, 'chaplin': 2705, 'helen': 2706, 'pat': 2707, 'streisand': 2708, 'conclud': 2709, 'plastic': 2710, 'mar': 2711, 'broke': 2712, 'cube': 2713, 'carter': 2714, 'st': 2715, 'triumph': 2716, 'disagre': 2717, 'factori': 2718, 'oil': 2719, 'bush': 2720, 'march': 2721, 'weight': 2722, 'vega': 2723, 'climb': 2724, 'row': 2725, 'own': 2726, 'chuckl': 2727, 'rocket': 2728, 'fighter': 2729, 'mst3k': 2730, 'wherea': 2731, 'sensibl': 2732, 'thug': 2733, 'spare': 2734, 'lust': 2735, 'boot': 2736, 'dump': 2737, 'unforgett': 2738, 'meaning': 2739, 'luca': 2740, 'enorm': 2741, 'dane': 2742, 'kurt': 2743, 'fifti': 2744, 'adequ': 2745, 'rap': 2746, 'difficulti': 2747, 'brand': 2748, 'threat': 2749, 'engin': 2750, 'arnold': 2751, 'stress': 2752, 'dear': 2753, 'bobbi': 2754, 'butt': 2755, 'caricatur': 2756, 'karloff': 2757, 'ego': 2758, 'ralph': 2759, 'secretari': 2760, 'hamlet': 2761, 'barri': 2762, 'arrog': 2763, 'fest': 2764, 'journalist': 2765, 'elabor': 2766, 'swing': 2767, 'polish': 2768, 'homeless': 2769, 'flynn': 2770, 'puppet': 2771, 'resort': 2772, 'conspiraci': 2773, 'fanci': 2774, 'grate': 2775, 'unbear': 2776, 'arrang': 2777, 'tool': 2778, 'float': 2779, 'simpson': 2780, 'spike': 2781, 'induc': 2782, 'guilt': 2783, 'basement': 2784, 'tribut': 2785, 'choreograph': 2786, 'exercis': 2787, 'phillip': 2788, 'pig': 2789, 'boll': 2790, 'cruis': 2791, 'muppet': 2792, 'fianc': 2793, 'item': 2794, 'slip': 2795, '24': 2796, 'layer': 2797, 'puzzl': 2798, 'ward': 2799, 'tower': 2800, 'toilet': 2801, 'file': 2802, 'medium': 2803, 'stan': 2804, 'babe': 2805, 'ham': 2806, 'document': 2807, 'korean': 2808, 'editor': 2809, 'scarecrow': 2810, 'territori': 2811, 'superfici': 2812, 'portion': 2813, 'larger': 2814, 'spark': 2815, 'transit': 2816, 'orient': 2817, 'doc': 2818, 'slaughter': 2819, 'assur': 2820, 'catherin': 2821, 'philosoph': 2822, 'denzel': 2823, 'persona': 2824, 'glover': 2825, 'librari': 2826, 'inexplic': 2827, 'minim': 2828, 'walken': 2829, 'financi': 2830, 'sneak': 2831, 'curti': 2832, 'dorothi': 2833, 'wolf': 2834, 'pg': 2835, 'boredom': 2836, 'ban': 2837, 'jet': 2838, 'shi': 2839, 'jeremi': 2840, 'owe': 2841, 'cusack': 2842, 'profound': 2843, 'eleph': 2844, 'ambigu': 2845, 'backdrop': 2846, 'metaphor': 2847, 'multi': 2848, 'whale': 2849, 'hudson': 2850, 'implaus': 2851, 'viru': 2852, 'elsewher': 2853, 'union': 2854, 'ultra': 2855, 'notion': 2856, 'hack': 2857, 'rave': 2858, 'stiff': 2859, '2005': 2860, 'birthday': 2861, 'gadget': 2862, 'newspap': 2863, 'reader': 2864, 'urg': 2865, 'slight': 2866, 'pad': 2867, 'deriv': 2868, 'squar': 2869, 'distanc': 2870, 'hawk': 2871, 'disc': 2872, 'superhero': 2873, 'eva': 2874, 'poison': 2875, 'canada': 2876, 'eastwood': 2877, 'bibl': 2878, '1st': 2879, 'lloyd': 2880, 'afford': 2881, 'button': 2882, 'sadist': 2883, 'huh': 2884, 'charisma': 2885, 'spread': 2886, 'health': 2887, 'montag': 2888, 'skit': 2889, 'heston': 2890, 'drown': 2891, 'cure': 2892, 'restaur': 2893, 'essenc': 2894, 'muslim': 2895, 'estat': 2896, 'peak': 2897, 'companion': 2898, 'scoobi': 2899, 'maniac': 2900, 'dealt': 2901, 'fetch': 2902, 'gradual': 2903, 'lab': 2904, 'invest': 2905, 'godfath': 2906, 'cup': 2907, 'tea': 2908, 'alli': 2909, 'ritter': 2910, 'subtleti': 2911, 'countless': 2912, 'miik': 2913, 'gothic': 2914, 'servant': 2915, 'kane': 2916, 'heroic': 2917, 'electr': 2918, 'elect': 2919, 'briefli': 2920, 'salli': 2921, 'iii': 2922, 'charismat': 2923, 'ingredi': 2924, 'nuanc': 2925, 'tender': 2926, 'wannab': 2927, 'bud': 2928, 'reel': 2929, 'admittedli': 2930, 'grandmoth': 2931, 'resourc': 2932, 'toss': 2933, 'cole': 2934, 'neil': 2935, 'reev': 2936, 'gate': 2937, 'poverti': 2938, 'punk': 2939, 'shall': 2940, 'pit': 2941, 'dawson': 2942, 'stronger': 2943, 'stood': 2944, 'carrey': 2945, 'kubrick': 2946, 'label': 2947, 'mild': 2948, 'mafia': 2949, 'pauli': 2950, 'updat': 2951, 'smash': 2952, 'burst': 2953, 'cox': 2954, 'easier': 2955, 'bakshi': 2956, 'smooth': 2957, 'ian': 2958, 'assault': 2959, 'cardboard': 2960, 'fond': 2961, 'terri': 2962, 'outcom': 2963, 'tag': 2964, 'astair': 2965, 'useless': 2966, 'rex': 2967, 'vari': 2968, 'divers': 2969, 'coincid': 2970, 'fist': 2971, 'resolv': 2972, 'exchang': 2973, 'qualifi': 2974, 'melodramat': 2975, 'increasingli': 2976, 'sketch': 2977, 'vulner': 2978, 'samurai': 2979, '2002': 2980, 'conveni': 2981, 'reynold': 2982, 'insert': 2983, 'suspend': 2984, 'brillianc': 2985, 'be': 2986, 'templ': 2987, 'tame': 2988, 'luckili': 2989, 'scratch': 2990, 'blast': 2991, 'farm': 2992, 'ambiti': 2993, 'pin': 2994, 'strictli': 2995, 'soprano': 2996, 'meat': 2997, 'seventi': 2998, 'coach': 2999, 'walker': 3000, 'gotta': 3001, 'hamilton': 3002, 'jami': 3003, 'fisher': 3004, 'matthew': 3005, 'nuclear': 3006, 'cave': 3007, 'instantli': 3008, 'revers': 3009, 'timeless': 3010, 'eccentr': 3011, 'convolut': 3012, 'grasp': 3013, 'recreat': 3014, 'worthless': 3015, 'closet': 3016, 'butcher': 3017, 'clock': 3018, 'monk': 3019, 'spooki': 3020, 'ninja': 3021, 'kudo': 3022, 'brosnan': 3023, 'struck': 3024, 'discoveri': 3025, 'joey': 3026, 'empir': 3027, 'inconsist': 3028, 'selfish': 3029, 'partli': 3030, 'pal': 3031, 'eighti': 3032, 'miracl': 3033, 'fifteen': 3034, 'declar': 3035, 'sloppi': 3036, 'evok': 3037, 'cliff': 3038, 'norman': 3039, 'mitchel': 3040, 'bleak': 3041, 'sidekick': 3042, 'clown': 3043, 'importantli': 3044, 'gray': 3045, 'wipe': 3046, 'communist': 3047, 'seller': 3048, 'lifestyl': 3049, 'chew': 3050, 'debat': 3051, 'psychiatrist': 3052, 'flawless': 3053, 'cheek': 3054, 'enthusiast': 3055, '45': 3056, 'ho': 3057, 'farc': 3058, 'superbl': 3059, 'destin': 3060, 'australia': 3061, 'websit': 3062, 'aforement': 3063, 'piano': 3064, 'seed': 3065, 'stoog': 3066, 'dire': 3067, 'pressur': 3068, 'wrestl': 3069, 'wick': 3070, 'directori': 3071, 'bash': 3072, 'emili': 3073, 'drivel': 3074, 'splatter': 3075, 'soviet': 3076, 'slice': 3077, 'anni': 3078, 'akshay': 3079, 'regardless': 3080, 'dash': 3081, 'incompet': 3082, 'kitchen': 3083, 'abc': 3084, 'seduc': 3085, 'suppli': 3086, 'ken': 3087, 'distant': 3088, 'beaten': 3089, 'recov': 3090, 'doo': 3091, 'artifici': 3092, 'mann': 3093, 'cagney': 3094, 'prize': 3095, 'curios': 3096, 'increas': 3097, 'duo': 3098, 'helicopt': 3099, 'lou': 3100, 'chapter': 3101, 'glow': 3102, 'judi': 3103, 'pleasantli': 3104, 'dave': 3105, 'jar': 3106, 'boil': 3107, 'cia': 3108, 'flower': 3109, 'cameron': 3110, 'blob': 3111, 'ellen': 3112, 'glenn': 3113, 'craven': 3114, 'web': 3115, 'turner': 3116, 'francisco': 3117, 'favour': 3118, 'combat': 3119, 'panic': 3120, 'splendid': 3121, 'laurel': 3122, 'hop': 3123, 'ranger': 3124, 'drunken': 3125, 'goldberg': 3126, 'eleg': 3127, 'perri': 3128, 'craig': 3129, 'psychot': 3130, 'wizard': 3131, 'philosophi': 3132, 'alexand': 3133, 'falk': 3134, 'hatr': 3135, 'min': 3136, 'ruth': 3137, 'graduat': 3138, 'flip': 3139, 'plausibl': 3140, 'greek': 3141, 'gentl': 3142, '20th': 3143, 'fx': 3144, 'shortli': 3145, 'rid': 3146, 'slightest': 3147, 'modesti': 3148, 'gandhi': 3149, 'manhattan': 3150, 'unpleas': 3151, 'futurist': 3152, 'holi': 3153, 'we': 3154, 'fund': 3155, 'knight': 3156, 'lend': 3157, 'felix': 3158, 'harm': 3159, 'tall': 3160, 'preciou': 3161, 'ocean': 3162, 'jealou': 3163, 'legal': 3164, 'dracula': 3165, 'digniti': 3166, 'explicit': 3167, 'forbidden': 3168, 'thread': 3169, 'overdon': 3170, 'mock': 3171, 'nod': 3172, 'scientif': 3173, 'tank': 3174, 'giallo': 3175, 'bless': 3176, 'reviv': 3177, 'ami': 3178, 'childish': 3179, 'torment': 3180, 'awaken': 3181, 'repeatedli': 3182, 'verhoeven': 3183, '2004': 3184, 'eve': 3185, 'pirat': 3186, 'yesterday': 3187, 'broad': 3188, 'nerv': 3189, 'elderli': 3190, 'mel': 3191, 'margaret': 3192, 'thick': 3193, 'fever': 3194, 'unwatch': 3195, '99': 3196, 'awe': 3197, 'launch': 3198, 'royal': 3199, 'bin': 3200, 'publish': 3201, 'timothi': 3202, 'roman': 3203, 'politician': 3204, 'acclaim': 3205, 'rivet': 3206, 'eas': 3207, 'uniform': 3208, 'automat': 3209, 'absenc': 3210, 'kay': 3211, 'custom': 3212, 'ambit': 3213, 'lean': 3214, 'romero': 3215, 'ah': 3216, 'stiller': 3217, 'griffith': 3218, 'foul': 3219, 'transport': 3220, 'bathroom': 3221, 'stinker': 3222, 'phrase': 3223, 'wallac': 3224, 'purpl': 3225, 'tomato': 3226, 'termin': 3227, 'gabriel': 3228, 'pulp': 3229, 'crook': 3230, 'warren': 3231, 'pierc': 3232, 'antic': 3233, 'darker': 3234, 'homicid': 3235, 'sunshin': 3236, 'karen': 3237, 'awak': 3238, 'kenneth': 3239, 'album': 3240, 'viciou': 3241, 'evolv': 3242, '2003': 3243, 'ought': 3244, 'horrid': 3245, 'marin': 3246, 'prom': 3247, 'sixti': 3248, 'coloni': 3249, 'rambo': 3250, 'li': 3251, 'choreographi': 3252, 'packag': 3253, 'contrari': 3254, 'brazil': 3255, 'hollow': 3256, 'donna': 3257, 'saint': 3258, 'revolutionari': 3259, 'pray': 3260, 'eyr': 3261, 'q': 3262, 'juvenil': 3263, 'nerd': 3264, 'dose': 3265, 'overr': 3266, 'boast': 3267, 'ramon': 3268, 'candid': 3269, 'kapoor': 3270, 'beatti': 3271, 'blade': 3272, 'option': 3273, 'ireland': 3274, 'conserv': 3275, 'mummi': 3276, 'defi': 3277, 'mildr': 3278, 'twelv': 3279, 'stole': 3280, 'global': 3281, 'natali': 3282, 'detract': 3283, 'flame': 3284, 'trio': 3285, 'collabor': 3286, 'astonish': 3287, 'confirm': 3288, 'jazz': 3289, 'funer': 3290, 'protest': 3291, 'altman': 3292, 'fulci': 3293, 'kirk': 3294, 'tommi': 3295, 'enterpris': 3296, 'bull': 3297, 'spit': 3298, 'racial': 3299, 'blake': 3300, 'delici': 3301, 'bottl': 3302, 'shade': 3303, 'destini': 3304, 'leap': 3305, 'nicholson': 3306, 'mystic': 3307, 'yellow': 3308, 'audio': 3309, 'whip': 3310, 'altogeth': 3311, 'adolesc': 3312, 'reunit': 3313, 'threw': 3314, 'pseudo': 3315, 'vivid': 3316, 'bedroom': 3317, 'merci': 3318, 'harder': 3319, 'enchant': 3320, 'inherit': 3321, 'todd': 3322, 'meaningless': 3323, 'neo': 3324, 'popcorn': 3325, 'swedish': 3326, 'visibl': 3327, 'fonda': 3328, 'staff': 3329, 'leonard': 3330, 'bust': 3331, 'lemmon': 3332, 'moodi': 3333, 'edi': 3334, 'uneven': 3335, 'roommat': 3336, 'voight': 3337, 'wire': 3338, 'decor': 3339, 'await': 3340, 'exhibit': 3341, 'tip': 3342, 'suspici': 3343, 'madonna': 3344, 'befriend': 3345, 'synopsi': 3346, 'kennedi': 3347, 'lawrenc': 3348, 'reserv': 3349, 'ruthless': 3350, 'jew': 3351, 'atlanti': 3352, 'fanat': 3353, 'respond': 3354, 'crocodil': 3355, 'bradi': 3356, 'dimens': 3357, 'ventur': 3358, 'centr': 3359, 'palma': 3360, 'holli': 3361, 'chao': 3362, 'abysm': 3363, 'garner': 3364, 'clumsi': 3365, 'rural': 3366, 'audit': 3367, 'clint': 3368, 'unsettl': 3369, 'incident': 3370, 'bold': 3371, 'voyag': 3372, 'carl': 3373, 'bargain': 3374, '2007': 3375, 'acknowledg': 3376, 'cd': 3377, 'lit': 3378, 'cari': 3379, 'trail': 3380, 'wealth': 3381, 'neglect': 3382, 'immigr': 3383, 'humili': 3384, 'elimin': 3385, 'characterist': 3386, 'imperson': 3387, '2nd': 3388, 'hart': 3389, 'poetic': 3390, 'nearbi': 3391, 'troop': 3392, 'mall': 3393, 'tiger': 3394, 'daddi': 3395, 'ant': 3396, 'timon': 3397, 'echo': 3398, 'cuba': 3399, 'versu': 3400, 'jeffrey': 3401, 'repuls': 3402, 'celluloid': 3403, 'mickey': 3404, 'domest': 3405, 'paus': 3406, 'marshal': 3407, 'collaps': 3408, 'infect': 3409, 'pun': 3410, 'saga': 3411, 'homer': 3412, 'solo': 3413, 'prejudic': 3414, 'mistaken': 3415, 'sore': 3416, 'hbo': 3417, 'promin': 3418, 'inan': 3419, 'ginger': 3420, 'coat': 3421, 'assembl': 3422, 'olivi': 3423, 'interrupt': 3424, 'coffe': 3425, 'inappropri': 3426, 'chest': 3427, 'equip': 3428, 'gear': 3429, 'apolog': 3430, 'tribe': 3431, 'cake': 3432, '1996': 3433, 'undoubtedli': 3434, 'harvey': 3435, 'pant': 3436, 'milk': 3437, 'leon': 3438, 'pot': 3439, 'vulgar': 3440, 'highest': 3441, 'solut': 3442, 'maggi': 3443, 'humbl': 3444, 'furthermor': 3445, 'pen': 3446, 'embrac': 3447, 'primari': 3448, 'retain': 3449, 'instant': 3450, 'jenni': 3451, 'polanski': 3452, 'trace': 3453, 'aveng': 3454, 'devast': 3455, 'florida': 3456, 'exot': 3457, 'institut': 3458, 'brooklyn': 3459, 'airplan': 3460, 'colleagu': 3461, 'colonel': 3462, 'consum': 3463, '1999': 3464, 'bowl': 3465, 'wive': 3466, 'descend': 3467, 'dutch': 3468, 'smaller': 3469, 'rick': 3470, 'poke': 3471, 'disabl': 3472, '3rd': 3473, 'outer': 3474, 'sale': 3475, 'illog': 3476, 'cope': 3477, 'dian': 3478, 'linda': 3479, 'seduct': 3480, 'principl': 3481, 'godzilla': 3482, 'gender': 3483, 'ya': 3484, 'strain': 3485, 'gloriou': 3486, 'scope': 3487, 'dud': 3488, 'primarili': 3489, 'lol': 3490, 'vast': 3491, 'inferior': 3492, 'devoid': 3493, 'yard': 3494, 'gundam': 3495, 'hal': 3496, 'secondli': 3497, 'mixtur': 3498, 'glamor': 3499, 'dive': 3500, 'beneath': 3501, 'blatant': 3502, 'rabbit': 3503, 'predecessor': 3504, 'bubbl': 3505, 'cue': 3506, 'casual': 3507, 'senseless': 3508, 'aggress': 3509, 'shirley': 3510, 'talki': 3511, 'countrysid': 3512, 'myer': 3513, 'z': 3514, 'et': 3515, 'arab': 3516, 'hideou': 3517, 'shelf': 3518, 'alert': 3519, 'alfr': 3520, 'museum': 3521, 'streep': 3522, 'invas': 3523, 'disjoint': 3524, 'grinch': 3525, 'simplist': 3526, 'april': 3527, 'breed': 3528, 'pearl': 3529, 'garbo': 3530, 'trademark': 3531, 'domino': 3532, 'stellar': 3533, 'loyal': 3534, 'boom': 3535, 'experiment': 3536, 'slide': 3537, 'disgrac': 3538, 'acid': 3539, 'robinson': 3540, 'robberi': 3541, 'khan': 3542, 'oz': 3543, 'hardcor': 3544, 'illeg': 3545, 'stir': 3546, 'mail': 3547, 'sh': 3548, 'vanish': 3549, 'maci': 3550, 'defens': 3551, 'rendit': 3552, 'unhappi': 3553, 'obtain': 3554, 'uwe': 3555, 'mayor': 3556, 'hopeless': 3557, 'applaud': 3558, 'stack': 3559, 'topless': 3560, 'soccer': 3561, 'incomprehens': 3562, 'blew': 3563, 'dismiss': 3564, 'counter': 3565, 'dicken': 3566, 'scroog': 3567, 'amanda': 3568, 'emphasi': 3569, 'spider': 3570, 'wont': 3571, 'psychic': 3572, 'span': 3573, 'tenant': 3574, 'rifl': 3575, 'tempt': 3576, 'hartley': 3577, 'recruit': 3578, 'declin': 3579, 'fri': 3580, 'craze': 3581, 'diana': 3582, 'grandfath': 3583, 'berlin': 3584, 'shed': 3585, 'goer': 3586, 'porno': 3587, 'intim': 3588, 'wet': 3589, 'woo': 3590, 'ration': 3591, 'resurrect': 3592, 'bitch': 3593, 'faster': 3594, 'parad': 3595, 'justin': 3596, 'sympath': 3597, 'trashi': 3598, 'ethnic': 3599, 'revolt': 3600, 'riot': 3601, 'sibl': 3602, 'lumet': 3603, 'shaw': 3604, 'niro': 3605, 'gap': 3606, 'hopper': 3607, 'region': 3608, 'hesit': 3609, 'commend': 3610, 'eager': 3611, 'enlighten': 3612, 'biographi': 3613, 'honesti': 3614, 'jonathan': 3615, 'feminist': 3616, 'andr': 3617, '00': 3618, 'ensur': 3619, 'immort': 3620, 'mario': 3621, 'patriot': 3622, 'nephew': 3623, 'choru': 3624, 'ballet': 3625, 'worm': 3626, 'dealer': 3627, 'steam': 3628, 'slick': 3629, 'rider': 3630, 'weakest': 3631, 'partial': 3632, 'farmer': 3633, 'wendi': 3634, 'wheel': 3635, 'unreal': 3636, 'lena': 3637, 'nostalg': 3638, 'snap': 3639, 'properti': 3640, 'morri': 3641, 'sappi': 3642, 'wore': 3643, 'skull': 3644, 'safeti': 3645, 'owen': 3646, 'victori': 3647, 'kingdom': 3648, 'blunt': 3649, 'confin': 3650, 'leo': 3651, 'psychopath': 3652, 'similarli': 3653, 'franco': 3654, 'charlott': 3655, 'composit': 3656, 'hung': 3657, 'repress': 3658, 'sandra': 3659, 'util': 3660, 'prequel': 3661, 'vice': 3662, 'mutant': 3663, 'macarthur': 3664, 'whoopi': 3665, 'bumbl': 3666, 'tail': 3667, 'campbel': 3668, 'montana': 3669, 'despair': 3670, 'nervou': 3671, 'rambl': 3672, 'drain': 3673, 'speci': 3674, 'latin': 3675, 'strand': 3676, 'valuabl': 3677, 'bergman': 3678, 'emperor': 3679, 'drum': 3680, 'deed': 3681, 'rocki': 3682, 'acquir': 3683, 'pattern': 3684, 'tad': 3685, 'thru': 3686, 'recycl': 3687, 'compens': 3688, 'bonu': 3689, 'dust': 3690, 'del': 3691, 'heartbreak': 3692, 'hyde': 3693, 'compass': 3694, 'rope': 3695, 'repli': 3696, 'farrel': 3697, 'cg': 3698, '1972': 3699, 'dalton': 3700, 'snl': 3701, 'bow': 3702, 'exit': 3703, 'miseri': 3704, 'kyle': 3705, '35': 3706, 'romp': 3707, 'gimmick': 3708, 'tonight': 3709, 'contempl': 3710, 'gal': 3711, 'rotten': 3712, 'downhil': 3713, 'oppress': 3714, 'da': 3715, 'chess': 3716, 'pour': 3717, 'olli': 3718, 'mistress': 3719, 'percept': 3720, 'airport': 3721, 'bleed': 3722, 'radic': 3723, 'wacki': 3724, 'rapist': 3725, 'carradin': 3726, 'martian': 3727, 'slug': 3728, 'orson': 3729, 'roth': 3730, 'stilt': 3731, 'pervert': 3732, 'belt': 3733, 'arc': 3734, 'pervers': 3735, 'mislead': 3736, '1983': 3737, 'champion': 3738, 'banal': 3739, 'slash': 3740, 'dazzl': 3741, 'unpredict': 3742, 'edgar': 3743, 'pursuit': 3744, 'tooth': 3745, 'attorney': 3746, 'preach': 3747, 'melodi': 3748, 'shelley': 3749, 'paltrow': 3750, 'arguabl': 3751, 'programm': 3752, 'taught': 3753, 'heal': 3754, 'tackl': 3755, 'marti': 3756, 'vocal': 3757, 'closest': 3758, 'orang': 3759, 'conneri': 3760, 'graham': 3761, 'uplift': 3762, 'vengeanc': 3763, 'employe': 3764, 'gambl': 3765, 'sensat': 3766, 'rubi': 3767, 'tiresom': 3768, 'cleverli': 3769, 'maid': 3770, 'mesmer': 3771, 'dixon': 3772, 'passeng': 3773, 'poem': 3774, 'bela': 3775, 'chicken': 3776, 'virginia': 3777, 'plight': 3778, 'franki': 3779, 'duval': 3780, 'raymond': 3781, 'clone': 3782, 'crystal': 3783, '1968': 3784, 'swallow': 3785, 'habit': 3786, 'gerard': 3787, 'climact': 3788, 'iran': 3789, 'scottish': 3790, 'suffic': 3791, 'whine': 3792, 'numb': 3793, 'yawn': 3794, 'extens': 3795, 'giggl': 3796, 'engross': 3797, 'convincingli': 3798, 'tube': 3799, 'paranoia': 3800, 'inject': 3801, 'outing': 3802, 'abraham': 3803, 'volum': 3804, 'quarter': 3805, 'secretli': 3806, 'bay': 3807, 'profan': 3808, 'mute': 3809, 'amitabh': 3810, 'monologu': 3811, 'lundgren': 3812, 'calm': 3813, 'sirk': 3814, 'pokemon': 3815, 'backward': 3816, 'meander': 3817, 'nichola': 3818, 'ethan': 3819, 'abort': 3820, 'septemb': 3821, 'lowest': 3822, 'plod': 3823, 'linger': 3824, 'im': 3825, 'trend': 3826, 'austen': 3827, 'expand': 3828, 'poetri': 3829, 'frankenstein': 3830, 'chicago': 3831, 'earl': 3832, 'grotesqu': 3833, 'surpass': 3834, 'taxi': 3835, 'profess': 3836, 'dispos': 3837, 'richardson': 3838, 'underst': 3839, 'franci': 3840, 'junior': 3841, 'fed': 3842, 'spock': 3843, 'bend': 3844, 'lure': 3845, 'simplic': 3846, 'tourist': 3847, 'descent': 3848, 'der': 3849, 'eugen': 3850, 'econom': 3851, 'catchi': 3852, 'household': 3853, 'mundan': 3854, 'stallon': 3855, 'myth': 3856, 'muddl': 3857, 'dysfunct': 3858, 'rant': 3859, 'hum': 3860, 'cannon': 3861, 'nostalgia': 3862, 'sue': 3863, 'compliment': 3864, 'instrument': 3865, 'spoke': 3866, 'waitress': 3867, 'greedi': 3868, 'rubber': 3869, 'literatur': 3870, 'mankind': 3871, 'duck': 3872, 'irrelev': 3873, 'louis': 3874, 'mortal': 3875, 'dictat': 3876, 'recognit': 3877, 'stale': 3878, 'firstli': 3879, 'recognis': 3880, 'flee': 3881, 'sissi': 3882, 'randi': 3883, 'equival': 3884, 'carel': 3885, 'bacal': 3886, 'insur': 3887, 'hello': 3888, 'omen': 3889, 'eaten': 3890, 'lang': 3891, 'map': 3892, 'dement': 3893, 'occupi': 3894, 'cent': 3895, 'crucial': 3896, 'damon': 3897, 'molli': 3898, 'coast': 3899, 'phoni': 3900, 'alongsid': 3901, 'phantom': 3902, 'june': 3903, 'deaf': 3904, 'furi': 3905, 'cyborg': 3906, 'damm': 3907, 'onlin': 3908, 'grayson': 3909, 'drake': 3910, 'twilight': 3911, 'lengthi': 3912, 'wisdom': 3913, '1973': 3914, 'reign': 3915, 'labor': 3916, 'freez': 3917, 'daisi': 3918, 'ashley': 3919, 'likewis': 3920, 'bike': 3921, 'newli': 3922, 'antwon': 3923, 'dreari': 3924, 'rude': 3925, 'loyalti': 3926, 'heel': 3927, 'bump': 3928, 'distinguish': 3929, 'blackmail': 3930, 'buffalo': 3931, 'rooney': 3932, 'biko': 3933, 'nineti': 3934, 'worn': 3935, 'emphas': 3936, 'startl': 3937, 'barrymor': 3938, 'unorigin': 3939, 'exposur': 3940, 'incorpor': 3941, 'vein': 3942, 'approv': 3943, 'inher': 3944, 'pink': 3945, 'analysi': 3946, 'basketbal': 3947, 'proce': 3948, 'keith': 3949, 'boxer': 3950, 'chronicl': 3951, 'sailor': 3952, 'baddi': 3953, 'attribut': 3954, 'interior': 3955, 'tunnel': 3956, 'ridden': 3957, 'butler': 3958, 'provoc': 3959, 'prey': 3960, 'simmon': 3961, 'millionair': 3962, 'mighti': 3963, 'barrel': 3964, 'julian': 3965, 'drift': 3966, 'indiffer': 3967, 'meyer': 3968, 'substitut': 3969, 'improvis': 3970, 'er': 3971, 'underli': 3972, 'degrad': 3973, 'nicol': 3974, 'fleet': 3975, 'bunni': 3976, 'meg': 3977, 'stalker': 3978, 'belushi': 3979, 'undeni': 3980, 'robbin': 3981, 'walsh': 3982, 'hypnot': 3983, 'predat': 3984, 'condemn': 3985, 'othello': 3986, 'unrel': 3987, 'elm': 3988, 'carla': 3989, 'mormon': 3990, 'novak': 3991, 'priceless': 3992, 'disord': 3993, 'roof': 3994, 'marion': 3995, 'alarm': 3996, 'warmth': 3997, 'edgi': 3998, 'rukh': 3999, 'shove': 4000, 'greed': 4001, 'watson': 4002, 'enthusiasm': 4003, 'firm': 4004, 'unawar': 4005, 'palac': 4006, 'exquisit': 4007, 'reid': 4008, 'lampoon': 4009, 'mtv': 4010, 'nyc': 4011, 'agenda': 4012, '3d': 4013, 'errol': 4014, 'alison': 4015, 'dolph': 4016, 'vital': 4017, 'hay': 4018, 'testament': 4019, 'distort': 4020, 'orlean': 4021, 'glanc': 4022, 'petti': 4023, 'simultan': 4024, 'peril': 4025, 'campaign': 4026, 'profit': 4027, 'cassidi': 4028, 'what': 4029, 'gestur': 4030, 'spain': 4031, 'championship': 4032, 'crown': 4033, '13th': 4034, 'ponder': 4035, 'preserv': 4036, '1933': 4037, 'unleash': 4038, 'pamela': 4039, 'session': 4040, 'nun': 4041, 'iraq': 4042, 'angela': 4043, 'valentin': 4044, 'israel': 4045, 'minimum': 4046, 'coup': 4047, 'showdown': 4048, 'beatl': 4049, 'drip': 4050, 'zizek': 4051, 'randomli': 4052, 'sergeant': 4053, 'eastern': 4054, 'thompson': 4055, 'peck': 4056, 'wig': 4057, 'represent': 4058, 'perpetu': 4059, 'unimagin': 4060, 'travesti': 4061, 'contradict': 4062, 'rout': 4063, 'bro': 4064, 'stake': 4065, 'cream': 4066, 'din': 4067, 'han': 4068, 'valley': 4069, 'jan': 4070, 'quinn': 4071, '1984': 4072, 'miyazaki': 4073, 'stroke': 4074, 'buster': 4075, 'restrain': 4076, 'regist': 4077, 'calib': 4078, 'brenda': 4079, 'climat': 4080, 'empathi': 4081, 'reson': 4082, 'crow': 4083, 'kurosawa': 4084, 'exposit': 4085, 'realm': 4086, 'cooki': 4087, 'gentleman': 4088, 'crawl': 4089, 'shootout': 4090, 'scotland': 4091, 'mon': 4092, 'fido': 4093, 'sabrina': 4094, 'absent': 4095, 'businessman': 4096, 'pretens': 4097, 'delic': 4098, 'monoton': 4099, 'ustinov': 4100, 'shaki': 4101, 'ross': 4102, 'painter': 4103, 'traumat': 4104, 'derang': 4105, '1997': 4106, 'josh': 4107, 'distress': 4108, 'mclaglen': 4109, 'unsatisfi': 4110, 'baldwin': 4111, '1987': 4112, 'passabl': 4113, 'geek': 4114, 'wax': 4115, 'cloud': 4116, 'dana': 4117, 'compromis': 4118, 'abomin': 4119, 'femm': 4120, 'sammi': 4121, 'censor': 4122, 'shoddi': 4123, 'tacki': 4124, 'greg': 4125, 'spacey': 4126, 'soderbergh': 4127, 'sucker': 4128, 'meryl': 4129, 'perceiv': 4130, 'demis': 4131, 'unseen': 4132, 'stargat': 4133, 'fuller': 4134, 'crawford': 4135, 'warrant': 4136, 'darren': 4137, 'pole': 4138, 'norm': 4139, 'primit': 4140, 'uncov': 4141, 'tech': 4142, 'jewel': 4143, 'dee': 4144, 'judgment': 4145, 'verbal': 4146, 'accuraci': 4147, 'click': 4148, '1993': 4149, 'antonioni': 4150, 'unravel': 4151, 'seal': 4152, 'valid': 4153, 'fog': 4154, 'fenc': 4155, 'wholli': 4156, 'kumar': 4157, 'deceas': 4158, 'reluct': 4159, 'austin': 4160, 'expedit': 4161, 'polici': 4162, 'anchor': 4163, 'sid': 4164, 'exclus': 4165, 'nathan': 4166, 'correctli': 4167, 'deniro': 4168, 'tarantino': 4169, 'clash': 4170, 'furiou': 4171, 'hallucin': 4172, 'seldom': 4173, 'joel': 4174, 'tax': 4175, 'trait': 4176, '2008': 4177, 'behold': 4178, 'enforc': 4179, 'nicola': 4180, 'sunni': 4181, 'slam': 4182, 'sustain': 4183, 'sheet': 4184, 'temper': 4185, 'fought': 4186, '1995': 4187, 'shanghai': 4188, '3000': 4189, 'ritual': 4190, 'pocket': 4191, 'patienc': 4192, '1971': 4193, 'crippl': 4194, 'mode': 4195, 'wretch': 4196, 'wang': 4197, 'logan': 4198, 'darn': 4199, 'sand': 4200, 'unfair': 4201, 'debt': 4202, 'alec': 4203, 'clerk': 4204, 'dreck': 4205, 'bake': 4206, 'conduct': 4207, 'fabric': 4208, 'fart': 4209, 'roller': 4210, 'murray': 4211, 'vanc': 4212, 'malon': 4213, 'pete': 4214, 'canyon': 4215, 'guitar': 4216, 'despis': 4217, 'penni': 4218, 'exhaust': 4219, 'clau': 4220, 'schedul': 4221, 'scriptwrit': 4222, 'outlin': 4223, 'stark': 4224, 'phil': 4225, 'robber': 4226, 'isabel': 4227, 'rita': 4228, 'legaci': 4229, 'conscious': 4230, 'grief': 4231, 'sweep': 4232, 'divid': 4233, 'tactic': 4234, 'shell': 4235, 'fundament': 4236, 'preposter': 4237, 'stuart': 4238, 'helpless': 4239, 'technicolor': 4240, 'soup': 4241, 'runner': 4242, 'preston': 4243, 'critiqu': 4244, 'bias': 4245, 'squad': 4246, 'bridget': 4247, 'vomit': 4248, 'alley': 4249, 'restrict': 4250, 'delv': 4251, 'drove': 4252, 'flair': 4253, 'agenc': 4254, 'implic': 4255, 'unexpectedli': 4256, 'jacket': 4257, 'liberti': 4258, 'palanc': 4259, 'consciou': 4260, 'bloom': 4261, 'inabl': 4262, 'rehash': 4263, 'lacklust': 4264, 'sugar': 4265, 'alicia': 4266, 'marc': 4267, 'sniper': 4268, 'newman': 4269, 'russia': 4270, 'invad': 4271, 'propos': 4272, 'jodi': 4273, 'culmin': 4274, 'sentinel': 4275, 'downey': 4276, 'kansa': 4277, 'cigarett': 4278, 'passag': 4279, 'rear': 4280, 'connor': 4281, 'gregori': 4282, 'boyl': 4283, 'rod': 4284, 'lush': 4285, 'delet': 4286, '22': 4287, 'wrench': 4288, 'awhil': 4289, '1936': 4290, 'bacon': 4291, 'tripe': 4292, 'sharon': 4293, 'aesthet': 4294, 'asylum': 4295, 'karl': 4296, 'vet': 4297, 'chainsaw': 4298, 'behaviour': 4299, 'ladder': 4300, 'feat': 4301, 'rehears': 4302, 'tendenc': 4303, 'rampag': 4304, 'cap': 4305, 'pale': 4306, 'horn': 4307, 'arrow': 4308, 'improb': 4309, 'mccoy': 4310, 'foxx': 4311, 'yeti': 4312, 'kolchak': 4313, '19th': 4314, 'amazon': 4315, 'shortcom': 4316, 'loneli': 4317, 'paradis': 4318, 'wildli': 4319, 'newcom': 4320, 'minu': 4321, 'weav': 4322, 'conscienc': 4323, '1978': 4324, 'suffici': 4325, 'hackney': 4326, 'scoop': 4327, 'wagner': 4328, 'fright': 4329, 'rhythm': 4330, 'basing': 4331, 'suspicion': 4332, 'el': 4333, 'sung': 4334, 'tasteless': 4335, 'tomorrow': 4336, 'visitor': 4337, 'underneath': 4338, 'spice': 4339, 'elit': 4340, 'hulk': 4341, 'filler': 4342, 'stream': 4343, 'globe': 4344, 'rumor': 4345, 'financ': 4346, '1988': 4347, 'lurk': 4348, 'aristocrat': 4349, '1920': 4350, 'prank': 4351, 'hungri': 4352, 'paramount': 4353, 'thunderbird': 4354, 'coaster': 4355, 'brit': 4356, 'abrupt': 4357, 'en': 4358, 'teas': 4359, 'literari': 4360, 'heist': 4361, 'standout': 4362, '1989': 4363, 'counterpart': 4364, 'straightforward': 4365, 'impos': 4366, 'immers': 4367, 'springer': 4368, 'beverli': 4369, 'atroc': 4370, 'secondari': 4371, 'bread': 4372, 'dirt': 4373, 'recogniz': 4374, 'couch': 4375, 'iv': 4376, 'minist': 4377, 'quietli': 4378, 'ram': 4379, '1939': 4380, 'ingeni': 4381, 'smell': 4382, 'grudg': 4383, 'tierney': 4384, 'naughti': 4385, 'wwe': 4386, 'paxton': 4387, 'leigh': 4388, 'penn': 4389, 'rub': 4390, 'worship': 4391, 'curli': 4392, 'chavez': 4393, 'cancer': 4394, 'choppi': 4395, 'inmat': 4396, 'entranc': 4397, 'lectur': 4398, '75': 4399, 'hopkin': 4400, 'posey': 4401, 'chamberlain': 4402, 'missil': 4403, 'misguid': 4404, 'policeman': 4405, 'injuri': 4406, 'morbid': 4407, 'entitl': 4408, 'laurenc': 4409, 'transcend': 4410, 'heartfelt': 4411, 'sassi': 4412, 'cattl': 4413, '1986': 4414, 'geni': 4415, 'quaid': 4416, 'attenborough': 4417, 'bernard': 4418, 'watcher': 4419, 'nemesi': 4420, 'lindsay': 4421, 'variat': 4422, 'convert': 4423, 'skeptic': 4424, 'net': 4425, 'ratso': 4426, 'enthral': 4427, 'clan': 4428, 'moreov': 4429, 'nolan': 4430, 'sublim': 4431, 'ace': 4432, 'esther': 4433, 'yearn': 4434, 'duel': 4435, 'obstacl': 4436, 'reliabl': 4437, 'hopelessli': 4438, 'artsi': 4439, 'graini': 4440, 'spiral': 4441, 'buzz': 4442, 'cruelti': 4443, 'diari': 4444, 'brood': 4445, 'bean': 4446, 'puppi': 4447, 'kitti': 4448, 'vader': 4449, 'out': 4450, 'unexplain': 4451, 'characteris': 4452, 'bye': 4453, 'poe': 4454, 'steadi': 4455, 'rosemari': 4456, 'tyler': 4457, 'mytholog': 4458, 'uncut': 4459, 'dont': 4460, 'moder': 4461, 'facil': 4462, 'egg': 4463, 'grin': 4464, 'youngest': 4465, '1979': 4466, 'enabl': 4467, 'hk': 4468, 'setup': 4469, 'kidman': 4470, 'carlito': 4471, 'gillian': 4472, 'underworld': 4473, 'narrow': 4474, 'bewar': 4475, 'acquaint': 4476, 'bounc': 4477, '1969': 4478, 'effici': 4479, 'bronson': 4480, 'spontan': 4481, 'baffl': 4482, 'athlet': 4483, 'oblig': 4484, 'brendan': 4485, 'disastr': 4486, 'despic': 4487, 'clueless': 4488, 'gina': 4489, 'martha': 4490, 'patricia': 4491, 'decept': 4492, 'fuel': 4493, 'sweat': 4494, 'christin': 4495, 'weather': 4496, 'hain': 4497, 'niec': 4498, 'preming': 4499, 'hammi': 4500, 'heap': 4501, 'kline': 4502, 'exterior': 4503, 'mayhem': 4504, 'angst': 4505, 'mermaid': 4506, 'candl': 4507, 'sleepwalk': 4508, 'loath': 4509, 'biker': 4510, 'hepburn': 4511, '73': 4512, 'dandi': 4513, '19': 4514, 'taboo': 4515, 'enlist': 4516, 'headach': 4517, 'suprem': 4518, 'circu': 4519, 'uh': 4520, 'viewpoint': 4521, 'preachi': 4522, 'lester': 4523, 'harmless': 4524, 'dilemma': 4525, 'insipid': 4526, 'trigger': 4527, 'sooner': 4528, 'outlaw': 4529, 'injur': 4530, 'rome': 4531, 'housewif': 4532, 'loi': 4533, 'goof': 4534, 'shatter': 4535, 'astound': 4536, 'scar': 4537, 'analyz': 4538, 'virtu': 4539, 'renaiss': 4540, 'tick': 4541, 'fontain': 4542, 'macho': 4543, 'spade': 4544, 'bent': 4545, 'zoom': 4546, 'hooker': 4547, 'glorifi': 4548, 'filth': 4549, 'hostag': 4550, 'foolish': 4551, 'salt': 4552, 'scorses': 4553, 'steer': 4554, 'oldest': 4555, 'intric': 4556, 'idol': 4557, 'hokey': 4558, 'slimi': 4559, 'camcord': 4560, 'amor': 4561, 'stair': 4562, 'phenomenon': 4563, 'ebert': 4564, 'dish': 4565, 'dismal': 4566, 'tripl': 4567, 'contempt': 4568, 'overlong': 4569, 'surgeri': 4570, 'corbett': 4571, 'stimul': 4572, 'fluff': 4573, 'ariel': 4574, 'whore': 4575, 'sox': 4576, 'claustrophob': 4577, 'redund': 4578, 'immatur': 4579, 'gere': 4580, 'cassavet': 4581, 'boston': 4582, 'guin': 4583, 'strongest': 4584, 'trivia': 4585, 'assert': 4586, 'margin': 4587, 'cow': 4588, 'alvin': 4589, 'nolt': 4590, 'obligatori': 4591, '1976': 4592, 'widescreen': 4593, 'muscl': 4594, 'keen': 4595, 'down': 4596, 'conquer': 4597, 'frantic': 4598, 'radiat': 4599, 'flirt': 4600, 'antagonist': 4601, 'fascist': 4602, 'preced': 4603, 'beard': 4604, 'proport': 4605, 'transplant': 4606, 'shred': 4607, 'flashi': 4608, 'mutual': 4609, 'messi': 4610, 'faint': 4611, 'corman': 4612, '1981': 4613, 'dwarf': 4614, 'mount': 4615, 'remad': 4616, 'schlock': 4617, 'gasp': 4618, 'perman': 4619, 'flag': 4620, 'rhyme': 4621, 'harold': 4622, 'zane': 4623, 'gabl': 4624, 'naschi': 4625, 'astronaut': 4626, 'shield': 4627, 'spree': 4628, 'cohen': 4629, 'spinal': 4630, 'joker': 4631, 'cush': 4632, 'claud': 4633, '28': 4634, 'persuad': 4635, 'resum': 4636, 'www': 4637, 'mobil': 4638, 'aborigin': 4639, 'departur': 4640, 'mol': 4641, 'triangl': 4642, 'raj': 4643, '95': 4644, 'ritchi': 4645, 'neurot': 4646, 'bitten': 4647, '1945': 4648, 'inflict': 4649, 'sensual': 4650, 'repris': 4651, 'scandal': 4652, 'vaniti': 4653, 'discern': 4654, 'bachelor': 4655, 'fishburn': 4656, 'someday': 4657, 'strive': 4658, 'danish': 4659, 'boob': 4660, 'carey': 4661, 'interestingli': 4662, 'hara': 4663, 'deer': 4664, 'barn': 4665, 'off': 4666, 'instruct': 4667, 'wield': 4668, 'info': 4669, 'divin': 4670, 'flock': 4671, 'brush': 4672, 'archiv': 4673, 'neill': 4674, 'ish': 4675, 'banter': 4676, 'dame': 4677, 'miracul': 4678, 'prophet': 4679, 'fragil': 4680, 'melissa': 4681, 'frontier': 4682, 'hilar': 4683, 'helm': 4684, 'proclaim': 4685, 'biblic': 4686, 'casino': 4687, 'cliffhang': 4688, 'clad': 4689, 'carlo': 4690, 'pacif': 4691, 'vibrant': 4692, 'traffic': 4693, 'bate': 4694, 'hug': 4695, 'dim': 4696, 'timberlak': 4697, 'recit': 4698, 'europa': 4699, 'mobster': 4700, 'artwork': 4701, 'dylan': 4702, 'harrison': 4703, 'cb': 4704, 'axe': 4705, 'kathryn': 4706, 'pixar': 4707, 'hapless': 4708, 'undermin': 4709, 'senior': 4710, 'wendigo': 4711, 'pickford': 4712, 'heartwarm': 4713, 'anton': 4714, 'colin': 4715, 'jade': 4716, 'rot': 4717, 'luka': 4718, 'parson': 4719, 'cher': 4720, 'submit': 4721, 'earnest': 4722, 'cycl': 4723, 'loretta': 4724, 'shepherd': 4725, 'articl': 4726, 'lui': 4727, 'trier': 4728, 'vile': 4729, 'sicken': 4730, 'isra': 4731, 'feast': 4732, 'marlon': 4733, 'http': 4734, 'akin': 4735, 'bikini': 4736, 'lucil': 4737, 'winchest': 4738, 'northern': 4739, 'vanessa': 4740, 'antholog': 4741, 'static': 4742, 'venom': 4743, 'eli': 4744, 'aris': 4745, 'orphan': 4746, 'foil': 4747, 'legitim': 4748, 'uma': 4749, 'breakfast': 4750, 'electron': 4751, 'choke': 4752, 'jo': 4753, 'mason': 4754, 'holocaust': 4755, 'rooki': 4756, 'mathieu': 4757, 'flavor': 4758, 'razor': 4759, 'jordan': 4760, 'toronto': 4761, 'bondag': 4762, 'blatantli': 4763, 'wardrob': 4764, 'pc': 4765, 'cerebr': 4766, 'seedi': 4767, 'alexandr': 4768, 'estrang': 4769, 'illus': 4770, 'redneck': 4771, 'misfortun': 4772, 'token': 4773, 'nope': 4774, 'milo': 4775, 'howl': 4776, 'feminin': 4777, 'psych': 4778, 'audrey': 4779, 'abund': 4780, 'nightclub': 4781, 'retriev': 4782, 'gunga': 4783, 'styliz': 4784, 'outdat': 4785, 'oppon': 4786, 'tack': 4787, 'wrestler': 4788, 'deem': 4789, 'boyer': 4790, 'charlton': 4791, 'disregard': 4792, 'turd': 4793, 'shorter': 4794, 'fifth': 4795, 'knightley': 4796, 'affleck': 4797, 'cartoonish': 4798, 'peer': 4799, 'swept': 4800, 'smack': 4801, 'dudley': 4802, 'comprehend': 4803, 'huston': 4804, 'highway': 4805, 'frog': 4806, 'glare': 4807, 'ceremoni': 4808, 'ideolog': 4809, 'clinic': 4810, 'linear': 4811, 'magician': 4812, 'leather': 4813, 'gilbert': 4814, 'sleaz': 4815, 'durat': 4816, 'deliver': 4817, 'lighter': 4818, 'corn': 4819, 'monument': 4820, 'uniformli': 4821, 'boo': 4822, 'snatch': 4823, '1991': 4824, 'summar': 4825, 'energet': 4826, 'evolut': 4827, 'cuban': 4828, 'spine': 4829, 'chip': 4830, 'mitch': 4831, 'plate': 4832, 'btw': 4833, 'client': 4834, 'breakdown': 4835, 'lavish': 4836, 'whack': 4837, 'compris': 4838, 'einstein': 4839, 'tara': 4840, 'lifeless': 4841, 'bastard': 4842, '4th': 4843, 'newer': 4844, 'greet': 4845, 'conrad': 4846, '1994': 4847, 'spawn': 4848, 'collector': 4849, 'cemeteri': 4850, 'toe': 4851, 'moe': 4852, 'bogu': 4853, 'salman': 4854, 'senat': 4855, 'phenomen': 4856, 'braveheart': 4857, 'potter': 4858, 'goldsworthi': 4859, 'spectacl': 4860, 'inaccuraci': 4861, 'clara': 4862, 'nina': 4863, 'occup': 4864, 'signal': 4865, 'alleg': 4866, 'trauma': 4867, 'historian': 4868, 'healthi': 4869, 'kazan': 4870, '1977': 4871, 'cecil': 4872, 'kent': 4873, 'capot': 4874, 'undead': 4875, 'appl': 4876, 'jam': 4877, 'judd': 4878, 'firmli': 4879, 'luxuri': 4880, 'armstrong': 4881, 'replay': 4882, 'lex': 4883, 'bulk': 4884, 'eleven': 4885, 'pronounc': 4886, 'outright': 4887, 'ol': 4888, 'undertak': 4889, 'jule': 4890, 'constitut': 4891, 'liu': 4892, 'embark': 4893, 'fluid': 4894, 'creek': 4895, 'belli': 4896, 'sorrow': 4897, 'ie': 4898, 'randolph': 4899, 'jedi': 4900, '1974': 4901, 'jare': 4902, 'wtf': 4903, 'mcqueen': 4904, 'bori': 4905, 'neatli': 4906, 'gilliam': 4907, 'evelyn': 4908, 'decapit': 4909, 'walt': 4910, 'palm': 4911, 'comb': 4912, 'aussi': 4913, 'inaccur': 4914, 'pepper': 4915, 'tokyo': 4916, 'subtli': 4917, 'kiddi': 4918, 'abound': 4919, 'inclus': 4920, 'id': 4921, 'galaxi': 4922, 'fruit': 4923, 'pioneer': 4924, 'curtain': 4925, 'unattract': 4926, 'unsuspect': 4927, 'miniseri': 4928, 'lauren': 4929, 'forgiven': 4930, 'truman': 4931, 'bsg': 4932, 'antonio': 4933, 'groan': 4934, 'meal': 4935, '1985': 4936, 'porter': 4937, 'miami': 4938, 'basket': 4939, 'vain': 4940, 'blur': 4941, 'cape': 4942, 'sidewalk': 4943, 'rosario': 4944, 'poker': 4945, 'spray': 4946, 'congratul': 4947, 'knee': 4948, 'sacrif': 4949, 'mum': 4950, 'goldblum': 4951, 'relentless': 4952, 'carmen': 4953, 'propheci': 4954, 'ash': 4955, 'comprehens': 4956, 'conan': 4957, 'genet': 4958, 'roar': 4959, 'paula': 4960, 'vignett': 4961, 'lanc': 4962, 'bait': 4963, 'weari': 4964, 'dubiou': 4965, 'scariest': 4966, 'motorcycl': 4967, 'playboy': 4968, 'jill': 4969, 'ingrid': 4970, 'growth': 4971, 'victorian': 4972, 'incorrect': 4973, 'optimist': 4974, 'modest': 4975, 'handicap': 4976, 'mice': 4977, 'scarfac': 4978, 'profil': 4979, 'epitom': 4980, 'omin': 4981, 'macabr': 4982, 'monti': 4983, 'masterson': 4984, 'vastli': 4985, 'assort': 4986, 'verg': 4987, 'rapidli': 4988, 'sparkl': 4989, 'cypher': 4990, 'spill': 4991, 'detach': 4992, 'substanti': 4993, 'bach': 4994, 'hostil': 4995, 'evan': 4996, 'reincarn': 4997, 'drone': 4998, 'asset': 4999}\n"
     ]
    }
   ],
   "source": [
    "# TODO: Use this space to determine the five most frequently appearing words in the training set.\n",
    "print (word_dict)"
   ]
  },
  {
   "cell_type": "markdown",
   "metadata": {},
   "source": [
    "### Save `word_dict`\n",
    "\n",
    "Later on when we construct an endpoint which processes a submitted review we will need to make use of the `word_dict` which we have created. As such, we will save it to a file now for future use."
   ]
  },
  {
   "cell_type": "code",
   "execution_count": 15,
   "metadata": {},
   "outputs": [],
   "source": [
    "data_dir = '../data/pytorch' # The folder we will use for storing data\n",
    "if not os.path.exists(data_dir): # Make sure that the folder exists\n",
    "    os.makedirs(data_dir)"
   ]
  },
  {
   "cell_type": "code",
   "execution_count": 16,
   "metadata": {},
   "outputs": [],
   "source": [
    "with open(os.path.join(data_dir, 'word_dict.pkl'), \"wb\") as f:\n",
    "    pickle.dump(word_dict, f)"
   ]
  },
  {
   "cell_type": "markdown",
   "metadata": {},
   "source": [
    "### Transform the reviews\n",
    "\n",
    "Now that we have our word dictionary which allows us to transform the words appearing in the reviews into integers, it is time to make use of it and convert our reviews to their integer sequence representation, making sure to pad or truncate to a fixed length, which in our case is `500`."
   ]
  },
  {
   "cell_type": "code",
   "execution_count": 17,
   "metadata": {},
   "outputs": [],
   "source": [
    "def convert_and_pad(word_dict, sentence, pad=500):\n",
    "    NOWORD = 0 # We will use 0 to represent the 'no word' category\n",
    "    INFREQ = 1 # and we use 1 to represent the infrequent words, i.e., words not appearing in word_dict\n",
    "    \n",
    "    working_sentence = [NOWORD] * pad\n",
    "    \n",
    "    for word_index, word in enumerate(sentence[:pad]):\n",
    "        if word in word_dict:\n",
    "            working_sentence[word_index] = word_dict[word]\n",
    "        else:\n",
    "            working_sentence[word_index] = INFREQ\n",
    "            \n",
    "    return working_sentence, min(len(sentence), pad)\n",
    "\n",
    "def convert_and_pad_data(word_dict, data, pad=500):\n",
    "    result = []\n",
    "    lengths = []\n",
    "    \n",
    "    for sentence in data:\n",
    "        converted, leng = convert_and_pad(word_dict, sentence, pad)\n",
    "        result.append(converted)\n",
    "        lengths.append(leng)\n",
    "        \n",
    "    return np.array(result), np.array(lengths)"
   ]
  },
  {
   "cell_type": "code",
   "execution_count": 18,
   "metadata": {},
   "outputs": [],
   "source": [
    "train_X, train_X_len = convert_and_pad_data(word_dict, train_X)\n",
    "test_X, test_X_len = convert_and_pad_data(word_dict, test_X)"
   ]
  },
  {
   "cell_type": "markdown",
   "metadata": {},
   "source": [
    "As a quick check to make sure that things are working as intended, check to see what one of the reviews in the training set looks like after having been processeed. Does this look reasonable? What is the length of a review in the training set?"
   ]
  },
  {
   "cell_type": "code",
   "execution_count": 19,
   "metadata": {},
   "outputs": [
    {
     "name": "stdout",
     "output_type": "stream",
     "text": [
      "[ 220    1 2250  769    1    2   76 4781 1955    1 1276 1912  332 2610\n",
      "   81  644    2  133  587    1   24 1668    1    1   10  294  383  364\n",
      " 2406 1885  959  243    1  890  640 1149 4181 2308 1056   72  132 4781\n",
      " 1519    1    1  480  157 1325    1  115   39 2068 4781 1519 2540  854\n",
      "   54 4594    1    1   48  406  228    1 1276 1912 2570   46 2969  310\n",
      "    1    3  261  494  701  988    1 1919 1699  386  594  384  562   42\n",
      "  282  719  431    1  383  480  394 1080 2885 4595  196  448    6    3\n",
      "   23  850   41    1  104  155  101  105  126  305 4108 4182 2681   22\n",
      "   36  381    2  175  413  535  297  921  443  220    1  433  142  936\n",
      "  118    0    0    0    0    0    0    0    0    0    0    0    0    0\n",
      "    0    0    0    0    0    0    0    0    0    0    0    0    0    0\n",
      "    0    0    0    0    0    0    0    0    0    0    0    0    0    0\n",
      "    0    0    0    0    0    0    0    0    0    0    0    0    0    0\n",
      "    0    0    0    0    0    0    0    0    0    0    0    0    0    0\n",
      "    0    0    0    0    0    0    0    0    0    0    0    0    0    0\n",
      "    0    0    0    0    0    0    0    0    0    0    0    0    0    0\n",
      "    0    0    0    0    0    0    0    0    0    0    0    0    0    0\n",
      "    0    0    0    0    0    0    0    0    0    0    0    0    0    0\n",
      "    0    0    0    0    0    0    0    0    0    0    0    0    0    0\n",
      "    0    0    0    0    0    0    0    0    0    0    0    0    0    0\n",
      "    0    0    0    0    0    0    0    0    0    0    0    0    0    0\n",
      "    0    0    0    0    0    0    0    0    0    0    0    0    0    0\n",
      "    0    0    0    0    0    0    0    0    0    0    0    0    0    0\n",
      "    0    0    0    0    0    0    0    0    0    0    0    0    0    0\n",
      "    0    0    0    0    0    0    0    0    0    0    0    0    0    0\n",
      "    0    0    0    0    0    0    0    0    0    0    0    0    0    0\n",
      "    0    0    0    0    0    0    0    0    0    0    0    0    0    0\n",
      "    0    0    0    0    0    0    0    0    0    0    0    0    0    0\n",
      "    0    0    0    0    0    0    0    0    0    0    0    0    0    0\n",
      "    0    0    0    0    0    0    0    0    0    0    0    0    0    0\n",
      "    0    0    0    0    0    0    0    0    0    0    0    0    0    0\n",
      "    0    0    0    0    0    0    0    0    0    0    0    0    0    0\n",
      "    0    0    0    0    0    0    0    0    0    0    0    0    0    0\n",
      "    0    0    0    0    0    0    0    0    0    0    0    0    0    0\n",
      "    0    0    0    0    0    0    0    0    0    0    0    0    0    0\n",
      "    0    0    0    0    0    0    0    0    0    0]\n"
     ]
    }
   ],
   "source": [
    "# Use this cell to examine one of the processed reviews to make sure everything is working as intended.\n",
    "print(train_X[100])"
   ]
  },
  {
   "cell_type": "markdown",
   "metadata": {},
   "source": [
    "**Question:** In the cells above we use the `preprocess_data` and `convert_and_pad_data` methods to process both the training and testing set. Why or why not might this be a problem?"
   ]
  },
  {
   "cell_type": "markdown",
   "metadata": {},
   "source": [
    "**Answer:** We want the training and the test set to be processed the same way to ensure that we measure performance of our model, rather than be thrown off by differences in encoding."
   ]
  },
  {
   "cell_type": "markdown",
   "metadata": {},
   "source": [
    "## Step 3: Upload the data to S3\n",
    "\n",
    "As in the XGBoost notebook, we will need to upload the training dataset to S3 in order for our training code to access it. For now we will save it locally and we will upload to S3 later on.\n",
    "\n",
    "### Save the processed training dataset locally\n",
    "\n",
    "It is important to note the format of the data that we are saving as we will need to know it when we write the training code. In our case, each row of the dataset has the form `label`, `length`, `review[500]` where `review[500]` is a sequence of `500` integers representing the words in the review."
   ]
  },
  {
   "cell_type": "code",
   "execution_count": 20,
   "metadata": {},
   "outputs": [],
   "source": [
    "import pandas as pd\n",
    "    \n",
    "pd.concat([pd.DataFrame(train_y), pd.DataFrame(train_X_len), pd.DataFrame(train_X)], axis=1) \\\n",
    "        .to_csv(os.path.join(data_dir, 'train.csv'), header=False, index=False)"
   ]
  },
  {
   "cell_type": "markdown",
   "metadata": {},
   "source": [
    "### Uploading the training data\n",
    "\n",
    "\n",
    "Next, we need to upload the training data to the SageMaker default S3 bucket so that we can provide access to it while training our model."
   ]
  },
  {
   "cell_type": "code",
   "execution_count": 21,
   "metadata": {},
   "outputs": [],
   "source": [
    "import sagemaker\n",
    "\n",
    "sagemaker_session = sagemaker.Session()\n",
    "\n",
    "bucket = sagemaker_session.default_bucket()\n",
    "prefix = 'sagemaker/sentiment_rnn'\n",
    "\n",
    "role = sagemaker.get_execution_role()"
   ]
  },
  {
   "cell_type": "code",
   "execution_count": 22,
   "metadata": {},
   "outputs": [],
   "source": [
    "input_data = sagemaker_session.upload_data(path=data_dir, bucket=bucket, key_prefix=prefix)"
   ]
  },
  {
   "cell_type": "markdown",
   "metadata": {},
   "source": [
    "**NOTE:** The cell above uploads the entire contents of our data directory. This includes the `word_dict.pkl` file. This is fortunate as we will need this later on when we create an endpoint that accepts an arbitrary review. For now, we will just take note of the fact that it resides in the data directory (and so also in the S3 training bucket) and that we will need to make sure it gets saved in the model directory."
   ]
  },
  {
   "cell_type": "markdown",
   "metadata": {},
   "source": [
    "## Step 4: Build and Train the PyTorch Model\n",
    "\n",
    "In the XGBoost notebook we discussed what a model is in the SageMaker framework. In particular, a model comprises three objects\n",
    "\n",
    " - Model Artifacts,\n",
    " - Training Code, and\n",
    " - Inference Code,\n",
    " \n",
    "each of which interact with one another. In the XGBoost example we used training and inference code that was provided by Amazon. Here we will still be using containers provided by Amazon with the added benefit of being able to include our own custom code.\n",
    "\n",
    "We will start by implementing our own neural network in PyTorch along with a training script. For the purposes of this project we have provided the necessary model object in the `model.py` file, inside of the `train` folder. You can see the provided implementation by running the cell below."
   ]
  },
  {
   "cell_type": "code",
   "execution_count": 23,
   "metadata": {},
   "outputs": [
    {
     "name": "stdout",
     "output_type": "stream",
     "text": [
      "\u001b[34mimport\u001b[39;49;00m \u001b[04m\u001b[36mtorch.nn\u001b[39;49;00m \u001b[34mas\u001b[39;49;00m \u001b[04m\u001b[36mnn\u001b[39;49;00m\r\n",
      "\r\n",
      "\u001b[34mclass\u001b[39;49;00m \u001b[04m\u001b[32mLSTMClassifier\u001b[39;49;00m(nn.Module):\r\n",
      "    \u001b[33m\"\"\"\u001b[39;49;00m\r\n",
      "\u001b[33m    This is the simple RNN model we will be using to perform Sentiment Analysis.\u001b[39;49;00m\r\n",
      "\u001b[33m    \"\"\"\u001b[39;49;00m\r\n",
      "\r\n",
      "    \u001b[34mdef\u001b[39;49;00m \u001b[32m__init__\u001b[39;49;00m(\u001b[36mself\u001b[39;49;00m, embedding_dim, hidden_dim, vocab_size):\r\n",
      "        \u001b[33m\"\"\"\u001b[39;49;00m\r\n",
      "\u001b[33m        Initialize the model by settingg up the various layers.\u001b[39;49;00m\r\n",
      "\u001b[33m        \"\"\"\u001b[39;49;00m\r\n",
      "        \u001b[36msuper\u001b[39;49;00m(LSTMClassifier, \u001b[36mself\u001b[39;49;00m).\u001b[32m__init__\u001b[39;49;00m()\r\n",
      "\r\n",
      "        \u001b[36mself\u001b[39;49;00m.embedding = nn.Embedding(vocab_size, embedding_dim, padding_idx=\u001b[34m0\u001b[39;49;00m)\r\n",
      "        \u001b[36mself\u001b[39;49;00m.lstm = nn.LSTM(embedding_dim, hidden_dim)\r\n",
      "        \u001b[36mself\u001b[39;49;00m.dense = nn.Linear(in_features=hidden_dim, out_features=\u001b[34m1\u001b[39;49;00m)\r\n",
      "        \u001b[36mself\u001b[39;49;00m.sig = nn.Sigmoid()\r\n",
      "        \r\n",
      "        \u001b[36mself\u001b[39;49;00m.word_dict = \u001b[36mNone\u001b[39;49;00m\r\n",
      "\r\n",
      "    \u001b[34mdef\u001b[39;49;00m \u001b[32mforward\u001b[39;49;00m(\u001b[36mself\u001b[39;49;00m, x):\r\n",
      "        \u001b[33m\"\"\"\u001b[39;49;00m\r\n",
      "\u001b[33m        Perform a forward pass of our model on some input.\u001b[39;49;00m\r\n",
      "\u001b[33m        \"\"\"\u001b[39;49;00m\r\n",
      "        x = x.t()\r\n",
      "        lengths = x[\u001b[34m0\u001b[39;49;00m,:]\r\n",
      "        reviews = x[\u001b[34m1\u001b[39;49;00m:,:]\r\n",
      "        embeds = \u001b[36mself\u001b[39;49;00m.embedding(reviews)\r\n",
      "        lstm_out, _ = \u001b[36mself\u001b[39;49;00m.lstm(embeds)\r\n",
      "        out = \u001b[36mself\u001b[39;49;00m.dense(lstm_out)\r\n",
      "        out = out[lengths - \u001b[34m1\u001b[39;49;00m, \u001b[36mrange\u001b[39;49;00m(\u001b[36mlen\u001b[39;49;00m(lengths))]\r\n",
      "        \u001b[34mreturn\u001b[39;49;00m \u001b[36mself\u001b[39;49;00m.sig(out.squeeze())\r\n"
     ]
    }
   ],
   "source": [
    "!pygmentize train/model.py"
   ]
  },
  {
   "cell_type": "markdown",
   "metadata": {},
   "source": [
    "The important takeaway from the implementation provided is that there are three parameters that we may wish to tweak to improve the performance of our model. These are the embedding dimension, the hidden dimension and the size of the vocabulary. We will likely want to make these parameters configurable in the training script so that if we wish to modify them we do not need to modify the script itself. We will see how to do this later on. To start we will write some of the training code in the notebook so that we can more easily diagnose any issues that arise.\n",
    "\n",
    "First we will load a small portion of the training data set to use as a sample. It would be very time consuming to try and train the model completely in the notebook as we do not have access to a gpu and the compute instance that we are using is not particularly powerful. However, we can work on a small bit of the data to get a feel for how our training script is behaving."
   ]
  },
  {
   "cell_type": "code",
   "execution_count": 24,
   "metadata": {},
   "outputs": [],
   "source": [
    "import torch\n",
    "import torch.utils.data\n",
    "\n",
    "# Read in only the first 250 rows\n",
    "train_sample = pd.read_csv(os.path.join(data_dir, 'train.csv'), header=None, names=None, nrows=250)\n",
    "\n",
    "# Turn the input pandas dataframe into tensors\n",
    "train_sample_y = torch.from_numpy(train_sample[[0]].values).float().squeeze()\n",
    "train_sample_X = torch.from_numpy(train_sample.drop([0], axis=1).values).long()\n",
    "\n",
    "# Build the dataset\n",
    "train_sample_ds = torch.utils.data.TensorDataset(train_sample_X, train_sample_y)\n",
    "# Build the dataloader\n",
    "train_sample_dl = torch.utils.data.DataLoader(train_sample_ds, batch_size=50)"
   ]
  },
  {
   "cell_type": "markdown",
   "metadata": {},
   "source": [
    "### (TODO) Writing the training method\n",
    "\n",
    "Next we need to write the training code itself. This should be very similar to training methods that you have written before to train PyTorch models. We will leave any difficult aspects such as model saving / loading and parameter loading until a little later."
   ]
  },
  {
   "cell_type": "code",
   "execution_count": 25,
   "metadata": {},
   "outputs": [],
   "source": [
    "def train(model, train_loader, epochs, optimizer, loss_fn, device):\n",
    "    for epoch in range(1, epochs + 1):\n",
    "        model.train()\n",
    "        total_loss = 0\n",
    "        for batch in train_loader:         \n",
    "            batch_X, batch_y = batch\n",
    "            \n",
    "            batch_X = batch_X.to(device)\n",
    "            batch_y = batch_y.to(device)\n",
    "            \n",
    "            # TODO: Complete this train method to train the model provided.\n",
    "            optimizer.zero_grad()\n",
    "            output = model(batch_X)\n",
    "            loss = loss_fn(output, batch_y)\n",
    "            loss.backward()\n",
    "            optimizer.step()\n",
    "            \n",
    "            total_loss += loss.data.item()\n",
    "        print(\"Epoch: {}, BCELoss: {}\".format(epoch, total_loss / len(train_loader)))"
   ]
  },
  {
   "cell_type": "markdown",
   "metadata": {},
   "source": [
    "Supposing we have the training method above, we will test that it is working by writing a bit of code in the notebook that executes our training method on the small sample training set that we loaded earlier. The reason for doing this in the notebook is so that we have an opportunity to fix any errors that arise early when they are easier to diagnose."
   ]
  },
  {
   "cell_type": "code",
   "execution_count": 26,
   "metadata": {},
   "outputs": [
    {
     "name": "stdout",
     "output_type": "stream",
     "text": [
      "Epoch: 1, BCELoss: 0.6902272343635559\n",
      "Epoch: 2, BCELoss: 0.6809054136276245\n",
      "Epoch: 3, BCELoss: 0.673213517665863\n",
      "Epoch: 4, BCELoss: 0.6649824023246765\n",
      "Epoch: 5, BCELoss: 0.6550616979598999\n"
     ]
    }
   ],
   "source": [
    "import torch.optim as optim\n",
    "from train.model import LSTMClassifier\n",
    "\n",
    "device = torch.device(\"cuda\" if torch.cuda.is_available() else \"cpu\")\n",
    "model = LSTMClassifier(32, 100, 5000).to(device)\n",
    "optimizer = optim.Adam(model.parameters())\n",
    "loss_fn = torch.nn.BCELoss()\n",
    "\n",
    "train(model, train_sample_dl, 5, optimizer, loss_fn, device)"
   ]
  },
  {
   "cell_type": "markdown",
   "metadata": {},
   "source": [
    "In order to construct a PyTorch model using SageMaker we must provide SageMaker with a training script. We may optionally include a directory which will be copied to the container and from which our training code will be run. When the training container is executed it will check the uploaded directory (if there is one) for a `requirements.txt` file and install any required Python libraries, after which the training script will be run."
   ]
  },
  {
   "cell_type": "markdown",
   "metadata": {},
   "source": [
    "### (TODO) Training the model\n",
    "\n",
    "When a PyTorch model is constructed in SageMaker, an entry point must be specified. This is the Python file which will be executed when the model is trained. Inside of the `train` directory is a file called `train.py` which has been provided and which contains most of the necessary code to train our model. The only thing that is missing is the implementation of the `train()` method which you wrote earlier in this notebook.\n",
    "\n",
    "**TODO**: Copy the `train()` method written above and paste it into the `train/train.py` file where required.\n",
    "\n",
    "The way that SageMaker passes hyperparameters to the training script is by way of arguments. These arguments can then be parsed and used in the training script. To see how this is done take a look at the provided `train/train.py` file."
   ]
  },
  {
   "cell_type": "code",
   "execution_count": 27,
   "metadata": {},
   "outputs": [],
   "source": [
    "from sagemaker.pytorch import PyTorch\n",
    "\n",
    "estimator = PyTorch(entry_point=\"train.py\",\n",
    "                    source_dir=\"train\",\n",
    "                    role=role,\n",
    "                    framework_version='0.4.0',\n",
    "                    train_instance_count=1,\n",
    "                    train_instance_type='ml.p2.xlarge',\n",
    "                    hyperparameters={\n",
    "                        'epochs': 10,\n",
    "                        'hidden_dim': 200,\n",
    "                    })"
   ]
  },
  {
   "cell_type": "code",
   "execution_count": 28,
   "metadata": {},
   "outputs": [
    {
     "name": "stdout",
     "output_type": "stream",
     "text": [
      "2019-11-18 17:51:08 Starting - Starting the training job...\n",
      "2019-11-18 17:51:37 Starting - Launching requested ML instances.........\n",
      "2019-11-18 17:52:43 Starting - Preparing the instances for training.........\n",
      "2019-11-18 17:54:15 Downloading - Downloading input data...\n",
      "2019-11-18 17:54:53 Training - Downloading the training image..\u001b[31mbash: cannot set terminal process group (-1): Inappropriate ioctl for device\u001b[0m\n",
      "\u001b[31mbash: no job control in this shell\u001b[0m\n",
      "\u001b[31m2019-11-18 17:55:16,973 sagemaker-containers INFO     Imported framework sagemaker_pytorch_container.training\u001b[0m\n",
      "\u001b[31m2019-11-18 17:55:16,997 sagemaker_pytorch_container.training INFO     Block until all host DNS lookups succeed.\u001b[0m\n",
      "\u001b[31m2019-11-18 17:55:17,699 sagemaker_pytorch_container.training INFO     Invoking user training script.\u001b[0m\n",
      "\u001b[31m2019-11-18 17:55:18,008 sagemaker-containers INFO     Module train does not provide a setup.py. \u001b[0m\n",
      "\u001b[31mGenerating setup.py\u001b[0m\n",
      "\u001b[31m2019-11-18 17:55:18,009 sagemaker-containers INFO     Generating setup.cfg\u001b[0m\n",
      "\u001b[31m2019-11-18 17:55:18,009 sagemaker-containers INFO     Generating MANIFEST.in\u001b[0m\n",
      "\u001b[31m2019-11-18 17:55:18,009 sagemaker-containers INFO     Installing module with the following command:\u001b[0m\n",
      "\u001b[31m/usr/bin/python -m pip install -U . -r requirements.txt\u001b[0m\n",
      "\u001b[31mProcessing /opt/ml/code\u001b[0m\n",
      "\u001b[31mCollecting pandas (from -r requirements.txt (line 1))\n",
      "  Downloading https://files.pythonhosted.org/packages/74/24/0cdbf8907e1e3bc5a8da03345c23cbed7044330bb8f73bb12e711a640a00/pandas-0.24.2-cp35-cp35m-manylinux1_x86_64.whl (10.0MB)\u001b[0m\n",
      "\u001b[31mCollecting numpy (from -r requirements.txt (line 2))\n",
      "  Downloading https://files.pythonhosted.org/packages/ab/e9/2561dbfbc05146bffa02167e09b9902e273decb2dc4cd5c43314ede20312/numpy-1.17.4-cp35-cp35m-manylinux1_x86_64.whl (19.8MB)\u001b[0m\n",
      "\u001b[31mCollecting nltk (from -r requirements.txt (line 3))\n",
      "  Downloading https://files.pythonhosted.org/packages/f6/1d/d925cfb4f324ede997f6d47bea4d9babba51b49e87a767c170b77005889d/nltk-3.4.5.zip (1.5MB)\u001b[0m\n",
      "\u001b[31mCollecting beautifulsoup4 (from -r requirements.txt (line 4))\n",
      "  Downloading https://files.pythonhosted.org/packages/3b/c8/a55eb6ea11cd7e5ac4bacdf92bac4693b90d3ba79268be16527555e186f0/beautifulsoup4-4.8.1-py3-none-any.whl (101kB)\u001b[0m\n",
      "\u001b[31mCollecting html5lib (from -r requirements.txt (line 5))\n",
      "  Downloading https://files.pythonhosted.org/packages/a5/62/bbd2be0e7943ec8504b517e62bab011b4946e1258842bc159e5dfde15b96/html5lib-1.0.1-py2.py3-none-any.whl (117kB)\u001b[0m\n",
      "\u001b[31mRequirement already satisfied, skipping upgrade: python-dateutil>=2.5.0 in /usr/local/lib/python3.5/dist-packages (from pandas->-r requirements.txt (line 1)) (2.7.5)\u001b[0m\n",
      "\u001b[31mCollecting pytz>=2011k (from pandas->-r requirements.txt (line 1))\n",
      "  Downloading https://files.pythonhosted.org/packages/e7/f9/f0b53f88060247251bf481fa6ea62cd0d25bf1b11a87888e53ce5b7c8ad2/pytz-2019.3-py2.py3-none-any.whl (509kB)\u001b[0m\n",
      "\u001b[31mRequirement already satisfied, skipping upgrade: six in /usr/local/lib/python3.5/dist-packages (from nltk->-r requirements.txt (line 3)) (1.11.0)\u001b[0m\n",
      "\u001b[31mCollecting soupsieve>=1.2 (from beautifulsoup4->-r requirements.txt (line 4))\n",
      "  Downloading https://files.pythonhosted.org/packages/81/94/03c0f04471fc245d08d0a99f7946ac228ca98da4fa75796c507f61e688c2/soupsieve-1.9.5-py2.py3-none-any.whl\u001b[0m\n",
      "\u001b[31mCollecting webencodings (from html5lib->-r requirements.txt (line 5))\n",
      "  Downloading https://files.pythonhosted.org/packages/f4/24/2a3e3df732393fed8b3ebf2ec078f05546de641fe1b667ee316ec1dcf3b7/webencodings-0.5.1-py2.py3-none-any.whl\u001b[0m\n",
      "\u001b[31mBuilding wheels for collected packages: nltk, train\n",
      "  Running setup.py bdist_wheel for nltk: started\u001b[0m\n",
      "\u001b[31m  Running setup.py bdist_wheel for nltk: finished with status 'done'\n",
      "  Stored in directory: /root/.cache/pip/wheels/96/86/f6/68ab24c23f207c0077381a5e3904b2815136b879538a24b483\n",
      "  Running setup.py bdist_wheel for train: started\n",
      "  Running setup.py bdist_wheel for train: finished with status 'done'\n",
      "  Stored in directory: /tmp/pip-ephem-wheel-cache-577plfot/wheels/35/24/16/37574d11bf9bde50616c67372a334f94fa8356bc7164af8ca3\u001b[0m\n",
      "\u001b[31mSuccessfully built nltk train\u001b[0m\n",
      "\u001b[31mInstalling collected packages: pytz, numpy, pandas, nltk, soupsieve, beautifulsoup4, webencodings, html5lib, train\n",
      "  Found existing installation: numpy 1.15.4\u001b[0m\n",
      "\u001b[31m    Uninstalling numpy-1.15.4:\n",
      "      Successfully uninstalled numpy-1.15.4\u001b[0m\n",
      "\n",
      "2019-11-18 17:55:16 Training - Training image download completed. Training in progress.\u001b[31mSuccessfully installed beautifulsoup4-4.8.1 html5lib-1.0.1 nltk-3.4.5 numpy-1.17.4 pandas-0.24.2 pytz-2019.3 soupsieve-1.9.5 train-1.0.0 webencodings-0.5.1\u001b[0m\n",
      "\u001b[31mYou are using pip version 18.1, however version 19.3.1 is available.\u001b[0m\n",
      "\u001b[31mYou should consider upgrading via the 'pip install --upgrade pip' command.\u001b[0m\n",
      "\u001b[31m2019-11-18 17:55:30,003 sagemaker-containers INFO     Invoking user script\n",
      "\u001b[0m\n",
      "\u001b[31mTraining Env:\n",
      "\u001b[0m\n",
      "\u001b[31m{\n",
      "    \"additional_framework_parameters\": {},\n",
      "    \"module_name\": \"train\",\n",
      "    \"job_name\": \"sagemaker-pytorch-2019-11-18-17-51-08-143\",\n",
      "    \"input_dir\": \"/opt/ml/input\",\n",
      "    \"input_config_dir\": \"/opt/ml/input/config\",\n",
      "    \"user_entry_point\": \"train.py\",\n",
      "    \"channel_input_dirs\": {\n",
      "        \"training\": \"/opt/ml/input/data/training\"\n",
      "    },\n",
      "    \"hosts\": [\n",
      "        \"algo-1\"\n",
      "    ],\n",
      "    \"input_data_config\": {\n",
      "        \"training\": {\n",
      "            \"RecordWrapperType\": \"None\",\n",
      "            \"TrainingInputMode\": \"File\",\n",
      "            \"S3DistributionType\": \"FullyReplicated\"\n",
      "        }\n",
      "    },\n",
      "    \"network_interface_name\": \"eth0\",\n",
      "    \"output_data_dir\": \"/opt/ml/output/data\",\n",
      "    \"num_gpus\": 1,\n",
      "    \"log_level\": 20,\n",
      "    \"num_cpus\": 4,\n",
      "    \"output_dir\": \"/opt/ml/output\",\n",
      "    \"framework_module\": \"sagemaker_pytorch_container.training:main\",\n",
      "    \"hyperparameters\": {\n",
      "        \"hidden_dim\": 200,\n",
      "        \"epochs\": 10\n",
      "    },\n",
      "    \"model_dir\": \"/opt/ml/model\",\n",
      "    \"current_host\": \"algo-1\",\n",
      "    \"resource_config\": {\n",
      "        \"current_host\": \"algo-1\",\n",
      "        \"network_interface_name\": \"eth0\",\n",
      "        \"hosts\": [\n",
      "            \"algo-1\"\n",
      "        ]\n",
      "    },\n",
      "    \"module_dir\": \"s3://sagemaker-us-east-1-643335284923/sagemaker-pytorch-2019-11-18-17-51-08-143/source/sourcedir.tar.gz\",\n",
      "    \"output_intermediate_dir\": \"/opt/ml/output/intermediate\"\u001b[0m\n",
      "\u001b[31m}\n",
      "\u001b[0m\n",
      "\u001b[31mEnvironment variables:\n",
      "\u001b[0m\n",
      "\u001b[31mSM_OUTPUT_DIR=/opt/ml/output\u001b[0m\n",
      "\u001b[31mSM_MODULE_NAME=train\u001b[0m\n",
      "\u001b[31mSM_FRAMEWORK_MODULE=sagemaker_pytorch_container.training:main\u001b[0m\n",
      "\u001b[31mSM_MODEL_DIR=/opt/ml/model\u001b[0m\n",
      "\u001b[31mSM_NETWORK_INTERFACE_NAME=eth0\u001b[0m\n",
      "\u001b[31mSM_NUM_GPUS=1\u001b[0m\n",
      "\u001b[31mSM_OUTPUT_DATA_DIR=/opt/ml/output/data\u001b[0m\n",
      "\u001b[31mSM_NUM_CPUS=4\u001b[0m\n",
      "\u001b[31mSM_MODULE_DIR=s3://sagemaker-us-east-1-643335284923/sagemaker-pytorch-2019-11-18-17-51-08-143/source/sourcedir.tar.gz\u001b[0m\n",
      "\u001b[31mSM_HPS={\"epochs\":10,\"hidden_dim\":200}\u001b[0m\n",
      "\u001b[31mSM_TRAINING_ENV={\"additional_framework_parameters\":{},\"channel_input_dirs\":{\"training\":\"/opt/ml/input/data/training\"},\"current_host\":\"algo-1\",\"framework_module\":\"sagemaker_pytorch_container.training:main\",\"hosts\":[\"algo-1\"],\"hyperparameters\":{\"epochs\":10,\"hidden_dim\":200},\"input_config_dir\":\"/opt/ml/input/config\",\"input_data_config\":{\"training\":{\"RecordWrapperType\":\"None\",\"S3DistributionType\":\"FullyReplicated\",\"TrainingInputMode\":\"File\"}},\"input_dir\":\"/opt/ml/input\",\"job_name\":\"sagemaker-pytorch-2019-11-18-17-51-08-143\",\"log_level\":20,\"model_dir\":\"/opt/ml/model\",\"module_dir\":\"s3://sagemaker-us-east-1-643335284923/sagemaker-pytorch-2019-11-18-17-51-08-143/source/sourcedir.tar.gz\",\"module_name\":\"train\",\"network_interface_name\":\"eth0\",\"num_cpus\":4,\"num_gpus\":1,\"output_data_dir\":\"/opt/ml/output/data\",\"output_dir\":\"/opt/ml/output\",\"output_intermediate_dir\":\"/opt/ml/output/intermediate\",\"resource_config\":{\"current_host\":\"algo-1\",\"hosts\":[\"algo-1\"],\"network_interface_name\":\"eth0\"},\"user_entry_point\":\"train.py\"}\u001b[0m\n",
      "\u001b[31mSM_RESOURCE_CONFIG={\"current_host\":\"algo-1\",\"hosts\":[\"algo-1\"],\"network_interface_name\":\"eth0\"}\u001b[0m\n",
      "\u001b[31mSM_CHANNEL_TRAINING=/opt/ml/input/data/training\u001b[0m\n",
      "\u001b[31mSM_LOG_LEVEL=20\u001b[0m\n",
      "\u001b[31mSM_HP_EPOCHS=10\u001b[0m\n",
      "\u001b[31mPYTHONPATH=/usr/local/bin:/usr/lib/python35.zip:/usr/lib/python3.5:/usr/lib/python3.5/plat-x86_64-linux-gnu:/usr/lib/python3.5/lib-dynload:/usr/local/lib/python3.5/dist-packages:/usr/lib/python3/dist-packages\u001b[0m\n",
      "\u001b[31mSM_FRAMEWORK_PARAMS={}\u001b[0m\n",
      "\u001b[31mSM_INPUT_CONFIG_DIR=/opt/ml/input/config\u001b[0m\n",
      "\u001b[31mSM_CHANNELS=[\"training\"]\u001b[0m\n",
      "\u001b[31mSM_CURRENT_HOST=algo-1\u001b[0m\n",
      "\u001b[31mSM_OUTPUT_INTERMEDIATE_DIR=/opt/ml/output/intermediate\u001b[0m\n",
      "\u001b[31mSM_HP_HIDDEN_DIM=200\u001b[0m\n",
      "\u001b[31mSM_INPUT_DIR=/opt/ml/input\u001b[0m\n",
      "\u001b[31mSM_HOSTS=[\"algo-1\"]\u001b[0m\n",
      "\u001b[31mSM_USER_ENTRY_POINT=train.py\u001b[0m\n",
      "\u001b[31mSM_INPUT_DATA_CONFIG={\"training\":{\"RecordWrapperType\":\"None\",\"S3DistributionType\":\"FullyReplicated\",\"TrainingInputMode\":\"File\"}}\u001b[0m\n",
      "\u001b[31mSM_USER_ARGS=[\"--epochs\",\"10\",\"--hidden_dim\",\"200\"]\n",
      "\u001b[0m\n",
      "\u001b[31mInvoking script with the following command:\n",
      "\u001b[0m\n",
      "\u001b[31m/usr/bin/python -m train --epochs 10 --hidden_dim 200\n",
      "\n",
      "\u001b[0m\n",
      "\u001b[31mUsing device cuda.\u001b[0m\n",
      "\u001b[31mGet train data loader.\u001b[0m\n"
     ]
    },
    {
     "name": "stdout",
     "output_type": "stream",
     "text": [
      "\u001b[31mModel loaded with embedding_dim 32, hidden_dim 200, vocab_size 5000.\u001b[0m\n",
      "\u001b[31mEpoch: 1, BCELoss: 0.6717969957663088\u001b[0m\n",
      "\u001b[31mEpoch: 2, BCELoss: 0.601915026197628\u001b[0m\n",
      "\u001b[31mEpoch: 3, BCELoss: 0.4996277550045325\u001b[0m\n",
      "\u001b[31mEpoch: 4, BCELoss: 0.42896486545095636\u001b[0m\n",
      "\u001b[31mEpoch: 5, BCELoss: 0.38809353052353374\u001b[0m\n",
      "\u001b[31mEpoch: 6, BCELoss: 0.35480193824184186\u001b[0m\n",
      "\u001b[31mEpoch: 7, BCELoss: 0.31784074403801743\u001b[0m\n",
      "\u001b[31mEpoch: 8, BCELoss: 0.2976675793832662\u001b[0m\n",
      "\u001b[31mEpoch: 9, BCELoss: 0.28441208296892595\u001b[0m\n",
      "\n",
      "2019-11-18 17:58:38 Uploading - Uploading generated training model\u001b[31mEpoch: 10, BCELoss: 0.2642175080824871\u001b[0m\n",
      "\u001b[31m2019-11-18 17:58:34,328 sagemaker-containers INFO     Reporting training SUCCESS\u001b[0m\n",
      "\n",
      "2019-11-18 17:58:43 Completed - Training job completed\n",
      "Training seconds: 268\n",
      "Billable seconds: 268\n"
     ]
    }
   ],
   "source": [
    "estimator.fit({'training': input_data})"
   ]
  },
  {
   "cell_type": "markdown",
   "metadata": {},
   "source": [
    "## Step 5: Testing the model\n",
    "\n",
    "As mentioned at the top of this notebook, we will be testing this model by first deploying it and then sending the testing data to the deployed endpoint. We will do this so that we can make sure that the deployed model is working correctly.\n",
    "\n",
    "## Step 6: Deploy the model for testing\n",
    "\n",
    "Now that we have trained our model, we would like to test it to see how it performs. Currently our model takes input of the form `review_length, review[500]` where `review[500]` is a sequence of `500` integers which describe the words present in the review, encoded using `word_dict`. Fortunately for us, SageMaker provides built-in inference code for models with simple inputs such as this.\n",
    "\n",
    "There is one thing that we need to provide, however, and that is a function which loads the saved model. This function must be called `model_fn()` and takes as its only parameter a path to the directory where the model artifacts are stored. This function must also be present in the python file which we specified as the entry point. In our case the model loading function has been provided and so no changes need to be made.\n",
    "\n",
    "**NOTE**: When the built-in inference code is run it must import the `model_fn()` method from the `train.py` file. This is why the training code is wrapped in a main guard ( ie, `if __name__ == '__main__':` )\n",
    "\n",
    "Since we don't need to change anything in the code that was uploaded during training, we can simply deploy the current model as-is.\n",
    "\n",
    "**NOTE:** When deploying a model you are asking SageMaker to launch an compute instance that will wait for data to be sent to it. As a result, this compute instance will continue to run until *you* shut it down. This is important to know since the cost of a deployed endpoint depends on how long it has been running for.\n",
    "\n",
    "In other words **If you are no longer using a deployed endpoint, shut it down!**\n",
    "\n",
    "**TODO:** Deploy the trained model."
   ]
  },
  {
   "cell_type": "code",
   "execution_count": 29,
   "metadata": {},
   "outputs": [
    {
     "name": "stdout",
     "output_type": "stream",
     "text": [
      "--------------------------------------------------------------------------------------------------------------------------!"
     ]
    }
   ],
   "source": [
    "predictor = estimator.deploy(initial_instance_count=1, instance_type='ml.p2.xlarge')"
   ]
  },
  {
   "cell_type": "markdown",
   "metadata": {},
   "source": [
    "## Step 7 - Use the model for testing\n",
    "\n",
    "Once deployed, we can read in the test data and send it off to our deployed model to get some results. Once we collect all of the results we can determine how accurate our model is."
   ]
  },
  {
   "cell_type": "code",
   "execution_count": 30,
   "metadata": {},
   "outputs": [],
   "source": [
    "test_X = pd.concat([pd.DataFrame(test_X_len), pd.DataFrame(test_X)], axis=1)"
   ]
  },
  {
   "cell_type": "code",
   "execution_count": 31,
   "metadata": {},
   "outputs": [],
   "source": [
    "# We split the data into chunks and send each chunk seperately, accumulating the results.\n",
    "\n",
    "def predict(data, rows=512):\n",
    "    split_array = np.array_split(data, int(data.shape[0] / float(rows) + 1))\n",
    "    predictions = np.array([])\n",
    "    for array in split_array:\n",
    "        predictions = np.append(predictions, predictor.predict(array))\n",
    "    \n",
    "    return predictions"
   ]
  },
  {
   "cell_type": "code",
   "execution_count": 32,
   "metadata": {},
   "outputs": [],
   "source": [
    "predictions = predict(test_X.values)\n",
    "predictions = [round(num) for num in predictions]"
   ]
  },
  {
   "cell_type": "code",
   "execution_count": 33,
   "metadata": {},
   "outputs": [
    {
     "data": {
      "text/plain": [
       "0.83596"
      ]
     },
     "execution_count": 33,
     "metadata": {},
     "output_type": "execute_result"
    }
   ],
   "source": [
    "from sklearn.metrics import accuracy_score\n",
    "accuracy_score(test_y, predictions)"
   ]
  },
  {
   "cell_type": "markdown",
   "metadata": {},
   "source": [
    "**Question:** How does this model compare to the XGBoost model you created earlier? Why might these two models perform differently on this dataset? Which do *you* think is better for sentiment analysis?"
   ]
  },
  {
   "cell_type": "markdown",
   "metadata": {},
   "source": [
    "**Answer:** It performes slighly worse. XGBoost got up to slightly above 85% accuracy. XGBoost is a state of the art algorythm designed to perform well with limited training on regression and classification problems. A Recurrent Neural Network deep model needs a lot more training data to perform well. It is possible that this model would keep improving with additional training and eventually outperform XGBoost."
   ]
  },
  {
   "cell_type": "markdown",
   "metadata": {},
   "source": [
    "### (TODO) More testing\n",
    "\n",
    "We now have a trained model which has been deployed and which we can send processed reviews to and which returns the predicted sentiment. However, ultimately we would like to be able to send our model an unprocessed review. That is, we would like to send the review itself as a string. For example, suppose we wish to send the following review to our model."
   ]
  },
  {
   "cell_type": "code",
   "execution_count": 58,
   "metadata": {},
   "outputs": [],
   "source": [
    "test_review = 'The simplest pleasures in life are the best, and this film is one of them. Combining a rather basic storyline of love and adventure this movie transcends the usual weekend fair with wit and unmitigated charm.'"
   ]
  },
  {
   "cell_type": "markdown",
   "metadata": {},
   "source": [
    "The question we now need to answer is, how do we send this review to our model?\n",
    "\n",
    "Recall in the first section of this notebook we did a bunch of data processing to the IMDb dataset. In particular, we did two specific things to the provided reviews.\n",
    " - Removed any html tags and stemmed the input\n",
    " - Encoded the review as a sequence of integers using `word_dict`\n",
    " \n",
    "In order process the review we will need to repeat these two steps.\n",
    "\n",
    "**TODO**: Using the `review_to_words` and `convert_and_pad` methods from section one, convert `test_review` into a numpy array `test_data` suitable to send to our model. Remember that our model expects input of the form `review_length, review[500]`."
   ]
  },
  {
   "cell_type": "code",
   "execution_count": 69,
   "metadata": {},
   "outputs": [],
   "source": [
    "# TODO: Convert test_review into a form usable by the model and save the results in test_data\n",
    "data_X ,data_len = convert_and_pad(word_dict, review_to_words(test_review))\n",
    "data_pack = np.hstack((data_len, data_X))\n",
    "data_pack = data_pack.reshape(1, -1)\n",
    "test_data = torch.from_numpy(data_pack)"
   ]
  },
  {
   "cell_type": "markdown",
   "metadata": {},
   "source": [
    "Now that we have processed the review, we can send the resulting array to our model to predict the sentiment of the review."
   ]
  },
  {
   "cell_type": "code",
   "execution_count": 70,
   "metadata": {},
   "outputs": [
    {
     "data": {
      "text/plain": [
       "array(0.9178355, dtype=float32)"
      ]
     },
     "execution_count": 70,
     "metadata": {},
     "output_type": "execute_result"
    }
   ],
   "source": [
    "predictor.predict(test_data)"
   ]
  },
  {
   "cell_type": "markdown",
   "metadata": {},
   "source": [
    "Since the return value of our model is close to `1`, we can be certain that the review we submitted is positive."
   ]
  },
  {
   "cell_type": "markdown",
   "metadata": {},
   "source": [
    "### Delete the endpoint\n",
    "\n",
    "Of course, just like in the XGBoost notebook, once we've deployed an endpoint it continues to run until we tell it to shut down. Since we are done using our endpoint for now, we can delete it."
   ]
  },
  {
   "cell_type": "code",
   "execution_count": 71,
   "metadata": {},
   "outputs": [],
   "source": [
    "estimator.delete_endpoint()"
   ]
  },
  {
   "cell_type": "markdown",
   "metadata": {},
   "source": [
    "## Step 6 (again) - Deploy the model for the web app\n",
    "\n",
    "Now that we know that our model is working, it's time to create some custom inference code so that we can send the model a review which has not been processed and have it determine the sentiment of the review.\n",
    "\n",
    "As we saw above, by default the estimator which we created, when deployed, will use the entry script and directory which we provided when creating the model. However, since we now wish to accept a string as input and our model expects a processed review, we need to write some custom inference code.\n",
    "\n",
    "We will store the code that we write in the `serve` directory. Provided in this directory is the `model.py` file that we used to construct our model, a `utils.py` file which contains the `review_to_words` and `convert_and_pad` pre-processing functions which we used during the initial data processing, and `predict.py`, the file which will contain our custom inference code. Note also that `requirements.txt` is present which will tell SageMaker what Python libraries are required by our custom inference code.\n",
    "\n",
    "When deploying a PyTorch model in SageMaker, you are expected to provide four functions which the SageMaker inference container will use.\n",
    " - `model_fn`: This function is the same function that we used in the training script and it tells SageMaker how to load our model.\n",
    " - `input_fn`: This function receives the raw serialized input that has been sent to the model's endpoint and its job is to de-serialize and make the input available for the inference code.\n",
    " - `output_fn`: This function takes the output of the inference code and its job is to serialize this output and return it to the caller of the model's endpoint.\n",
    " - `predict_fn`: The heart of the inference script, this is where the actual prediction is done and is the function which you will need to complete.\n",
    "\n",
    "For the simple website that we are constructing during this project, the `input_fn` and `output_fn` methods are relatively straightforward. We only require being able to accept a string as input and we expect to return a single value as output. You might imagine though that in a more complex application the input or output may be image data or some other binary data which would require some effort to serialize.\n",
    "\n",
    "### (TODO) Writing inference code\n",
    "\n",
    "Before writing our custom inference code, we will begin by taking a look at the code which has been provided."
   ]
  },
  {
   "cell_type": "code",
   "execution_count": 72,
   "metadata": {},
   "outputs": [
    {
     "name": "stdout",
     "output_type": "stream",
     "text": [
      "\u001b[34mimport\u001b[39;49;00m \u001b[04m\u001b[36margparse\u001b[39;49;00m\r\n",
      "\u001b[34mimport\u001b[39;49;00m \u001b[04m\u001b[36mjson\u001b[39;49;00m\r\n",
      "\u001b[34mimport\u001b[39;49;00m \u001b[04m\u001b[36mos\u001b[39;49;00m\r\n",
      "\u001b[34mimport\u001b[39;49;00m \u001b[04m\u001b[36mpickle\u001b[39;49;00m\r\n",
      "\u001b[34mimport\u001b[39;49;00m \u001b[04m\u001b[36msys\u001b[39;49;00m\r\n",
      "\u001b[34mimport\u001b[39;49;00m \u001b[04m\u001b[36msagemaker_containers\u001b[39;49;00m\r\n",
      "\u001b[34mimport\u001b[39;49;00m \u001b[04m\u001b[36mpandas\u001b[39;49;00m \u001b[34mas\u001b[39;49;00m \u001b[04m\u001b[36mpd\u001b[39;49;00m\r\n",
      "\u001b[34mimport\u001b[39;49;00m \u001b[04m\u001b[36mnumpy\u001b[39;49;00m \u001b[34mas\u001b[39;49;00m \u001b[04m\u001b[36mnp\u001b[39;49;00m\r\n",
      "\u001b[34mimport\u001b[39;49;00m \u001b[04m\u001b[36mtorch\u001b[39;49;00m\r\n",
      "\u001b[34mimport\u001b[39;49;00m \u001b[04m\u001b[36mtorch.nn\u001b[39;49;00m \u001b[34mas\u001b[39;49;00m \u001b[04m\u001b[36mnn\u001b[39;49;00m\r\n",
      "\u001b[34mimport\u001b[39;49;00m \u001b[04m\u001b[36mtorch.optim\u001b[39;49;00m \u001b[34mas\u001b[39;49;00m \u001b[04m\u001b[36moptim\u001b[39;49;00m\r\n",
      "\u001b[34mimport\u001b[39;49;00m \u001b[04m\u001b[36mtorch.utils.data\u001b[39;49;00m\r\n",
      "\r\n",
      "\u001b[34mfrom\u001b[39;49;00m \u001b[04m\u001b[36mmodel\u001b[39;49;00m \u001b[34mimport\u001b[39;49;00m LSTMClassifier\r\n",
      "\r\n",
      "\u001b[34mfrom\u001b[39;49;00m \u001b[04m\u001b[36mutils\u001b[39;49;00m \u001b[34mimport\u001b[39;49;00m review_to_words, convert_and_pad\r\n",
      "\r\n",
      "\u001b[34mdef\u001b[39;49;00m \u001b[32mmodel_fn\u001b[39;49;00m(model_dir):\r\n",
      "    \u001b[33m\"\"\"Load the PyTorch model from the `model_dir` directory.\"\"\"\u001b[39;49;00m\r\n",
      "    \u001b[34mprint\u001b[39;49;00m(\u001b[33m\"\u001b[39;49;00m\u001b[33mLoading model.\u001b[39;49;00m\u001b[33m\"\u001b[39;49;00m)\r\n",
      "\r\n",
      "    \u001b[37m# First, load the parameters used to create the model.\u001b[39;49;00m\r\n",
      "    model_info = {}\r\n",
      "    model_info_path = os.path.join(model_dir, \u001b[33m'\u001b[39;49;00m\u001b[33mmodel_info.pth\u001b[39;49;00m\u001b[33m'\u001b[39;49;00m)\r\n",
      "    \u001b[34mwith\u001b[39;49;00m \u001b[36mopen\u001b[39;49;00m(model_info_path, \u001b[33m'\u001b[39;49;00m\u001b[33mrb\u001b[39;49;00m\u001b[33m'\u001b[39;49;00m) \u001b[34mas\u001b[39;49;00m f:\r\n",
      "        model_info = torch.load(f)\r\n",
      "\r\n",
      "    \u001b[34mprint\u001b[39;49;00m(\u001b[33m\"\u001b[39;49;00m\u001b[33mmodel_info: {}\u001b[39;49;00m\u001b[33m\"\u001b[39;49;00m.format(model_info))\r\n",
      "\r\n",
      "    \u001b[37m# Determine the device and construct the model.\u001b[39;49;00m\r\n",
      "    device = torch.device(\u001b[33m\"\u001b[39;49;00m\u001b[33mcuda\u001b[39;49;00m\u001b[33m\"\u001b[39;49;00m \u001b[34mif\u001b[39;49;00m torch.cuda.is_available() \u001b[34melse\u001b[39;49;00m \u001b[33m\"\u001b[39;49;00m\u001b[33mcpu\u001b[39;49;00m\u001b[33m\"\u001b[39;49;00m)\r\n",
      "    model = LSTMClassifier(model_info[\u001b[33m'\u001b[39;49;00m\u001b[33membedding_dim\u001b[39;49;00m\u001b[33m'\u001b[39;49;00m], model_info[\u001b[33m'\u001b[39;49;00m\u001b[33mhidden_dim\u001b[39;49;00m\u001b[33m'\u001b[39;49;00m], model_info[\u001b[33m'\u001b[39;49;00m\u001b[33mvocab_size\u001b[39;49;00m\u001b[33m'\u001b[39;49;00m])\r\n",
      "\r\n",
      "    \u001b[37m# Load the store model parameters.\u001b[39;49;00m\r\n",
      "    model_path = os.path.join(model_dir, \u001b[33m'\u001b[39;49;00m\u001b[33mmodel.pth\u001b[39;49;00m\u001b[33m'\u001b[39;49;00m)\r\n",
      "    \u001b[34mwith\u001b[39;49;00m \u001b[36mopen\u001b[39;49;00m(model_path, \u001b[33m'\u001b[39;49;00m\u001b[33mrb\u001b[39;49;00m\u001b[33m'\u001b[39;49;00m) \u001b[34mas\u001b[39;49;00m f:\r\n",
      "        model.load_state_dict(torch.load(f))\r\n",
      "\r\n",
      "    \u001b[37m# Load the saved word_dict.\u001b[39;49;00m\r\n",
      "    word_dict_path = os.path.join(model_dir, \u001b[33m'\u001b[39;49;00m\u001b[33mword_dict.pkl\u001b[39;49;00m\u001b[33m'\u001b[39;49;00m)\r\n",
      "    \u001b[34mwith\u001b[39;49;00m \u001b[36mopen\u001b[39;49;00m(word_dict_path, \u001b[33m'\u001b[39;49;00m\u001b[33mrb\u001b[39;49;00m\u001b[33m'\u001b[39;49;00m) \u001b[34mas\u001b[39;49;00m f:\r\n",
      "        model.word_dict = pickle.load(f)\r\n",
      "\r\n",
      "    model.to(device).eval()\r\n",
      "\r\n",
      "    \u001b[34mprint\u001b[39;49;00m(\u001b[33m\"\u001b[39;49;00m\u001b[33mDone loading model.\u001b[39;49;00m\u001b[33m\"\u001b[39;49;00m)\r\n",
      "    \u001b[34mreturn\u001b[39;49;00m model\r\n",
      "\r\n",
      "\u001b[34mdef\u001b[39;49;00m \u001b[32minput_fn\u001b[39;49;00m(serialized_input_data, content_type):\r\n",
      "    \u001b[34mprint\u001b[39;49;00m(\u001b[33m'\u001b[39;49;00m\u001b[33mDeserializing the input data.\u001b[39;49;00m\u001b[33m'\u001b[39;49;00m)\r\n",
      "    \u001b[34mif\u001b[39;49;00m content_type == \u001b[33m'\u001b[39;49;00m\u001b[33mtext/plain\u001b[39;49;00m\u001b[33m'\u001b[39;49;00m:\r\n",
      "        data = serialized_input_data.decode(\u001b[33m'\u001b[39;49;00m\u001b[33mutf-8\u001b[39;49;00m\u001b[33m'\u001b[39;49;00m)\r\n",
      "        \u001b[34mreturn\u001b[39;49;00m data\r\n",
      "    \u001b[34mraise\u001b[39;49;00m \u001b[36mException\u001b[39;49;00m(\u001b[33m'\u001b[39;49;00m\u001b[33mRequested unsupported ContentType in content_type: \u001b[39;49;00m\u001b[33m'\u001b[39;49;00m + content_type)\r\n",
      "\r\n",
      "\u001b[34mdef\u001b[39;49;00m \u001b[32moutput_fn\u001b[39;49;00m(prediction_output, accept):\r\n",
      "    \u001b[34mprint\u001b[39;49;00m(\u001b[33m'\u001b[39;49;00m\u001b[33mSerializing the generated output.\u001b[39;49;00m\u001b[33m'\u001b[39;49;00m)\r\n",
      "    \u001b[34mreturn\u001b[39;49;00m \u001b[36mstr\u001b[39;49;00m(prediction_output)\r\n",
      "\r\n",
      "\u001b[34mdef\u001b[39;49;00m \u001b[32mpredict_fn\u001b[39;49;00m(input_data, model):\r\n",
      "    \u001b[34mprint\u001b[39;49;00m(\u001b[33m'\u001b[39;49;00m\u001b[33mInferring sentiment of input data.\u001b[39;49;00m\u001b[33m'\u001b[39;49;00m)\r\n",
      "\r\n",
      "    device = torch.device(\u001b[33m\"\u001b[39;49;00m\u001b[33mcuda\u001b[39;49;00m\u001b[33m\"\u001b[39;49;00m \u001b[34mif\u001b[39;49;00m torch.cuda.is_available() \u001b[34melse\u001b[39;49;00m \u001b[33m\"\u001b[39;49;00m\u001b[33mcpu\u001b[39;49;00m\u001b[33m\"\u001b[39;49;00m)\r\n",
      "    \r\n",
      "    \u001b[34mif\u001b[39;49;00m model.word_dict \u001b[35mis\u001b[39;49;00m \u001b[36mNone\u001b[39;49;00m:\r\n",
      "        \u001b[34mraise\u001b[39;49;00m \u001b[36mException\u001b[39;49;00m(\u001b[33m'\u001b[39;49;00m\u001b[33mModel has not been loaded properly, no word_dict.\u001b[39;49;00m\u001b[33m'\u001b[39;49;00m)\r\n",
      "    \r\n",
      "    \u001b[37m# TODO: Process input_data so that it is ready to be sent to our model.\u001b[39;49;00m\r\n",
      "    \u001b[37m#       You should produce two variables:\u001b[39;49;00m\r\n",
      "    \u001b[37m#         data_X   - A sequence of length 500 which represents the converted review\u001b[39;49;00m\r\n",
      "    \u001b[37m#         data_len - The length of the review\u001b[39;49;00m\r\n",
      "    data_X ,data_len = convert_and_pad(model.word_dict, review_to_words(input_data))\r\n",
      "\r\n",
      "    \u001b[37m# Using data_X and data_len we construct an appropriate input tensor. Remember\u001b[39;49;00m\r\n",
      "    \u001b[37m# that our model expects input data of the form 'len, review[500]'.\u001b[39;49;00m\r\n",
      "    data_pack = np.hstack((data_len, data_X))\r\n",
      "    data_pack = data_pack.reshape(\u001b[34m1\u001b[39;49;00m, -\u001b[34m1\u001b[39;49;00m)\r\n",
      "    \r\n",
      "    data = torch.from_numpy(data_pack)\r\n",
      "    data = data.to(device)\r\n",
      "\r\n",
      "    \u001b[37m# Make sure to put the model into evaluation mode\u001b[39;49;00m\r\n",
      "    model.eval()\r\n",
      "\r\n",
      "    \u001b[37m# TODO: Compute the result of applying the model to the input data. The variable `result` should\u001b[39;49;00m\r\n",
      "    \u001b[37m#       be a numpy array which contains a single integer which is either 1 or 0\u001b[39;49;00m\r\n",
      "    \u001b[34mwith\u001b[39;49;00m torch.no_grad():\r\n",
      "        output = model.forward(data)\r\n",
      "        \r\n",
      "    result = np.round(output.numpy())\r\n",
      "\r\n",
      "    \u001b[34mreturn\u001b[39;49;00m result\r\n"
     ]
    }
   ],
   "source": [
    "!pygmentize serve/predict.py"
   ]
  },
  {
   "cell_type": "markdown",
   "metadata": {},
   "source": [
    "As mentioned earlier, the `model_fn` method is the same as the one provided in the training code and the `input_fn` and `output_fn` methods are very simple and your task will be to complete the `predict_fn` method. Make sure that you save the completed file as `predict.py` in the `serve` directory.\n",
    "\n",
    "**TODO**: Complete the `predict_fn()` method in the `serve/predict.py` file."
   ]
  },
  {
   "cell_type": "markdown",
   "metadata": {},
   "source": [
    "### Deploying the model\n",
    "\n",
    "Now that the custom inference code has been written, we will create and deploy our model. To begin with, we need to construct a new PyTorchModel object which points to the model artifacts created during training and also points to the inference code that we wish to use. Then we can call the deploy method to launch the deployment container.\n",
    "\n",
    "**NOTE**: The default behaviour for a deployed PyTorch model is to assume that any input passed to the predictor is a `numpy` array. In our case we want to send a string so we need to construct a simple wrapper around the `RealTimePredictor` class to accomodate simple strings. In a more complicated situation you may want to provide a serialization object, for example if you wanted to sent image data."
   ]
  },
  {
   "cell_type": "code",
   "execution_count": 88,
   "metadata": {},
   "outputs": [
    {
     "name": "stdout",
     "output_type": "stream",
     "text": [
      "---------------------------------------------------------------------------------------------------!"
     ]
    }
   ],
   "source": [
    "from sagemaker.predictor import RealTimePredictor\n",
    "from sagemaker.pytorch import PyTorchModel\n",
    "\n",
    "class StringPredictor(RealTimePredictor):\n",
    "    def __init__(self, endpoint_name, sagemaker_session):\n",
    "        super(StringPredictor, self).__init__(endpoint_name, sagemaker_session, content_type='text/plain')\n",
    "\n",
    "model = PyTorchModel(model_data=estimator.model_data,\n",
    "                     role = role,\n",
    "                     framework_version='0.4.0',\n",
    "                     entry_point='predict.py',\n",
    "                     source_dir='serve',\n",
    "                     predictor_cls=StringPredictor)\n",
    "predictor = model.deploy(initial_instance_count=1, instance_type='ml.m4.xlarge')"
   ]
  },
  {
   "cell_type": "markdown",
   "metadata": {},
   "source": [
    "### Testing the model\n",
    "\n",
    "Now that we have deployed our model with the custom inference code, we should test to see if everything is working. Here we test our model by loading the first `250` positive and negative reviews and send them to the endpoint, then collect the results. The reason for only sending some of the data is that the amount of time it takes for our model to process the input and then perform inference is quite long and so testing the entire data set would be prohibitive."
   ]
  },
  {
   "cell_type": "code",
   "execution_count": 89,
   "metadata": {},
   "outputs": [],
   "source": [
    "import glob\n",
    "\n",
    "def test_reviews(data_dir='../data/aclImdb', stop=250):\n",
    "    \n",
    "    results = []\n",
    "    ground = []\n",
    "    \n",
    "    # We make sure to test both positive and negative reviews    \n",
    "    for sentiment in ['pos', 'neg']:\n",
    "        \n",
    "        path = os.path.join(data_dir, 'test', sentiment, '*.txt')\n",
    "        files = glob.glob(path)\n",
    "        \n",
    "        files_read = 0\n",
    "        \n",
    "        print('Starting ', sentiment, ' files')\n",
    "        \n",
    "        # Iterate through the files and send them to the predictor\n",
    "        for f in files:\n",
    "            with open(f) as review:\n",
    "                # First, we store the ground truth (was the review positive or negative)\n",
    "                if sentiment == 'pos':\n",
    "                    ground.append(1)\n",
    "                else:\n",
    "                    ground.append(0)\n",
    "                # Read in the review and convert to 'utf-8' for transmission via HTTP\n",
    "                review_input = review.read().encode('utf-8')\n",
    "                # Send the review to the predictor and store the results\n",
    "                results.append(int(predictor.predict(review_input)))\n",
    "                \n",
    "            # Sending reviews to our endpoint one at a time takes a while so we\n",
    "            # only send a small number of reviews\n",
    "            files_read += 1\n",
    "            if files_read == stop:\n",
    "                break\n",
    "            \n",
    "    return ground, results"
   ]
  },
  {
   "cell_type": "code",
   "execution_count": 90,
   "metadata": {},
   "outputs": [
    {
     "name": "stdout",
     "output_type": "stream",
     "text": [
      "Starting  pos  files\n",
      "Starting  neg  files\n"
     ]
    }
   ],
   "source": [
    "ground, results = test_reviews()"
   ]
  },
  {
   "cell_type": "code",
   "execution_count": 91,
   "metadata": {},
   "outputs": [
    {
     "data": {
      "text/plain": [
       "0.818"
      ]
     },
     "execution_count": 91,
     "metadata": {},
     "output_type": "execute_result"
    }
   ],
   "source": [
    "from sklearn.metrics import accuracy_score\n",
    "accuracy_score(ground, results)"
   ]
  },
  {
   "cell_type": "markdown",
   "metadata": {},
   "source": [
    "As an additional test, we can try sending the `test_review` that we looked at earlier."
   ]
  },
  {
   "cell_type": "code",
   "execution_count": 92,
   "metadata": {},
   "outputs": [
    {
     "data": {
      "text/plain": [
       "b'1'"
      ]
     },
     "execution_count": 92,
     "metadata": {},
     "output_type": "execute_result"
    }
   ],
   "source": [
    "predictor.predict(test_review)"
   ]
  },
  {
   "cell_type": "markdown",
   "metadata": {},
   "source": [
    "Now that we know our endpoint is working as expected, we can set up the web page that will interact with it. If you don't have time to finish the project now, make sure to skip down to the end of this notebook and shut down your endpoint. You can deploy it again when you come back."
   ]
  },
  {
   "cell_type": "markdown",
   "metadata": {},
   "source": [
    "## Step 7 (again): Use the model for the web app\n",
    "\n",
    "> **TODO:** This entire section and the next contain tasks for you to complete, mostly using the AWS console.\n",
    "\n",
    "So far we have been accessing our model endpoint by constructing a predictor object which uses the endpoint and then just using the predictor object to perform inference. What if we wanted to create a web app which accessed our model? The way things are set up currently makes that not possible since in order to access a SageMaker endpoint the app would first have to authenticate with AWS using an IAM role which included access to SageMaker endpoints. However, there is an easier way! We just need to use some additional AWS services.\n",
    "\n",
    "<img src=\"Web App Diagram.svg\">\n",
    "\n",
    "The diagram above gives an overview of how the various services will work together. On the far right is the model which we trained above and which is deployed using SageMaker. On the far left is our web app that collects a user's movie review, sends it off and expects a positive or negative sentiment in return.\n",
    "\n",
    "In the middle is where some of the magic happens. We will construct a Lambda function, which you can think of as a straightforward Python function that can be executed whenever a specified event occurs. We will give this function permission to send and recieve data from a SageMaker endpoint.\n",
    "\n",
    "Lastly, the method we will use to execute the Lambda function is a new endpoint that we will create using API Gateway. This endpoint will be a url that listens for data to be sent to it. Once it gets some data it will pass that data on to the Lambda function and then return whatever the Lambda function returns. Essentially it will act as an interface that lets our web app communicate with the Lambda function.\n",
    "\n",
    "### Setting up a Lambda function\n",
    "\n",
    "The first thing we are going to do is set up a Lambda function. This Lambda function will be executed whenever our public API has data sent to it. When it is executed it will receive the data, perform any sort of processing that is required, send the data (the review) to the SageMaker endpoint we've created and then return the result.\n",
    "\n",
    "#### Part A: Create an IAM Role for the Lambda function\n",
    "\n",
    "Since we want the Lambda function to call a SageMaker endpoint, we need to make sure that it has permission to do so. To do this, we will construct a role that we can later give the Lambda function.\n",
    "\n",
    "Using the AWS Console, navigate to the **IAM** page and click on **Roles**. Then, click on **Create role**. Make sure that the **AWS service** is the type of trusted entity selected and choose **Lambda** as the service that will use this role, then click **Next: Permissions**.\n",
    "\n",
    "In the search box type `sagemaker` and select the check box next to the **AmazonSageMakerFullAccess** policy. Then, click on **Next: Review**.\n",
    "\n",
    "Lastly, give this role a name. Make sure you use a name that you will remember later on, for example `LambdaSageMakerRole`. Then, click on **Create role**.\n",
    "\n",
    "#### Part B: Create a Lambda function\n",
    "\n",
    "Now it is time to actually create the Lambda function.\n",
    "\n",
    "Using the AWS Console, navigate to the AWS Lambda page and click on **Create a function**. When you get to the next page, make sure that **Author from scratch** is selected. Now, name your Lambda function, using a name that you will remember later on, for example `sentiment_analysis_func`. Make sure that the **Python 3.6** runtime is selected and then choose the role that you created in the previous part. Then, click on **Create Function**.\n",
    "\n",
    "On the next page you will see some information about the Lambda function you've just created. If you scroll down you should see an editor in which you can write the code that will be executed when your Lambda function is triggered. In our example, we will use the code below. \n",
    "\n",
    "```python\n",
    "# We need to use the low-level library to interact with SageMaker since the SageMaker API\n",
    "# is not available natively through Lambda.\n",
    "import boto3\n",
    "\n",
    "def lambda_handler(event, context):\n",
    "\n",
    "    # The SageMaker runtime is what allows us to invoke the endpoint that we've created.\n",
    "    runtime = boto3.Session().client('sagemaker-runtime')\n",
    "\n",
    "    # Now we use the SageMaker runtime to invoke our endpoint, sending the review we were given\n",
    "    response = runtime.invoke_endpoint(EndpointName = '**ENDPOINT NAME HERE**',    # The name of the endpoint we created\n",
    "                                       ContentType = 'text/plain',                 # The data format that is expected\n",
    "                                       Body = event['body'])                       # The actual review\n",
    "\n",
    "    # The response is an HTTP response whose body contains the result of our inference\n",
    "    result = response['Body'].read().decode('utf-8')\n",
    "\n",
    "    return {\n",
    "        'statusCode' : 200,\n",
    "        'headers' : { 'Content-Type' : 'text/plain', 'Access-Control-Allow-Origin' : '*' },\n",
    "        'body' : result\n",
    "    }\n",
    "```\n",
    "\n",
    "Once you have copy and pasted the code above into the Lambda code editor, replace the `**ENDPOINT NAME HERE**` portion with the name of the endpoint that we deployed earlier. You can determine the name of the endpoint using the code cell below."
   ]
  },
  {
   "cell_type": "code",
   "execution_count": 93,
   "metadata": {},
   "outputs": [
    {
     "data": {
      "text/plain": [
       "'sagemaker-pytorch-2019-11-18-19-09-41-626'"
      ]
     },
     "execution_count": 93,
     "metadata": {},
     "output_type": "execute_result"
    }
   ],
   "source": [
    "predictor.endpoint"
   ]
  },
  {
   "cell_type": "markdown",
   "metadata": {},
   "source": [
    "Once you have added the endpoint name to the Lambda function, click on **Save**. Your Lambda function is now up and running. Next we need to create a way for our web app to execute the Lambda function.\n",
    "\n",
    "### Setting up API Gateway\n",
    "\n",
    "Now that our Lambda function is set up, it is time to create a new API using API Gateway that will trigger the Lambda function we have just created.\n",
    "\n",
    "Using AWS Console, navigate to **Amazon API Gateway** and then click on **Get started**.\n",
    "\n",
    "On the next page, make sure that **New API** is selected and give the new api a name, for example, `sentiment_analysis_api`. Then, click on **Create API**.\n",
    "\n",
    "Now we have created an API, however it doesn't currently do anything. What we want it to do is to trigger the Lambda function that we created earlier.\n",
    "\n",
    "Select the **Actions** dropdown menu and click **Create Method**. A new blank method will be created, select its dropdown menu and select **POST**, then click on the check mark beside it.\n",
    "\n",
    "For the integration point, make sure that **Lambda Function** is selected and click on the **Use Lambda Proxy integration**. This option makes sure that the data that is sent to the API is then sent directly to the Lambda function with no processing. It also means that the return value must be a proper response object as it will also not be processed by API Gateway.\n",
    "\n",
    "Type the name of the Lambda function you created earlier into the **Lambda Function** text entry box and then click on **Save**. Click on **OK** in the pop-up box that then appears, giving permission to API Gateway to invoke the Lambda function you created.\n",
    "\n",
    "The last step in creating the API Gateway is to select the **Actions** dropdown and click on **Deploy API**. You will need to create a new Deployment stage and name it anything you like, for example `prod`.\n",
    "\n",
    "You have now successfully set up a public API to access your SageMaker model. Make sure to copy or write down the URL provided to invoke your newly created public API as this will be needed in the next step. This URL can be found at the top of the page, highlighted in blue next to the text **Invoke URL**."
   ]
  },
  {
   "cell_type": "markdown",
   "metadata": {},
   "source": [
    "## Step 4: Deploying our web app\n",
    "\n",
    "Now that we have a publicly available API, we can start using it in a web app. For our purposes, we have provided a simple static html file which can make use of the public api you created earlier.\n",
    "\n",
    "In the `website` folder there should be a file called `index.html`. Download the file to your computer and open that file up in a text editor of your choice. There should be a line which contains **\\*\\*REPLACE WITH PUBLIC API URL\\*\\***. Replace this string with the url that you wrote down in the last step and then save the file.\n",
    "\n",
    "Now, if you open `index.html` on your local computer, your browser will behave as a local web server and you can use the provided site to interact with your SageMaker model.\n",
    "\n",
    "If you'd like to go further, you can host this html file anywhere you'd like, for example using github or hosting a static site on Amazon's S3. Once you have done this you can share the link with anyone you'd like and have them play with it too!\n",
    "\n",
    "> **Important Note** In order for the web app to communicate with the SageMaker endpoint, the endpoint has to actually be deployed and running. This means that you are paying for it. Make sure that the endpoint is running when you want to use the web app but that you shut it down when you don't need it, otherwise you will end up with a surprisingly large AWS bill.\n",
    "\n",
    "**TODO:** Make sure that you include the edited `index.html` file in your project submission."
   ]
  },
  {
   "cell_type": "markdown",
   "metadata": {},
   "source": [
    "Now that your web app is working, trying playing around with it and see how well it works.\n",
    "\n",
    "**Question**: Give an example of a review that you entered into your web app. What was the predicted sentiment of your example review?"
   ]
  },
  {
   "cell_type": "markdown",
   "metadata": {},
   "source": [
    "**Answer:** Entereted: The performances of the entire crew are amazing, truely a great movie. Prediction: Positive. "
   ]
  },
  {
   "cell_type": "markdown",
   "metadata": {},
   "source": [
    "### Delete the endpoint\n",
    "\n",
    "Remember to always shut down your endpoint if you are no longer using it. You are charged for the length of time that the endpoint is running so if you forget and leave it on you could end up with an unexpectedly large bill."
   ]
  },
  {
   "cell_type": "code",
   "execution_count": 94,
   "metadata": {},
   "outputs": [],
   "source": [
    "predictor.delete_endpoint()"
   ]
  },
  {
   "cell_type": "code",
   "execution_count": null,
   "metadata": {},
   "outputs": [],
   "source": []
  }
 ],
 "metadata": {
  "kernelspec": {
   "display_name": "conda_pytorch_p36",
   "language": "python",
   "name": "conda_pytorch_p36"
  },
  "language_info": {
   "codemirror_mode": {
    "name": "ipython",
    "version": 3
   },
   "file_extension": ".py",
   "mimetype": "text/x-python",
   "name": "python",
   "nbconvert_exporter": "python",
   "pygments_lexer": "ipython3",
   "version": "3.6.5"
  }
 },
 "nbformat": 4,
 "nbformat_minor": 2
}
